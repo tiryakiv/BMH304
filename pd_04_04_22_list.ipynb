{
  "nbformat": 4,
  "nbformat_minor": 0,
  "metadata": {
    "colab": {
      "name": "programlama_dilleri_4nis22.ipynb",
      "provenance": [],
      "collapsed_sections": []
    },
    "kernelspec": {
      "name": "python3",
      "display_name": "Python 3"
    },
    "language_info": {
      "name": "python"
    }
  },
  "cells": [
    {
      "cell_type": "markdown",
      "source": [
        "Programlama dilleri dersi Colab defteri"
      ],
      "metadata": {
        "id": "UFaY6VBIHKMv"
      }
    },
    {
      "cell_type": "code",
      "source": [
        "!python --version"
      ],
      "metadata": {
        "colab": {
          "base_uri": "https://localhost:8080/"
        },
        "id": "559R4oYufuL8",
        "outputId": "d1d486f5-cb66-4bc6-84a1-8700efad65c2"
      },
      "execution_count": null,
      "outputs": [
        {
          "output_type": "stream",
          "name": "stdout",
          "text": [
            "Python 3.7.12\n"
          ]
        }
      ]
    },
    {
      "cell_type": "code",
      "source": [
        "# list: sıralı, değiştirilebilir ve aynı elemanı birden fazla içerebilen dizi\n",
        "\n",
        "mylist=[\"elma\",\"armut\",\"cilek\",\"ayva\",\"kivi\"]\n",
        "print(mylist)\n",
        "\n",
        "mylist2=list()\n",
        "print(mylist2)"
      ],
      "metadata": {
        "id": "mwQKIsifpxmj",
        "colab": {
          "base_uri": "https://localhost:8080/"
        },
        "outputId": "877898d7-113c-4e84-adcf-d7bff326baff"
      },
      "execution_count": 33,
      "outputs": [
        {
          "output_type": "stream",
          "name": "stdout",
          "text": [
            "['elma', 'armut', 'cilek', 'ayva', 'kivi']\n",
            "[]\n"
          ]
        }
      ]
    },
    {
      "cell_type": "code",
      "source": [
        "mylist=[\"elma\",True, 3]\n",
        "mylist3=[\"elma\",2,\"elma\"]"
      ],
      "metadata": {
        "id": "QPEPget-6X7Z"
      },
      "execution_count": 34,
      "outputs": []
    },
    {
      "cell_type": "code",
      "source": [
        "#liste elemanlarına erişim\n",
        "item=mylist3[0]\n",
        "print(item)\n",
        "item=mylist3[-2]\n",
        "print(item)"
      ],
      "metadata": {
        "colab": {
          "base_uri": "https://localhost:8080/"
        },
        "id": "BlWcUpv56uFK",
        "outputId": "8dec27d2-8bec-473d-9eb6-b3cf4490c019"
      },
      "execution_count": 5,
      "outputs": [
        {
          "output_type": "stream",
          "name": "stdout",
          "text": [
            "elma\n",
            "2\n"
          ]
        }
      ]
    },
    {
      "cell_type": "code",
      "source": [
        "for i in mylist3:\n",
        "  print(i)"
      ],
      "metadata": {
        "colab": {
          "base_uri": "https://localhost:8080/"
        },
        "id": "x5_dHPo67FzS",
        "outputId": "67dbd3f2-fdf0-4489-f10d-2b160499bbf6"
      },
      "execution_count": 7,
      "outputs": [
        {
          "output_type": "stream",
          "name": "stdout",
          "text": [
            "elma\n",
            "2\n",
            "elma\n"
          ]
        }
      ]
    },
    {
      "cell_type": "code",
      "source": [
        "if \"elma\" in mylist3:\n",
        "    print(\"yes\")\n",
        "else:\n",
        "  print(\"no\")"
      ],
      "metadata": {
        "colab": {
          "base_uri": "https://localhost:8080/"
        },
        "id": "uYnSbdRH7iN6",
        "outputId": "23f4f66b-e328-4649-cf7e-d3179e8dc888"
      },
      "execution_count": 8,
      "outputs": [
        {
          "output_type": "stream",
          "name": "stdout",
          "text": [
            "yes\n"
          ]
        }
      ]
    },
    {
      "cell_type": "code",
      "source": [
        "#listenin eleman sayısı\n",
        "print(len(mylist))\n",
        "\n",
        "#en sona bir eleman ekleme\n",
        "mylist.append('muz')\n",
        "print(mylist)\n",
        "\n",
        "#belli bir lokasyona eleman ekleme\n",
        "mylist.insert(0,'avokado')\n",
        "print(mylist)\n",
        "\n",
        "#listeden en son elemanı çıkarma\n",
        "mylist.pop()\n",
        "print(mylist)"
      ],
      "metadata": {
        "colab": {
          "base_uri": "https://localhost:8080/"
        },
        "id": "T271Yw5e7sp6",
        "outputId": "f4b481d4-a991-4e1c-cf4e-9e20edfa838f"
      },
      "execution_count": 9,
      "outputs": [
        {
          "output_type": "stream",
          "name": "stdout",
          "text": [
            "3\n",
            "['elma', True, 3, 'muz']\n",
            "['avokado', 'elma', True, 3, 'muz']\n",
            "['avokado', 'elma', True, 3]\n"
          ]
        }
      ]
    },
    {
      "cell_type": "code",
      "source": [
        "# listeden eleman çıkarma\n",
        "mylist.remove(\"avokado\")\n",
        "\n",
        "print(mylist)"
      ],
      "metadata": {
        "id": "KESmwEmAVDEo",
        "colab": {
          "base_uri": "https://localhost:8080/"
        },
        "outputId": "c6f8590e-72c2-4185-ca96-4149053ac6fb"
      },
      "execution_count": 10,
      "outputs": [
        {
          "output_type": "stream",
          "name": "stdout",
          "text": [
            "['elma', True, 3]\n"
          ]
        }
      ]
    },
    {
      "cell_type": "code",
      "source": [
        "mylist.clear()\n",
        "print(mylist)"
      ],
      "metadata": {
        "colab": {
          "base_uri": "https://localhost:8080/"
        },
        "id": "ChF49ECg8TFi",
        "outputId": "10f48086-4fa9-4b21-8809-1580c57de2c2"
      },
      "execution_count": 11,
      "outputs": [
        {
          "output_type": "stream",
          "name": "stdout",
          "text": [
            "[]\n"
          ]
        }
      ]
    },
    {
      "cell_type": "code",
      "source": [
        "mylist.reverse()\n",
        "print(mylist3)"
      ],
      "metadata": {
        "colab": {
          "base_uri": "https://localhost:8080/"
        },
        "id": "LnZu0N_s8X1i",
        "outputId": "0d917acb-b96b-49fb-c39b-edeb3f85f029"
      },
      "execution_count": 13,
      "outputs": [
        {
          "output_type": "stream",
          "name": "stdout",
          "text": [
            "['elma', 2, 'elma']\n"
          ]
        }
      ]
    },
    {
      "cell_type": "code",
      "source": [
        "mylist=[\"elma\",\"armut\",\"cilek\",\"ayva\",\"kivi\"]\n",
        "\n",
        "mylist.sort()\n",
        "print(mylist)"
      ],
      "metadata": {
        "colab": {
          "base_uri": "https://localhost:8080/"
        },
        "id": "Mvw5mMgU8hhi",
        "outputId": "f68944a3-216a-461b-f5b4-126618148bd4"
      },
      "execution_count": 14,
      "outputs": [
        {
          "output_type": "stream",
          "name": "stdout",
          "text": [
            "['armut', 'ayva', 'cilek', 'elma', 'kivi']\n"
          ]
        }
      ]
    },
    {
      "cell_type": "code",
      "source": [
        "mylist=[\"elma\",\"armut\",\"cilek\",\"ayva\",\"kivi\"]\n",
        "print(mylist)\n",
        "\n",
        "newlist=sorted(mylist)\n",
        "print(mylist)\n",
        "print(newlist)"
      ],
      "metadata": {
        "colab": {
          "base_uri": "https://localhost:8080/"
        },
        "id": "mkiEgqSC8vGa",
        "outputId": "7b1440a6-7b7a-43bd-cf73-e9f975a54b4b"
      },
      "execution_count": 16,
      "outputs": [
        {
          "output_type": "stream",
          "name": "stdout",
          "text": [
            "['elma', 'armut', 'cilek', 'ayva', 'kivi']\n",
            "['elma', 'armut', 'cilek', 'ayva', 'kivi']\n",
            "['armut', 'ayva', 'cilek', 'elma', 'kivi']\n"
          ]
        }
      ]
    },
    {
      "cell_type": "code",
      "source": [
        "#yeni dizi başlatma\n",
        "newlist=[0]*5\n",
        "print(newlist)"
      ],
      "metadata": {
        "colab": {
          "base_uri": "https://localhost:8080/"
        },
        "id": "U1YUz0vw90-i",
        "outputId": "78f976c5-27de-42ad-ef36-a7fb5da965e2"
      },
      "execution_count": 17,
      "outputs": [
        {
          "output_type": "stream",
          "name": "stdout",
          "text": [
            "[0, 0, 0, 0, 0]\n"
          ]
        }
      ]
    },
    {
      "cell_type": "code",
      "source": [
        "#iki dizinin eklenmesi\n",
        "list2=[1,2,3,4,5]\n",
        "newlist1=newlist+list2\n",
        "print(newlist1)"
      ],
      "metadata": {
        "colab": {
          "base_uri": "https://localhost:8080/"
        },
        "id": "EQBoDVA996XK",
        "outputId": "b85133bc-116f-4366-e73d-0b3e8c066d99"
      },
      "execution_count": 18,
      "outputs": [
        {
          "output_type": "stream",
          "name": "stdout",
          "text": [
            "[0, 0, 0, 0, 0, 1, 2, 3, 4, 5]\n"
          ]
        }
      ]
    },
    {
      "cell_type": "code",
      "source": [
        "#slicing (dilimleme) ilk index dahil son dahil değil\n",
        "mylist=[\"elma\",\"armut\",\"cilek\",\"ayva\",\"kivi\"]\n",
        "\n",
        "a=mylist[0:2]\n",
        "print(a)"
      ],
      "metadata": {
        "colab": {
          "base_uri": "https://localhost:8080/"
        },
        "id": "EUafmczzawJw",
        "outputId": "8244d71c-e192-4dbe-9184-c4952a9bc011"
      },
      "execution_count": null,
      "outputs": [
        {
          "output_type": "stream",
          "name": "stdout",
          "text": [
            "['elma', 'armut']\n"
          ]
        }
      ]
    },
    {
      "cell_type": "code",
      "source": [
        "print(mylist[:])"
      ],
      "metadata": {
        "colab": {
          "base_uri": "https://localhost:8080/"
        },
        "id": "AfQ4eU7F-QRK",
        "outputId": "7e64fae1-18bd-43da-a036-7f55f2048fa1"
      },
      "execution_count": 19,
      "outputs": [
        {
          "output_type": "stream",
          "name": "stdout",
          "text": [
            "['elma', 'armut', 'cilek', 'ayva', 'kivi']\n"
          ]
        }
      ]
    },
    {
      "cell_type": "code",
      "source": [
        "#adım indeksi\n",
        "print(mylist[::2])"
      ],
      "metadata": {
        "colab": {
          "base_uri": "https://localhost:8080/"
        },
        "id": "n-uMIt_k-Wvw",
        "outputId": "e1554f42-bedf-4373-8d75-092bfaccbb13"
      },
      "execution_count": 20,
      "outputs": [
        {
          "output_type": "stream",
          "name": "stdout",
          "text": [
            "['elma', 'cilek', 'kivi']\n"
          ]
        }
      ]
    },
    {
      "cell_type": "code",
      "source": [
        "print(mylist[::-1])"
      ],
      "metadata": {
        "colab": {
          "base_uri": "https://localhost:8080/"
        },
        "id": "iW2oTbBd-bxe",
        "outputId": "d92fae4f-5d5e-4b4c-b4fd-1b68cf77c1c9"
      },
      "execution_count": 21,
      "outputs": [
        {
          "output_type": "stream",
          "name": "stdout",
          "text": [
            "['kivi', 'ayva', 'cilek', 'armut', 'elma']\n"
          ]
        }
      ]
    },
    {
      "cell_type": "code",
      "source": [
        "#list kopyalama\n",
        "mylist=[\"elma\",\"armut\",\"cilek\",\"ayva\",\"kivi\"]\n",
        "\n",
        "kopya_liste=mylist\n",
        "\n",
        "print(kopya_liste)"
      ],
      "metadata": {
        "colab": {
          "base_uri": "https://localhost:8080/"
        },
        "id": "s2D60Tk2-iPO",
        "outputId": "901e80e1-0600-4bd6-821a-0cf9f7e09891"
      },
      "execution_count": 22,
      "outputs": [
        {
          "output_type": "stream",
          "name": "stdout",
          "text": [
            "['elma', 'armut', 'cilek', 'ayva', 'kivi']\n"
          ]
        }
      ]
    },
    {
      "cell_type": "code",
      "source": [
        "#list kopyalama DİKKAT\n",
        "mylist=[\"elma\",\"armut\",\"cilek\",\"ayva\",\"kivi\"]\n",
        "\n",
        "kopya_liste=mylist\n",
        "kopya_liste.append(\"limon\")\n",
        "\n",
        "print(kopya_liste)\n",
        "print(mylist)"
      ],
      "metadata": {
        "colab": {
          "base_uri": "https://localhost:8080/"
        },
        "id": "rZcMWqO7-yK2",
        "outputId": "98c0a560-4c45-4a51-d4b3-53b86b296240"
      },
      "execution_count": 23,
      "outputs": [
        {
          "output_type": "stream",
          "name": "stdout",
          "text": [
            "['elma', 'armut', 'cilek', 'ayva', 'kivi', 'limon']\n",
            "['elma', 'armut', 'cilek', 'ayva', 'kivi', 'limon']\n"
          ]
        }
      ]
    },
    {
      "cell_type": "code",
      "source": [
        "#gerçek list kopyalama işlemi için 1. yöntem\n",
        "mylist=[\"elma\",\"armut\",\"cilek\",\"ayva\",\"kivi\"]\n",
        "\n",
        "kopya_liste=mylist.copy()\n",
        "kopya_liste.append(\"limon\")\n",
        "\n",
        "print(kopya_liste)\n",
        "print(mylist)"
      ],
      "metadata": {
        "colab": {
          "base_uri": "https://localhost:8080/"
        },
        "id": "ZcmnEoKG-8Os",
        "outputId": "1fa4d83a-beb0-4842-94f1-754694d8721c"
      },
      "execution_count": 24,
      "outputs": [
        {
          "output_type": "stream",
          "name": "stdout",
          "text": [
            "['elma', 'armut', 'cilek', 'ayva', 'kivi', 'limon']\n",
            "['elma', 'armut', 'cilek', 'ayva', 'kivi']\n"
          ]
        }
      ]
    },
    {
      "cell_type": "code",
      "source": [
        "#gerçek list kopyalama işlemi için 2. yöntem\n",
        "mylist=[\"elma\",\"armut\",\"cilek\",\"ayva\",\"kivi\"]\n",
        "\n",
        "kopya_liste=list(mylist)\n",
        "kopya_liste.append(\"limon\")\n",
        "\n",
        "print(kopya_liste)\n",
        "print(mylist)"
      ],
      "metadata": {
        "colab": {
          "base_uri": "https://localhost:8080/"
        },
        "id": "CfAUpPbP_Pvd",
        "outputId": "475696f0-e6a4-49ac-e563-34da8a0c6ec8"
      },
      "execution_count": 25,
      "outputs": [
        {
          "output_type": "stream",
          "name": "stdout",
          "text": [
            "['elma', 'armut', 'cilek', 'ayva', 'kivi', 'limon']\n",
            "['elma', 'armut', 'cilek', 'ayva', 'kivi']\n"
          ]
        }
      ]
    },
    {
      "cell_type": "code",
      "source": [
        "#gerçek list kopyalama işlemi için 3. yöntem\n",
        "mylist=[\"elma\",\"armut\",\"cilek\",\"ayva\",\"kivi\"]\n",
        "\n",
        "kopya_liste=mylist[:]\n",
        "kopya_liste.append(\"limon\")\n",
        "\n",
        "print(kopya_liste)\n",
        "print(mylist)"
      ],
      "metadata": {
        "colab": {
          "base_uri": "https://localhost:8080/"
        },
        "id": "4E87F33o_XH-",
        "outputId": "0a420536-67f2-4a64-eaf0-d81144dcaa26"
      },
      "execution_count": 26,
      "outputs": [
        {
          "output_type": "stream",
          "name": "stdout",
          "text": [
            "['elma', 'armut', 'cilek', 'ayva', 'kivi', 'limon']\n",
            "['elma', 'armut', 'cilek', 'ayva', 'kivi']\n"
          ]
        }
      ]
    },
    {
      "cell_type": "code",
      "source": [
        "#list elemanlarının herbirinin karesini alma \n",
        "mylist=[1,2,3,4,5,6]\n",
        "b=[x*x for x in mylist]\n",
        "\n",
        "print(mylist)\n",
        "print(b)"
      ],
      "metadata": {
        "colab": {
          "base_uri": "https://localhost:8080/"
        },
        "id": "ZsvrQAwh_4er",
        "outputId": "20ac03ea-062a-45a3-f7bf-92743ab039fc"
      },
      "execution_count": 29,
      "outputs": [
        {
          "output_type": "stream",
          "name": "stdout",
          "text": [
            "[1, 2, 3, 4, 5, 6]\n",
            "[1, 4, 9, 16, 25, 36]\n"
          ]
        }
      ]
    },
    {
      "cell_type": "code",
      "source": [
        "#son"
      ],
      "metadata": {
        "id": "sLt7hpSDCglO"
      },
      "execution_count": null,
      "outputs": []
    }
  ]
}
