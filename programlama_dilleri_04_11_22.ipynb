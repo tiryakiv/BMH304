{
  "nbformat": 4,
  "nbformat_minor": 0,
  "metadata": {
    "colab": {
      "name": "programlama_dilleri_11nis22.ipynb",
      "provenance": [],
      "collapsed_sections": []
    },
    "kernelspec": {
      "name": "python3",
      "display_name": "Python 3"
    },
    "language_info": {
      "name": "python"
    }
  },
  "cells": [
    {
      "cell_type": "markdown",
      "source": [
        "Programlama dilleri dersi Colab defteri"
      ],
      "metadata": {
        "id": "UFaY6VBIHKMv"
      }
    },
    {
      "cell_type": "code",
      "source": [
        "!python --version"
      ],
      "metadata": {
        "colab": {
          "base_uri": "https://localhost:8080/"
        },
        "id": "559R4oYufuL8",
        "outputId": "08b39a69-2f07-406a-8d3a-f931d902696f"
      },
      "execution_count": null,
      "outputs": [
        {
          "output_type": "stream",
          "name": "stdout",
          "text": [
            "Python 3.7.13\n"
          ]
        }
      ]
    },
    {
      "cell_type": "code",
      "source": [
        "# list: sıralı, değiştirilebilir ve aynı elemanı birden fazla içerebilen dizi\n",
        "# tuple: sıralı, değiştirilemeyen ve aynı elemanı birden fazla içerebilen dizi\n",
        "\n",
        "mytuple=(\"elma\",\"armut\",28,\"ayva\")\n",
        "print(mytuple)"
      ],
      "metadata": {
        "id": "mwQKIsifpxmj",
        "colab": {
          "base_uri": "https://localhost:8080/"
        },
        "outputId": "ea13be12-4537-4183-8400-a2aaa4cb2ac0"
      },
      "execution_count": null,
      "outputs": [
        {
          "output_type": "stream",
          "name": "stdout",
          "text": [
            "('elma', 'armut', 28, 'ayva')\n"
          ]
        }
      ]
    },
    {
      "cell_type": "code",
      "source": [
        "mytuple=\"elma\",\"armut\",28,\"ayva\"\n",
        "print(mytuple)"
      ],
      "metadata": {
        "colab": {
          "base_uri": "https://localhost:8080/"
        },
        "id": "dPvyLUgXS6BW",
        "outputId": "797d6683-68a9-4760-e213-b75ef3881609"
      },
      "execution_count": null,
      "outputs": [
        {
          "output_type": "stream",
          "name": "stdout",
          "text": [
            "('elma', 'armut', 28, 'ayva')\n"
          ]
        }
      ]
    },
    {
      "cell_type": "code",
      "source": [
        "mytuple=(\"elma\")\n",
        "print(type(mytuple))"
      ],
      "metadata": {
        "colab": {
          "base_uri": "https://localhost:8080/"
        },
        "id": "UCeLg21sUiXt",
        "outputId": "3d2f084d-1981-4ee2-8707-4817fdc41c17"
      },
      "execution_count": null,
      "outputs": [
        {
          "output_type": "stream",
          "name": "stdout",
          "text": [
            "<class 'str'>\n"
          ]
        }
      ]
    },
    {
      "cell_type": "code",
      "source": [
        "mytuple=(\"elma\",)\n",
        "print(type(mytuple))"
      ],
      "metadata": {
        "colab": {
          "base_uri": "https://localhost:8080/"
        },
        "id": "MWTzSChmU0DD",
        "outputId": "63380178-67e6-4b4e-c1b7-b497480ba637"
      },
      "execution_count": null,
      "outputs": [
        {
          "output_type": "stream",
          "name": "stdout",
          "text": [
            "<class 'tuple'>\n"
          ]
        }
      ]
    },
    {
      "cell_type": "code",
      "source": [
        "mytuple=tuple([\"elma\",\"armut\",28,\"ayva\"])\n",
        "print(mytuple)\n",
        "\n",
        "item=mytuple[0]\n",
        "print(item)\n",
        "item=mytuple[-1]\n",
        "print(item)"
      ],
      "metadata": {
        "colab": {
          "base_uri": "https://localhost:8080/"
        },
        "id": "ibAusCz1VFFL",
        "outputId": "0673c2f1-09c1-475b-e154-cc160077af3d"
      },
      "execution_count": null,
      "outputs": [
        {
          "output_type": "stream",
          "name": "stdout",
          "text": [
            "('elma', 'armut', 28, 'ayva')\n",
            "elma\n",
            "ayva\n"
          ]
        }
      ]
    },
    {
      "cell_type": "code",
      "source": [
        "mytuple[0]=\"muz\""
      ],
      "metadata": {
        "colab": {
          "base_uri": "https://localhost:8080/",
          "height": 166
        },
        "id": "i7kZRx20V4zh",
        "outputId": "443bc566-0728-41fd-d5be-1470d56fdc3f"
      },
      "execution_count": null,
      "outputs": [
        {
          "output_type": "error",
          "ename": "TypeError",
          "evalue": "ignored",
          "traceback": [
            "\u001b[0;31m---------------------------------------------------------------------------\u001b[0m",
            "\u001b[0;31mTypeError\u001b[0m                                 Traceback (most recent call last)",
            "\u001b[0;32m<ipython-input-17-b68693df340e>\u001b[0m in \u001b[0;36m<module>\u001b[0;34m()\u001b[0m\n\u001b[0;32m----> 1\u001b[0;31m \u001b[0mmytuple\u001b[0m\u001b[0;34m[\u001b[0m\u001b[0;36m0\u001b[0m\u001b[0;34m]\u001b[0m\u001b[0;34m=\u001b[0m\u001b[0;34m\"muz\"\u001b[0m\u001b[0;34m\u001b[0m\u001b[0;34m\u001b[0m\u001b[0m\n\u001b[0m",
            "\u001b[0;31mTypeError\u001b[0m: 'tuple' object does not support item assignment"
          ]
        }
      ]
    },
    {
      "cell_type": "code",
      "source": [
        "for i in mytuple:\n",
        "  print(i)"
      ],
      "metadata": {
        "colab": {
          "base_uri": "https://localhost:8080/"
        },
        "id": "LwU2RjT4WF9h",
        "outputId": "231bde40-f7dc-428c-a597-4c8c124b7a8e"
      },
      "execution_count": null,
      "outputs": [
        {
          "output_type": "stream",
          "name": "stdout",
          "text": [
            "elma\n",
            "armut\n",
            "28\n",
            "ayva\n"
          ]
        }
      ]
    },
    {
      "cell_type": "code",
      "source": [
        "if \"elma\" in mytuple:\n",
        "  print(\"yes\")\n",
        "else:\n",
        "  print(\"no\")"
      ],
      "metadata": {
        "colab": {
          "base_uri": "https://localhost:8080/"
        },
        "id": "1E9kUBwqWP8A",
        "outputId": "719ca09e-63ad-4298-da58-0d94b1a087a9"
      },
      "execution_count": null,
      "outputs": [
        {
          "output_type": "stream",
          "name": "stdout",
          "text": [
            "yes\n"
          ]
        }
      ]
    },
    {
      "cell_type": "code",
      "source": [
        "mytuple=('e','l','m','a')\n",
        "print(len(mytuple))"
      ],
      "metadata": {
        "colab": {
          "base_uri": "https://localhost:8080/"
        },
        "id": "KHGNSs9YWNSo",
        "outputId": "d410d02b-ac00-47e0-d2ea-c85f161281f9"
      },
      "execution_count": null,
      "outputs": [
        {
          "output_type": "stream",
          "name": "stdout",
          "text": [
            "4\n"
          ]
        }
      ]
    },
    {
      "cell_type": "code",
      "source": [
        "print(mytuple.count('e'))"
      ],
      "metadata": {
        "colab": {
          "base_uri": "https://localhost:8080/"
        },
        "id": "CZFw_QAqW90Z",
        "outputId": "5f498550-33c7-473e-a4c8-3531b030901c"
      },
      "execution_count": null,
      "outputs": [
        {
          "output_type": "stream",
          "name": "stdout",
          "text": [
            "1\n"
          ]
        }
      ]
    },
    {
      "cell_type": "code",
      "source": [
        "print(mytuple.index('m'))"
      ],
      "metadata": {
        "colab": {
          "base_uri": "https://localhost:8080/"
        },
        "id": "jP6bIxbFW-Vn",
        "outputId": "3d85d70b-2295-4cec-ce16-12f7683e9490"
      },
      "execution_count": null,
      "outputs": [
        {
          "output_type": "stream",
          "name": "stdout",
          "text": [
            "2\n"
          ]
        }
      ]
    },
    {
      "cell_type": "code",
      "source": [
        "print(mytuple.index('o'))"
      ],
      "metadata": {
        "colab": {
          "base_uri": "https://localhost:8080/",
          "height": 166
        },
        "id": "9u7T5kdAW-o_",
        "outputId": "3538244b-6c7b-442f-83ec-5bb971a964df"
      },
      "execution_count": null,
      "outputs": [
        {
          "output_type": "error",
          "ename": "ValueError",
          "evalue": "ignored",
          "traceback": [
            "\u001b[0;31m---------------------------------------------------------------------------\u001b[0m",
            "\u001b[0;31mValueError\u001b[0m                                Traceback (most recent call last)",
            "\u001b[0;32m<ipython-input-24-2150483d5e7b>\u001b[0m in \u001b[0;36m<module>\u001b[0;34m()\u001b[0m\n\u001b[0;32m----> 1\u001b[0;31m \u001b[0mprint\u001b[0m\u001b[0;34m(\u001b[0m\u001b[0mmytuple\u001b[0m\u001b[0;34m.\u001b[0m\u001b[0mindex\u001b[0m\u001b[0;34m(\u001b[0m\u001b[0;34m'o'\u001b[0m\u001b[0;34m)\u001b[0m\u001b[0;34m)\u001b[0m\u001b[0;34m\u001b[0m\u001b[0;34m\u001b[0m\u001b[0m\n\u001b[0m",
            "\u001b[0;31mValueError\u001b[0m: tuple.index(x): x not in tuple"
          ]
        }
      ]
    },
    {
      "cell_type": "code",
      "source": [
        "mytuple=('e','l','m','a')\n",
        "mylist=list(mytuple)\n",
        "print(mylist)\n",
        "\n",
        "mytuple=tuple(mylist)\n",
        "print(mytuple)"
      ],
      "metadata": {
        "colab": {
          "base_uri": "https://localhost:8080/"
        },
        "id": "9R1Ys7xdXfcn",
        "outputId": "ef94fa25-5222-46c4-bbbf-449e8ea2463f"
      },
      "execution_count": null,
      "outputs": [
        {
          "output_type": "stream",
          "name": "stdout",
          "text": [
            "['e', 'l', 'm', 'a']\n",
            "('e', 'l', 'm', 'a')\n"
          ]
        }
      ]
    },
    {
      "cell_type": "code",
      "source": [
        "#slicing (dilimleme)\n",
        "a=(1,2,3,4,5,6,7,8)\n",
        "\n",
        "b=a[2:5]\n",
        "print(b)\n",
        "\n",
        "b=a[3:]\n",
        "print(b)\n",
        "\n",
        "b=a[3::2]\n",
        "print(b)"
      ],
      "metadata": {
        "colab": {
          "base_uri": "https://localhost:8080/"
        },
        "id": "HsSzM8aCXf0_",
        "outputId": "6fc16521-429e-4e6f-930c-17709f7987ab"
      },
      "execution_count": null,
      "outputs": [
        {
          "output_type": "stream",
          "name": "stdout",
          "text": [
            "(3, 4, 5)\n",
            "(4, 5, 6, 7, 8)\n",
            "(4, 6, 8)\n"
          ]
        }
      ]
    },
    {
      "cell_type": "code",
      "source": [
        "#unpacking\n",
        "mytuple= \"Ahmet\", 45,\"Ankara\"\n",
        "isim, yas, sehir=mytuple\n",
        "print(isim)\n",
        "print(yas)\n",
        "print(sehir)"
      ],
      "metadata": {
        "colab": {
          "base_uri": "https://localhost:8080/"
        },
        "id": "FTuo0pQjZFgs",
        "outputId": "a8c86cd2-e5df-4bbf-b871-4c4b05f0bbd3"
      },
      "execution_count": null,
      "outputs": [
        {
          "output_type": "stream",
          "name": "stdout",
          "text": [
            "Ahmet\n",
            "45\n",
            "Ankara\n"
          ]
        }
      ]
    },
    {
      "cell_type": "code",
      "source": [
        "mytuple=(0,1,2,3,4)\n",
        "i1,*i2,i3 = mytuple\n",
        "\n",
        "print(i1)\n",
        "print(i2)\n",
        "print(i3)\n",
        "print(type(i1))\n",
        "print(type(i2))"
      ],
      "metadata": {
        "colab": {
          "base_uri": "https://localhost:8080/"
        },
        "id": "RQRT_AM9ZFws",
        "outputId": "8dcf3ba8-12a2-4209-e356-e7bb64ede9e6"
      },
      "execution_count": null,
      "outputs": [
        {
          "output_type": "stream",
          "name": "stdout",
          "text": [
            "0\n",
            "[1, 2, 3]\n",
            "4\n",
            "<class 'int'>\n",
            "<class 'list'>\n"
          ]
        }
      ]
    },
    {
      "cell_type": "code",
      "source": [
        "import sys\n",
        "mytuple=(0,1,2,3,4)\n",
        "mylist=[0,1,2,3,4]\n",
        "print(sys.getsizeof(mylist),'bytes')\n",
        "print(sys.getsizeof(mytuple),'bytes')\n"
      ],
      "metadata": {
        "colab": {
          "base_uri": "https://localhost:8080/"
        },
        "id": "-TQNoOJhXgIe",
        "outputId": "b8d2634b-e0e0-40f5-8fa0-cc6a029f5ba1"
      },
      "execution_count": null,
      "outputs": [
        {
          "output_type": "stream",
          "name": "stdout",
          "text": [
            "112 bytes\n",
            "96 bytes\n"
          ]
        }
      ]
    },
    {
      "cell_type": "code",
      "source": [
        "#tuple oluşturma, iterasyon list'den daha hızlıdır ve hafızada daha az yer tutar\n",
        "import timeit\n",
        "\n",
        "print(timeit.timeit(stmt=\"[0,1,2,3,4]\",number=1000000))\n",
        "print(timeit.timeit(stmt=\"(0,1,2,3,4)\",number=1000000))\n"
      ],
      "metadata": {
        "colab": {
          "base_uri": "https://localhost:8080/"
        },
        "id": "ndWW9UK2Xgce",
        "outputId": "629e0c2e-2bae-4d4f-b7c1-e72c5b1a3c28"
      },
      "execution_count": null,
      "outputs": [
        {
          "output_type": "stream",
          "name": "stdout",
          "text": [
            "0.08218989699980739\n",
            "0.014170938999995997\n"
          ]
        }
      ]
    },
    {
      "cell_type": "code",
      "source": [
        "# dictionary: anahtar-değer ikili dizileri, sırasız, değiştirilebilir \n",
        "\n",
        "# list: sıralı, değiştirilebilir ve aynı elemanı birden fazla içerebilen dizi\n",
        "# tuple: sıralı, değiştirilemeyen ve aynı elemanı birden fazla içerebilen dizi\n",
        "\n",
        "mydict={\"isim\":\"Sena\",\"yas\":41,\"sehir\":\"Ağrı\"}\n",
        "print(mydict)\n",
        "\n",
        "mydict2=dict(isim=\"Sinan\",yas=35,sehir=\"Batman\")\n",
        "print(mydict2)"
      ],
      "metadata": {
        "colab": {
          "base_uri": "https://localhost:8080/"
        },
        "id": "r-6ThcFHf45A",
        "outputId": "a07afc14-e2d3-435e-b352-5e404503e762"
      },
      "execution_count": null,
      "outputs": [
        {
          "output_type": "stream",
          "name": "stdout",
          "text": [
            "{'isim': 'Sena', 'yas': 41, 'sehir': 'Ağrı'}\n",
            "{'isim': 'Sinan', 'yas': 35, 'sehir': 'Batman'}\n"
          ]
        }
      ]
    },
    {
      "cell_type": "code",
      "source": [
        "value=mydict[\"isim\"]\n",
        "print(value)\n",
        "value=mydict[\"yas\"]\n",
        "print(value)"
      ],
      "metadata": {
        "colab": {
          "base_uri": "https://localhost:8080/"
        },
        "id": "bSapMu-Vf5Kv",
        "outputId": "7124e9fb-4f6a-4d8a-98c9-6b80a2188e9e"
      },
      "execution_count": null,
      "outputs": [
        {
          "output_type": "stream",
          "name": "stdout",
          "text": [
            "Sena\n",
            "41\n"
          ]
        }
      ]
    },
    {
      "cell_type": "code",
      "source": [
        "mydict[\"eposta\"]=\"sena@gmail.com\"\n",
        "print(mydict)"
      ],
      "metadata": {
        "colab": {
          "base_uri": "https://localhost:8080/"
        },
        "id": "pAvxfEPFf5a3",
        "outputId": "38f7f880-acf4-494f-87f5-ec1c7882f856"
      },
      "execution_count": null,
      "outputs": [
        {
          "output_type": "stream",
          "name": "stdout",
          "text": [
            "{'isim': 'Sena', 'yas': 41, 'sehir': 'Ağrı', 'eposta': 'sena@gmail.com'}\n"
          ]
        }
      ]
    },
    {
      "cell_type": "code",
      "source": [
        "mydict[\"eposta\"]=\"senacelik@gmail.com\"\n",
        "print(mydict)"
      ],
      "metadata": {
        "colab": {
          "base_uri": "https://localhost:8080/"
        },
        "id": "nu1OI6VVf5q_",
        "outputId": "dc32ca5d-d0db-4b93-9639-a1255736ee7c"
      },
      "execution_count": null,
      "outputs": [
        {
          "output_type": "stream",
          "name": "stdout",
          "text": [
            "{'isim': 'Sena', 'yas': 41, 'sehir': 'Ağrı', 'eposta': 'senacelik@gmail.com'}\n"
          ]
        }
      ]
    },
    {
      "cell_type": "code",
      "source": [
        "#del ile anahtar silme\n",
        "del mydict[\"isim\"]\n",
        "print(mydict)"
      ],
      "metadata": {
        "colab": {
          "base_uri": "https://localhost:8080/"
        },
        "id": "A46yJHzMlmih",
        "outputId": "baf9c4b7-6704-4732-8235-ffbfd8d907ed"
      },
      "execution_count": null,
      "outputs": [
        {
          "output_type": "stream",
          "name": "stdout",
          "text": [
            "{'yas': 41, 'sehir': 'Ağrı', 'eposta': 'senacelik@gmail.com'}\n"
          ]
        }
      ]
    },
    {
      "cell_type": "code",
      "source": [
        "#pop yöntemi ile anahtar silme\n",
        "mydict.pop(\"yas\")\n",
        "print(mydict)"
      ],
      "metadata": {
        "colab": {
          "base_uri": "https://localhost:8080/"
        },
        "id": "BHDDs9tTlmyH",
        "outputId": "8fcf8e34-77c5-44b9-e3c3-d243628901c0"
      },
      "execution_count": null,
      "outputs": [
        {
          "output_type": "stream",
          "name": "stdout",
          "text": [
            "{'sehir': 'Ağrı', 'eposta': 'senacelik@gmail.com'}\n"
          ]
        }
      ]
    },
    {
      "cell_type": "code",
      "source": [
        "mydict.popitem()\n",
        "print(mydict)"
      ],
      "metadata": {
        "colab": {
          "base_uri": "https://localhost:8080/"
        },
        "id": "0l6K8QJ1lnAo",
        "outputId": "db14f6aa-c9f9-43b4-a66b-a6064b093f40"
      },
      "execution_count": null,
      "outputs": [
        {
          "output_type": "stream",
          "name": "stdout",
          "text": [
            "{'sehir': 'Ağrı'}\n"
          ]
        }
      ]
    },
    {
      "cell_type": "code",
      "source": [
        "if \"isim\" in mydict:\n",
        "  print(mydict[\"isim\"])"
      ],
      "metadata": {
        "id": "Q567dbVzlnPY"
      },
      "execution_count": null,
      "outputs": []
    },
    {
      "cell_type": "code",
      "source": [
        "if \"sehir\" in mydict:\n",
        "  print(mydict[\"sehir\"])"
      ],
      "metadata": {
        "colab": {
          "base_uri": "https://localhost:8080/"
        },
        "id": "LUDwFENalndo",
        "outputId": "adf3415f-7944-4ef0-898f-3bfdcd30285a"
      },
      "execution_count": null,
      "outputs": [
        {
          "output_type": "stream",
          "name": "stdout",
          "text": [
            "Ağrı\n"
          ]
        }
      ]
    },
    {
      "cell_type": "code",
      "source": [
        "try:\n",
        "  print(mydict[\"sehir\"])\n",
        "except:\n",
        "    print(\"error\")"
      ],
      "metadata": {
        "colab": {
          "base_uri": "https://localhost:8080/"
        },
        "id": "9dzLPZN3nEDm",
        "outputId": "d3a66904-2dbd-4816-a418-7f6fab907933"
      },
      "execution_count": null,
      "outputs": [
        {
          "output_type": "stream",
          "name": "stdout",
          "text": [
            "Ağrı\n"
          ]
        }
      ]
    },
    {
      "cell_type": "code",
      "source": [
        "mydict2=dict(isim=\"Sinan\",yas=35,sehir=\"Batman\")\n",
        "\n",
        "for key in mydict2:\n",
        "  print(key)"
      ],
      "metadata": {
        "colab": {
          "base_uri": "https://localhost:8080/"
        },
        "id": "gd5MvyQ3nET1",
        "outputId": "f6727bdf-f610-4b0b-9f92-a8d7137c7fe3"
      },
      "execution_count": null,
      "outputs": [
        {
          "output_type": "stream",
          "name": "stdout",
          "text": [
            "isim\n",
            "yas\n",
            "sehir\n"
          ]
        }
      ]
    },
    {
      "cell_type": "code",
      "source": [
        "#21 Nisan 2022 Perşembe günü arasınav olacak :)"
      ],
      "metadata": {
        "id": "jns9NZULnEit"
      },
      "execution_count": null,
      "outputs": []
    },
    {
      "cell_type": "code",
      "source": [
        "mydict2=dict(isim=\"Sinan\",yas=35,sehir=\"Batman\")\n",
        "\n",
        "for key in mydict2.keys():\n",
        "  print(key)"
      ],
      "metadata": {
        "colab": {
          "base_uri": "https://localhost:8080/"
        },
        "id": "F6lS_FGVptvS",
        "outputId": "56b5817d-a311-4f41-fe79-4a623d88da28"
      },
      "execution_count": null,
      "outputs": [
        {
          "output_type": "stream",
          "name": "stdout",
          "text": [
            "isim\n",
            "yas\n",
            "sehir\n"
          ]
        }
      ]
    },
    {
      "cell_type": "code",
      "source": [
        "mydict2=dict(isim=\"Sinan\",yas=35,sehir=\"Batman\")\n",
        "\n",
        "for value in mydict2.values():\n",
        "  print(value)"
      ],
      "metadata": {
        "colab": {
          "base_uri": "https://localhost:8080/"
        },
        "id": "QxFzUQnbpt_x",
        "outputId": "d8975b51-c208-42f8-c44a-d48fb70f4fd7"
      },
      "execution_count": null,
      "outputs": [
        {
          "output_type": "stream",
          "name": "stdout",
          "text": [
            "Sinan\n",
            "35\n",
            "Batman\n"
          ]
        }
      ]
    },
    {
      "cell_type": "code",
      "source": [
        "mydict2=dict(isim=\"Sinan\",yas=35,sehir=\"Batman\")\n",
        "\n",
        "for key, value in mydict2.items():\n",
        "  print(key, value)"
      ],
      "metadata": {
        "colab": {
          "base_uri": "https://localhost:8080/"
        },
        "id": "wIdl3dFcpuRo",
        "outputId": "2559c4d5-ee01-4d1e-a364-ef222062b4b2"
      },
      "execution_count": null,
      "outputs": [
        {
          "output_type": "stream",
          "name": "stdout",
          "text": [
            "isim Sinan\n",
            "yas 35\n",
            "sehir Batman\n"
          ]
        }
      ]
    },
    {
      "cell_type": "code",
      "source": [
        "#dictionary kopyalama\n",
        "mydict=dict(isim=\"Sinan\",yas=35,sehir=\"Batman\")\n",
        "print(mydict)\n",
        "\n",
        "mydict_kpy=mydict\n",
        "print(mydict_kpy)"
      ],
      "metadata": {
        "colab": {
          "base_uri": "https://localhost:8080/"
        },
        "id": "sq-rtknRnEx1",
        "outputId": "f014614a-9e14-4a7a-ccc3-40a03e77a875"
      },
      "execution_count": null,
      "outputs": [
        {
          "output_type": "stream",
          "name": "stdout",
          "text": [
            "{'isim': 'Sinan', 'yas': 35, 'sehir': 'Batman'}\n",
            "{'isim': 'Sinan', 'yas': 35, 'sehir': 'Batman'}\n"
          ]
        }
      ]
    },
    {
      "cell_type": "code",
      "source": [
        "#dictionary kopyalama\n",
        "mydict=dict(isim=\"Sinan\",yas=35,sehir=\"Batman\")\n",
        "print(mydict)\n",
        "\n",
        "mydict_kpy=mydict\n",
        "mydict_kpy[\"eposta\"]=\"sinan@abc.com\"\n",
        "print(mydict_kpy)\n",
        "print(mydict)"
      ],
      "metadata": {
        "colab": {
          "base_uri": "https://localhost:8080/"
        },
        "id": "GTU-kX2frkWe",
        "outputId": "4e48079c-a4ec-4924-a8d5-b96ea5cb482c"
      },
      "execution_count": null,
      "outputs": [
        {
          "output_type": "stream",
          "name": "stdout",
          "text": [
            "{'isim': 'Sinan', 'yas': 35, 'sehir': 'Batman'}\n",
            "{'isim': 'Sinan', 'yas': 35, 'sehir': 'Batman', 'eposta': 'sinan@abc.com'}\n",
            "{'isim': 'Sinan', 'yas': 35, 'sehir': 'Batman', 'eposta': 'sinan@abc.com'}\n"
          ]
        }
      ]
    },
    {
      "cell_type": "code",
      "source": [
        "#dictionary gerçek kopyalama 1\n",
        "mydict=dict(isim=\"Sinan\",yas=35,sehir=\"Batman\")\n",
        "print(mydict)\n",
        "\n",
        "mydict_kpy=mydict.copy()\n",
        "mydict_kpy[\"eposta\"]=\"sinan@abc.com\"\n",
        "print(mydict_kpy)\n",
        "print(mydict)"
      ],
      "metadata": {
        "colab": {
          "base_uri": "https://localhost:8080/"
        },
        "id": "OowipKEerklV",
        "outputId": "22b28d43-3da3-48ba-8a95-65dc65e79d0e"
      },
      "execution_count": null,
      "outputs": [
        {
          "output_type": "stream",
          "name": "stdout",
          "text": [
            "{'isim': 'Sinan', 'yas': 35, 'sehir': 'Batman'}\n",
            "{'isim': 'Sinan', 'yas': 35, 'sehir': 'Batman', 'eposta': 'sinan@abc.com'}\n",
            "{'isim': 'Sinan', 'yas': 35, 'sehir': 'Batman'}\n"
          ]
        }
      ]
    },
    {
      "cell_type": "code",
      "source": [
        "#dictionary gerçek kopyalama 2\n",
        "mydict=dict(isim=\"Sinan\",yas=35,sehir=\"Batman\")\n",
        "print(mydict)\n",
        "\n",
        "mydict_kpy=dict(mydict)\n",
        "mydict_kpy[\"eposta\"]=\"sinan@abc.com\"\n",
        "print(mydict_kpy)\n",
        "print(mydict)"
      ],
      "metadata": {
        "colab": {
          "base_uri": "https://localhost:8080/"
        },
        "id": "-mVFiMeMrky1",
        "outputId": "89b4b2bb-52af-4d5a-cd92-352388c0ebb6"
      },
      "execution_count": null,
      "outputs": [
        {
          "output_type": "stream",
          "name": "stdout",
          "text": [
            "{'isim': 'Sinan', 'yas': 35, 'sehir': 'Batman'}\n",
            "{'isim': 'Sinan', 'yas': 35, 'sehir': 'Batman', 'eposta': 'sinan@abc.com'}\n",
            "{'isim': 'Sinan', 'yas': 35, 'sehir': 'Batman'}\n"
          ]
        }
      ]
    },
    {
      "cell_type": "code",
      "source": [
        "#dictionaray birleştirme\n",
        "mydict=dict(isim=\"Sinan\",yas=35,sehir=\"Batman\")\n",
        "mydict2=dict(soyad=\"Demir\", yas=26)\n",
        "\n",
        "mydict.update(mydict2)\n",
        "print(mydict)"
      ],
      "metadata": {
        "colab": {
          "base_uri": "https://localhost:8080/"
        },
        "id": "WY2j1ApptML8",
        "outputId": "faf0c098-33db-4dc0-a372-e5fd1cfe2cb4"
      },
      "execution_count": null,
      "outputs": [
        {
          "output_type": "stream",
          "name": "stdout",
          "text": [
            "{'isim': 'Sinan', 'yas': 26, 'sehir': 'Batman', 'soyad': 'Demir'}\n"
          ]
        }
      ]
    },
    {
      "cell_type": "code",
      "source": [
        "mydict.sort()\n",
        "print(mydict)"
      ],
      "metadata": {
        "colab": {
          "base_uri": "https://localhost:8080/",
          "height": 183
        },
        "id": "WfUlAhTdtMai",
        "outputId": "9574eb91-4a77-4d4b-d78e-4a407b4f4b54"
      },
      "execution_count": null,
      "outputs": [
        {
          "output_type": "error",
          "ename": "AttributeError",
          "evalue": "ignored",
          "traceback": [
            "\u001b[0;31m---------------------------------------------------------------------------\u001b[0m",
            "\u001b[0;31mAttributeError\u001b[0m                            Traceback (most recent call last)",
            "\u001b[0;32m<ipython-input-62-929444346827>\u001b[0m in \u001b[0;36m<module>\u001b[0;34m()\u001b[0m\n\u001b[0;32m----> 1\u001b[0;31m \u001b[0mmydict\u001b[0m\u001b[0;34m.\u001b[0m\u001b[0msort\u001b[0m\u001b[0;34m(\u001b[0m\u001b[0;34m)\u001b[0m\u001b[0;34m\u001b[0m\u001b[0;34m\u001b[0m\u001b[0m\n\u001b[0m\u001b[1;32m      2\u001b[0m \u001b[0mprint\u001b[0m\u001b[0;34m(\u001b[0m\u001b[0mmydict\u001b[0m\u001b[0;34m)\u001b[0m\u001b[0;34m\u001b[0m\u001b[0;34m\u001b[0m\u001b[0m\n",
            "\u001b[0;31mAttributeError\u001b[0m: 'dict' object has no attribute 'sort'"
          ]
        }
      ]
    },
    {
      "cell_type": "code",
      "source": [
        "mydict={3:9,5:25,6:36}\n",
        "print(mydict[0])"
      ],
      "metadata": {
        "colab": {
          "base_uri": "https://localhost:8080/",
          "height": 183
        },
        "id": "tqT3WIv6t8Ha",
        "outputId": "e453f842-de38-4d34-fb58-d89c427c99f4"
      },
      "execution_count": null,
      "outputs": [
        {
          "output_type": "error",
          "ename": "KeyError",
          "evalue": "ignored",
          "traceback": [
            "\u001b[0;31m---------------------------------------------------------------------------\u001b[0m",
            "\u001b[0;31mKeyError\u001b[0m                                  Traceback (most recent call last)",
            "\u001b[0;32m<ipython-input-63-ea8fae23b101>\u001b[0m in \u001b[0;36m<module>\u001b[0;34m()\u001b[0m\n\u001b[1;32m      1\u001b[0m \u001b[0mmydict\u001b[0m\u001b[0;34m=\u001b[0m\u001b[0;34m{\u001b[0m\u001b[0;36m3\u001b[0m\u001b[0;34m:\u001b[0m\u001b[0;36m9\u001b[0m\u001b[0;34m,\u001b[0m\u001b[0;36m5\u001b[0m\u001b[0;34m:\u001b[0m\u001b[0;36m25\u001b[0m\u001b[0;34m,\u001b[0m\u001b[0;36m6\u001b[0m\u001b[0;34m:\u001b[0m\u001b[0;36m36\u001b[0m\u001b[0;34m}\u001b[0m\u001b[0;34m\u001b[0m\u001b[0;34m\u001b[0m\u001b[0m\n\u001b[0;32m----> 2\u001b[0;31m \u001b[0mprint\u001b[0m\u001b[0;34m(\u001b[0m\u001b[0mmydict\u001b[0m\u001b[0;34m[\u001b[0m\u001b[0;36m0\u001b[0m\u001b[0;34m]\u001b[0m\u001b[0;34m)\u001b[0m\u001b[0;34m\u001b[0m\u001b[0;34m\u001b[0m\u001b[0m\n\u001b[0m",
            "\u001b[0;31mKeyError\u001b[0m: 0"
          ]
        }
      ]
    },
    {
      "cell_type": "code",
      "source": [
        "mydict={3:9,5:25,6:36}\n",
        "print(mydict[5])"
      ],
      "metadata": {
        "colab": {
          "base_uri": "https://localhost:8080/"
        },
        "id": "TNE4w_9Ct8WB",
        "outputId": "400452f8-5327-4b1d-ea06-3aafa631a31d"
      },
      "execution_count": null,
      "outputs": [
        {
          "output_type": "stream",
          "name": "stdout",
          "text": [
            "25\n"
          ]
        }
      ]
    },
    {
      "cell_type": "code",
      "source": [
        "mydict={3:9,5:25,6:36}\n",
        "\n",
        "mytuple=(7,8)\n",
        "\n",
        "mydict={mytuple: 18}\n",
        "print(mydict)"
      ],
      "metadata": {
        "colab": {
          "base_uri": "https://localhost:8080/"
        },
        "id": "We4SCdhjt8mp",
        "outputId": "879b2af3-e113-42cc-f245-71aee9ed4118"
      },
      "execution_count": null,
      "outputs": [
        {
          "output_type": "stream",
          "name": "stdout",
          "text": [
            "{(7, 8): 18}\n"
          ]
        }
      ]
    },
    {
      "cell_type": "code",
      "source": [
        "mydict={3:9,5:25,6:36}\n",
        "\n",
        "mytuple=[7,8]\n",
        "\n",
        "mydict={mytuple: 18}\n",
        "print(mydict)"
      ],
      "metadata": {
        "colab": {
          "base_uri": "https://localhost:8080/",
          "height": 218
        },
        "id": "Rcfy7vjzuoRw",
        "outputId": "83b1667a-35e8-46c5-e600-ad226046e2a3"
      },
      "execution_count": null,
      "outputs": [
        {
          "output_type": "error",
          "ename": "TypeError",
          "evalue": "ignored",
          "traceback": [
            "\u001b[0;31m---------------------------------------------------------------------------\u001b[0m",
            "\u001b[0;31mTypeError\u001b[0m                                 Traceback (most recent call last)",
            "\u001b[0;32m<ipython-input-67-50409e796b0e>\u001b[0m in \u001b[0;36m<module>\u001b[0;34m()\u001b[0m\n\u001b[1;32m      3\u001b[0m \u001b[0mmytuple\u001b[0m\u001b[0;34m=\u001b[0m\u001b[0;34m[\u001b[0m\u001b[0;36m7\u001b[0m\u001b[0;34m,\u001b[0m\u001b[0;36m8\u001b[0m\u001b[0;34m]\u001b[0m\u001b[0;34m\u001b[0m\u001b[0;34m\u001b[0m\u001b[0m\n\u001b[1;32m      4\u001b[0m \u001b[0;34m\u001b[0m\u001b[0m\n\u001b[0;32m----> 5\u001b[0;31m \u001b[0mmydict\u001b[0m\u001b[0;34m=\u001b[0m\u001b[0;34m{\u001b[0m\u001b[0mmytuple\u001b[0m\u001b[0;34m:\u001b[0m \u001b[0;36m18\u001b[0m\u001b[0;34m}\u001b[0m\u001b[0;34m\u001b[0m\u001b[0;34m\u001b[0m\u001b[0m\n\u001b[0m\u001b[1;32m      6\u001b[0m \u001b[0mprint\u001b[0m\u001b[0;34m(\u001b[0m\u001b[0mmydict\u001b[0m\u001b[0;34m)\u001b[0m\u001b[0;34m\u001b[0m\u001b[0;34m\u001b[0m\u001b[0m\n",
            "\u001b[0;31mTypeError\u001b[0m: unhashable type: 'list'"
          ]
        }
      ]
    },
    {
      "cell_type": "code",
      "source": [
        ""
      ],
      "metadata": {
        "id": "C6S8gGq9uorQ"
      },
      "execution_count": null,
      "outputs": []
    },
    {
      "cell_type": "code",
      "source": [
        ""
      ],
      "metadata": {
        "id": "wsZ2jTdJuo-g"
      },
      "execution_count": null,
      "outputs": []
    },
    {
      "cell_type": "code",
      "source": [
        "#son"
      ],
      "metadata": {
        "id": "sLt7hpSDCglO"
      },
      "execution_count": null,
      "outputs": []
    },
    {
      "cell_type": "code",
      "source": [
        ""
      ],
      "metadata": {
        "id": "JZRloW7rS4e_"
      },
      "execution_count": null,
      "outputs": []
    }
  ]
}