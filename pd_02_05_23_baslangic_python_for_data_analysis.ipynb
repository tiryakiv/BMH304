{
  "nbformat": 4,
  "nbformat_minor": 0,
  "metadata": {
    "colab": {
      "provenance": []
    },
    "kernelspec": {
      "name": "python3",
      "display_name": "Python 3"
    },
    "language_info": {
      "name": "python"
    }
  },
  "cells": [
    {
      "cell_type": "code",
      "execution_count": 4,
      "metadata": {
        "colab": {
          "base_uri": "https://localhost:8080/"
        },
        "id": "7-wggNLcKjiw",
        "outputId": "3382c73a-fd4d-4657-d52d-4544f18dd665"
      },
      "outputs": [
        {
          "output_type": "stream",
          "name": "stdout",
          "text": [
            "Python 3.10.11\n"
          ]
        }
      ],
      "source": [
        "! python --version"
      ]
    },
    {
      "cell_type": "code",
      "source": [
        "import numpy as np\n",
        "import matplotlib.pyplot as plt\n",
        "import pandas as pd\n",
        "import seaborn as sns\n",
        "import statsmodels as sm"
      ],
      "metadata": {
        "id": "r-6vLb9-QyHN"
      },
      "execution_count": 5,
      "outputs": []
    },
    {
      "cell_type": "code",
      "source": [
        "a = 5\n",
        "print(a)"
      ],
      "metadata": {
        "colab": {
          "base_uri": "https://localhost:8080/"
        },
        "id": "w6uXtklDR8uH",
        "outputId": "9e1cfb4b-4245-407a-ca62-91cfac82e3bc"
      },
      "execution_count": 6,
      "outputs": [
        {
          "output_type": "stream",
          "name": "stdout",
          "text": [
            "5\n"
          ]
        }
      ]
    },
    {
      "cell_type": "code",
      "source": [
        "print('Hello world')"
      ],
      "metadata": {
        "colab": {
          "base_uri": "https://localhost:8080/"
        },
        "id": "Y5b4oMDDTLgz",
        "outputId": "c7453aef-44e9-4d9e-c2bf-72fb1f48a18e"
      },
      "execution_count": 7,
      "outputs": [
        {
          "output_type": "stream",
          "name": "stdout",
          "text": [
            "Hello world\n"
          ]
        }
      ]
    },
    {
      "cell_type": "code",
      "source": [
        "import numpy as np\n",
        "data = {i : np.random.randn() for i in range(7)}\n",
        "print(data)"
      ],
      "metadata": {
        "colab": {
          "base_uri": "https://localhost:8080/"
        },
        "id": "ErDXuRzzTpI0",
        "outputId": "f0c295cf-b243-49b0-b5a2-cbdf4038b73f"
      },
      "execution_count": 10,
      "outputs": [
        {
          "output_type": "stream",
          "name": "stdout",
          "text": [
            "{0: 0.10860282603354506, 1: 0.013047436409642149, 2: -0.10060239254962856, 3: -1.8787070069145126, 4: -0.47407531786262325, 5: -0.1574082410849327, 6: 2.648496033182486}\n"
          ]
        }
      ]
    },
    {
      "cell_type": "code",
      "source": [
        "data = {i : np.random.randn() for i in range(7)}\n",
        "data"
      ],
      "metadata": {
        "colab": {
          "base_uri": "https://localhost:8080/"
        },
        "id": "sky7sxhXT-mL",
        "outputId": "9c8d2911-e039-43c3-cb2f-c94c30342189"
      },
      "execution_count": 11,
      "outputs": [
        {
          "output_type": "execute_result",
          "data": {
            "text/plain": [
              "{0: 0.023974082187073687,\n",
              " 1: -0.3102732207844159,\n",
              " 2: 0.8233467833784931,\n",
              " 3: 1.3912787734321437,\n",
              " 4: 0.2844072072742532,\n",
              " 5: 0.6064815573303487,\n",
              " 6: 0.45382328509124265}"
            ]
          },
          "metadata": {},
          "execution_count": 11
        }
      ]
    },
    {
      "cell_type": "code",
      "source": [
        "an_apple = 27\n",
        "an_example = 42\n",
        "\n",
        "an_example"
      ],
      "metadata": {
        "id": "iXyg1DIuUf0d"
      },
      "execution_count": null,
      "outputs": []
    },
    {
      "cell_type": "code",
      "source": [
        "b = [1, 2, 3]\n",
        "\n",
        "b.insert(5,6)\n",
        "print(b)"
      ],
      "metadata": {
        "colab": {
          "base_uri": "https://localhost:8080/"
        },
        "id": "jEbnhD2IVosi",
        "outputId": "5ce9c4d3-2b5f-4237-f886-94abafe87bec"
      },
      "execution_count": 14,
      "outputs": [
        {
          "output_type": "stream",
          "name": "stdout",
          "text": [
            "[1, 2, 3, 6]\n"
          ]
        }
      ]
    },
    {
      "cell_type": "code",
      "source": [],
      "metadata": {
        "id": "jbtY3TnzVwp7"
      },
      "execution_count": null,
      "outputs": []
    }
  ]
}