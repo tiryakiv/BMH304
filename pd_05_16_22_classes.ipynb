{
  "nbformat": 4,
  "nbformat_minor": 0,
  "metadata": {
    "colab": {
      "name": "pd_05_16_22_classes.ipynb",
      "provenance": [],
      "collapsed_sections": []
    },
    "kernelspec": {
      "name": "python3",
      "display_name": "Python 3"
    },
    "language_info": {
      "name": "python"
    }
  },
  "cells": [
    {
      "cell_type": "code",
      "execution_count": null,
      "metadata": {
        "id": "Lt2RdEPhAa4N"
      },
      "outputs": [],
      "source": [
        "# Kaynak: Corey Shafer\n",
        "# https://www.youtube.com/watch?v=ZDa-Z5JzLYM&list=PL-osiE80TeTt2d9bfVyTiXJA-UTHn6WwU&index=40\n",
        "# Erişim günü: 16 Mayıs 2022\n",
        "# INSTANCE VARIABLES"
      ]
    },
    {
      "cell_type": "code",
      "source": [
        "class Employee:  #en basit class böyle tanımlanabilir\n",
        "  pass\n",
        "\n",
        "emp_1=Employee() #emp_1 is a unique instance created by Employee class\n",
        "emp_2=Employee() #emp_2 is another unique instance created by Employee class\n",
        "\n",
        "print(emp_1)\n",
        "print(emp_2)"
      ],
      "metadata": {
        "colab": {
          "base_uri": "https://localhost:8080/"
        },
        "id": "T6piwxMSAnKk",
        "outputId": "d90f5ec7-a09f-433c-f0cf-bad0c8dca2f0"
      },
      "execution_count": 1,
      "outputs": [
        {
          "output_type": "stream",
          "name": "stdout",
          "text": [
            "<__main__.Employee object at 0x7f9eb0f65950>\n",
            "<__main__.Employee object at 0x7f9eb0f65810>\n"
          ]
        }
      ]
    },
    {
      "cell_type": "code",
      "source": [
        "# class taslak modeldir; instance ise bu model kullanılarak üretilmiş nesnedir\n",
        "# instance değişkenlerine bir örnek verelim:\n",
        "\n",
        "class Employee:\n",
        "  pass\n",
        "\n",
        "emp_1=Employee() \n",
        "emp_2=Employee()\n",
        "\n",
        "#instance attribute tanımlıyoruz: \n",
        "emp_1.first=\"Corey\"\n",
        "emp_1.last=\"Shafer\"\n",
        "emp_1.email=\"coreyshafer@company.com\"\n",
        "emp_1.pay=50000\n",
        "\n",
        "emp_2.first=\"Test\"\n",
        "emp_2.last=\"User\"\n",
        "emp_2.email=\"testuserr@company.com\"\n",
        "emp_2.pay=20000\n",
        "\n",
        "print(emp_1.email)\n",
        "print(emp_2.email)\n",
        "\n",
        "#Yukarıdaki işlemler hata yapmaya sebep olabilir ve her defasında attribute \n",
        "#isimlerinin doğru olarak yazılmasını gerektirir. Bu şekilde bir kullanım \n",
        "#neticesinde class yapılarını verimli olarak kullanmıyoruz.  "
      ],
      "metadata": {
        "id": "NV0fxyj7A1_l",
        "colab": {
          "base_uri": "https://localhost:8080/"
        },
        "outputId": "3238c6f2-607e-434a-f6d6-bac05f635a48"
      },
      "execution_count": 2,
      "outputs": [
        {
          "output_type": "stream",
          "name": "stdout",
          "text": [
            "coreyshafer@company.com\n",
            "testuserr@company.com\n"
          ]
        }
      ]
    },
    {
      "cell_type": "code",
      "source": [
        "# init metodu. initialize metodu. başka programlama dillerinde constructor \n",
        "# olarak da bilinir\n",
        "# Bir önceki hücrede kod karmaşasını ortadan kaldıran, hata yapma ihtimalini \n",
        "# azaltan init yöntemi tanımlaması şu şekilde yapılır:\n",
        "\n",
        "class Employee:\n",
        "  def __init__(self, first,last,pay): #argüman olarak genellikle self kullanılır\n",
        "    self.first=first #first last pay ve email class attributelardır\n",
        "    self.last=last\n",
        "    self.pay=pay\n",
        "    self.email=first +'.'+last+'@company.com'\n",
        "\n",
        "\n",
        "emp_1=Employee('Corey','Shafer',50000) \n",
        "emp_2=Employee('Test','User',20000) \n",
        "\n",
        "\n",
        "print(emp_1.email)\n",
        "print(emp_2.email)"
      ],
      "metadata": {
        "colab": {
          "base_uri": "https://localhost:8080/"
        },
        "id": "W0SrB31mHTbL",
        "outputId": "e5986043-5e62-4853-c449-626d79dc0829"
      },
      "execution_count": 3,
      "outputs": [
        {
          "output_type": "stream",
          "name": "stdout",
          "text": [
            "Corey.Shafer@company.com\n",
            "Test.User@company.com\n"
          ]
        }
      ]
    },
    {
      "cell_type": "code",
      "source": [
        "# Employee class'ımız için 4 tane attribute var. \n",
        "# action gerektiren uygulamalar için Method tanımlayabiliriz :)\n",
        "# Örnek olarak burada bir employee'nin tam ismini ekranda yazmamızı sağlayan \n",
        "# bir metot tanımlayalım:\n",
        "\n",
        "class Employee:\n",
        "  def __init__(self, first,last,pay): #argüman olarak genellikle self kullanılır. siz de self kullanın\n",
        "    self.first=first #first last pay and email are class attributes\n",
        "    self.last=last\n",
        "    self.pay=pay\n",
        "    self.email=first +'.'+last+'@company.com'\n",
        "\n",
        "\n",
        "  def fullname(self):\n",
        "    return '{}  {}'. format(self.first, self.last) #. format yöntemi ile yazdırma yapılmış\n",
        "\n",
        "emp_1=Employee('Corey','Shafer',50000) \n",
        "emp_2=Employee('Test','User',20000) \n",
        "\n",
        "print(emp_1.fullname())  #parantezi unutmayın \n",
        "print(emp_2.fullname())\n"
      ],
      "metadata": {
        "colab": {
          "base_uri": "https://localhost:8080/"
        },
        "id": "666FM_rRGrQ8",
        "outputId": "e98c2eb7-a85b-417a-ddcf-11cc5ba8017a"
      },
      "execution_count": null,
      "outputs": [
        {
          "output_type": "stream",
          "name": "stdout",
          "text": [
            "Corey  Shafer\n",
            "Test  User\n"
          ]
        }
      ]
    },
    {
      "cell_type": "code",
      "source": [
        "# Son örneği fstring kullanarak yapıyorum\n",
        "\n",
        "class Employee:\n",
        "  def __init__(self, first,last,pay): #argüman olarak genellikle self kullanılır. siz de self kullanın\n",
        "    self.first=first #first last pay and email are class attributes\n",
        "    self.last=last\n",
        "    self.pay=pay\n",
        "    self.email=first +'.'+last+'@company.com'\n",
        "\n",
        "\n",
        "  def fullname(self): #argümanı unutmayın\n",
        "    return f\"{self.first} {self.last}\"  # fstring kullanıldı\n",
        "\n",
        "emp_1=Employee('Corey','Shafer',50000) \n",
        "emp_2=Employee('Test','User',20000) \n",
        "\n",
        "print(emp_1.fullname())  #parantezi unutmayın \n",
        "print(emp_2.fullname())\n"
      ],
      "metadata": {
        "id": "s-nuWaZYLBHL",
        "colab": {
          "base_uri": "https://localhost:8080/"
        },
        "outputId": "760f4e64-5a44-48a6-d858-f18fc2ec107e"
      },
      "execution_count": null,
      "outputs": [
        {
          "output_type": "stream",
          "name": "stdout",
          "text": [
            "Corey Shafer\n",
            "Test User\n"
          ]
        }
      ]
    },
    {
      "cell_type": "code",
      "source": [
        "# Class ismi kullanarak metot çağrılması\n",
        "\n",
        "class Employee:\n",
        "  def __init__(self, first,last,pay): #argüman olarak genellikle self kullanılır. siz de self kullanın\n",
        "    self.first=first #first last pay and email are class attributes\n",
        "    self.last=last\n",
        "    self.pay=pay\n",
        "    self.email=first +'.'+last+'@company.com'\n",
        "\n",
        "\n",
        "  def fullname(self): #argümanı unutmayın\n",
        "    return f\"{self.first} {self.last}\"\n",
        "\n",
        "emp_1=Employee('Corey','Shafer',50000) \n",
        "emp_2=Employee('Test','User',20000) \n",
        "\n",
        "print(emp_1.fullname())  #argüman girmek zorunda değiliz \n",
        "print(Employee.fullname(emp_1))  #argüman girmek zorundayız\n"
      ],
      "metadata": {
        "colab": {
          "base_uri": "https://localhost:8080/"
        },
        "id": "7WrC9QvrMazZ",
        "outputId": "53172a1a-7c22-406e-df0a-1896446601db"
      },
      "execution_count": null,
      "outputs": [
        {
          "output_type": "stream",
          "name": "stdout",
          "text": [
            "Corey Shafer\n",
            "Corey Shafer\n"
          ]
        }
      ]
    },
    {
      "cell_type": "code",
      "source": [
        "# CLASS DEĞİŞKENLERİ\n",
        "# kaynak: Corey Shafer \n",
        "# https://www.youtube.com/watch?v=BJ-VvGyQxho&list=PL-osiE80TeTt2d9bfVyTiXJA-UTHn6WwU&index=41\n",
        "\n",
        "# şimdiye kadar instance değişkenleri öğrendik. bu derste class değişkenleri öğreneceğiz\n",
        "\n",
        "# class değişkenleri bir class'ın tüm instance'ları tarafından paylaşılan değişkenlerdir\n",
        "# instance değişkenleri bir instance'a mahsus olabilir.\n",
        "\n",
        "# Bizim Employee class'ımız için bir class variable düşünelim. Diyelim ki\n",
        "# bu firmada çalışan herkes için yıllık maaş zammı bulunuyor. Maaş zam oranı \n",
        "# her yıl farklı olabilir ancak zam oranı tüm çalışanlar için aynı olacak.\n",
        "\n",
        "\n",
        "class Employee:\n",
        "  def __init__(self, first,last,pay): \n",
        "    self.first=first \n",
        "    self.last=last\n",
        "    self.pay=pay\n",
        "    self.email=first +'.'+last+'@company.com'\n",
        "\n",
        "\n",
        "  def fullname(self): \n",
        "    return f\"{self.first} {self.last}\"\n",
        "\n",
        "  def apply_raise(self): #class değişkenine örnek göstermek için yeni bir metot yazdık\n",
        "    self.pay=int(self.pay*1.04)\n",
        "\n",
        "emp_1=Employee('Corey','Shafer',50000) \n",
        "emp_2=Employee('Test','User',20000) \n",
        "\n",
        "print(emp_1.pay) \n",
        "emp_1.apply_raise()\n",
        "print(emp_1.pay) \n",
        "\n"
      ],
      "metadata": {
        "id": "cHip-8FmMUYP",
        "colab": {
          "base_uri": "https://localhost:8080/"
        },
        "outputId": "ccb4a185-754c-4ea6-9500-11a4f5e58c68"
      },
      "execution_count": 4,
      "outputs": [
        {
          "output_type": "stream",
          "name": "stdout",
          "text": [
            "50000\n",
            "52000\n"
          ]
        }
      ]
    },
    {
      "cell_type": "code",
      "source": [
        "# birinci çalışanın maaşının yüzde 4 oranında arttığını gördük. bu yöntem çalıştı\n",
        "# ancak bazı sorunlar var.  Bu sorunlar:\n",
        "# 1) Artış oranını bu şekilde değiştiremiyoruz. \n",
        "# 2) Artış miktarını göremiyoruz. \n",
        "# Bu halde bu bilgiler metot içinde gizli kaldı\n",
        "#  class değişkeni kullarak bu sorunların üstesinden gelebiliriz\n",
        "\n",
        "class Employee:\n",
        "\n",
        "  raise_amount=1.04 #class değişkeni eklendi\n",
        "\n",
        "  def __init__(self, first,last,pay): \n",
        "    self.first=first \n",
        "    self.last=last\n",
        "    self.pay=pay\n",
        "    self.email=first +'.'+last+'@company.com'\n",
        "\n",
        "\n",
        "  def fullname(self): \n",
        "    return f\"{self.first} {self.last}\"\n",
        "\n",
        "  def apply_raise(self):\n",
        "    self.pay=int(self.pay*self.raise_amount) #class değişkeni burada kullanıldı\n",
        "# burada self kullanmasaydık name hatası alırdık, çünkü class değişkenlerine 2 şekilde erişim yapabiliriz\n",
        "# 1) Class ismini kullanarak\n",
        "# 2) instance ismi kullanarak\n",
        "\n",
        "emp_1=Employee('Corey','Shafer',50000) \n",
        "emp_2=Employee('Test','User',20000) \n",
        "\n",
        "emp_1.raise_amount=1.05\n",
        "\n",
        "print(Employee.raise_amount) \n",
        "print(emp_1.raise_amount) \n",
        "print(emp_2.raise_amount) \n",
        "# artış oranına class'ın kendisinden veya instance'ların herhangi birinden erişebiliyoruz\n"
      ],
      "metadata": {
        "id": "MqAu22hZqLuz",
        "colab": {
          "base_uri": "https://localhost:8080/"
        },
        "outputId": "ca7f9362-56cb-401a-e952-de7b726c73a1"
      },
      "execution_count": null,
      "outputs": [
        {
          "output_type": "stream",
          "name": "stdout",
          "text": [
            "1.04\n",
            "1.05\n",
            "1.04\n"
          ]
        }
      ]
    },
    {
      "cell_type": "code",
      "source": [
        "# Corey'in videodaki cümlesi\n",
        "# \"When we try to access an attribute on an instance it will first check if the \n",
        "# instance contains that attribute and if it doesn't then it will see if the \n",
        "# class or any class that it inherits from that attribute. So when we access\n",
        "#  raise_amount from our instances here they don't actually have that attribute\n",
        "#   themselves , they are  accessing the class's raise_amount attribute \"\n",
        "\n",
        "# Bir instance'ın attribute'ına erişmek istersek, önce bu instance'da böyle bir \n",
        "# attribute var mı kontrol edilir. Eğer yoksa bu instance'ın class'ı veya inherit\n",
        "# ettiği class'da attirbute var mı bakılır. Örnek olarak burada bizim emp_1 ve \n",
        "# emp_2 instance içinde raise_amount attribute olmadığı için Employee class'ından\n",
        "# raise_amount attribute'ına bakıldı.  "
      ],
      "metadata": {
        "id": "DYBMHKty96Nt"
      },
      "execution_count": null,
      "outputs": []
    },
    {
      "cell_type": "code",
      "source": [
        "class Employee:\n",
        "\n",
        "  raise_amount=1.04 \n",
        "\n",
        "  def __init__(self, first,last,pay): \n",
        "    self.first=first \n",
        "    self.last=last\n",
        "    self.pay=pay\n",
        "    self.email=first +'.'+last+'@company.com'\n",
        "\n",
        "\n",
        "  def fullname(self): \n",
        "    return f\"{self.first} {self.last}\"\n",
        "\n",
        "  def apply_raise(self):\n",
        "    self.pay=int(self.pay*self.raise_amount) \n",
        "\n",
        "emp_1=Employee('Corey','Shafer',50000) \n",
        "emp_2=Employee('Test','User',20000) \n",
        "\n",
        "print(emp_1.__dict__)"
      ],
      "metadata": {
        "colab": {
          "base_uri": "https://localhost:8080/"
        },
        "id": "DLAk0iRpBfis",
        "outputId": "e532ed20-08f2-4ef4-9ca8-3f8ed75979d5"
      },
      "execution_count": 5,
      "outputs": [
        {
          "output_type": "stream",
          "name": "stdout",
          "text": [
            "{'first': 'Corey', 'last': 'Shafer', 'pay': 50000, 'email': 'Corey.Shafer@company.com'}\n"
          ]
        }
      ]
    },
    {
      "cell_type": "code",
      "source": [
        "# emp_1'in namespace'ine bakınca, hangi anahtarı çağırınca hangi değerin geleceğini görüyoruz\n",
        "# burada raise_amount yok\n"
      ],
      "metadata": {
        "id": "8yAM_7C2BuSd"
      },
      "execution_count": null,
      "outputs": []
    },
    {
      "cell_type": "code",
      "source": [
        "class Employee:\n",
        "\n",
        "  raise_amount=1.04 \n",
        "\n",
        "  def __init__(self, first,last,pay): \n",
        "    self.first=first \n",
        "    self.last=last\n",
        "    self.pay=pay\n",
        "    self.email=first +'.'+last+'@company.com'\n",
        "\n",
        "\n",
        "  def fullname(self): \n",
        "    return f\"{self.first} {self.last}\"\n",
        "\n",
        "  def apply_raise(self):\n",
        "    self.pay=int(self.pay*self.raise_amount) \n",
        "\n",
        "emp_1=Employee('Corey','Shafer',50000) \n",
        "emp_2=Employee('Test','User',20000) \n",
        "\n",
        "print(Employee.__dict__)"
      ],
      "metadata": {
        "colab": {
          "base_uri": "https://localhost:8080/"
        },
        "id": "_nvuIFAvCKwV",
        "outputId": "ad0bc9b4-e861-4c0c-fd34-f30c10bd596c"
      },
      "execution_count": 6,
      "outputs": [
        {
          "output_type": "stream",
          "name": "stdout",
          "text": [
            "{'__module__': '__main__', 'raise_amount': 1.04, '__init__': <function Employee.__init__ at 0x7f9ea4d35950>, 'fullname': <function Employee.fullname at 0x7f9ea4d35b90>, 'apply_raise': <function Employee.apply_raise at 0x7f9ea4d35cb0>, '__dict__': <attribute '__dict__' of 'Employee' objects>, '__weakref__': <attribute '__weakref__' of 'Employee' objects>, '__doc__': None}\n"
          ]
        }
      ]
    },
    {
      "cell_type": "code",
      "source": [
        "#Employee'nin namespace'ine bakınca raise_amount'u görüyoruz"
      ],
      "metadata": {
        "id": "nLn4kp3gCSS1"
      },
      "execution_count": null,
      "outputs": []
    },
    {
      "cell_type": "code",
      "source": [
        "class Employee:\n",
        "\n",
        "  raise_amount=1.04 \n",
        "\n",
        "  def __init__(self, first,last,pay): \n",
        "    self.first=first \n",
        "    self.last=last\n",
        "    self.pay=pay\n",
        "    self.email=first +'.'+last+'@company.com'\n",
        "\n",
        "\n",
        "  def fullname(self): \n",
        "    return f\"{self.first} {self.last}\"\n",
        "\n",
        "  def apply_raise(self):\n",
        "    self.pay=int(self.pay*Employee.raise_amount) \n",
        "\n",
        "emp_1=Employee('Corey','Shafer',50000) \n",
        "emp_2=Employee('Test','User',20000) \n",
        "\n",
        "Employee.raise_amount=1.05\n",
        "\n",
        "print(Employee.raise_amount) \n",
        "print(emp_1.raise_amount) \n",
        "print(emp_2.raise_amount) \n"
      ],
      "metadata": {
        "colab": {
          "base_uri": "https://localhost:8080/"
        },
        "id": "empE2B04CrXm",
        "outputId": "9199365b-4bcc-40c5-a216-514387d5a618"
      },
      "execution_count": 7,
      "outputs": [
        {
          "output_type": "stream",
          "name": "stdout",
          "text": [
            "1.05\n",
            "1.05\n",
            "1.05\n"
          ]
        }
      ]
    },
    {
      "cell_type": "code",
      "source": [
        "class Employee:\n",
        "\n",
        "  raise_amount=1.04 \n",
        "\n",
        "  def __init__(self, first,last,pay): \n",
        "    self.first=first \n",
        "    self.last=last\n",
        "    self.pay=pay\n",
        "    self.email=first +'.'+last+'@company.com'\n",
        "\n",
        "\n",
        "  def fullname(self): \n",
        "    return f\"{self.first} {self.last}\"\n",
        "\n",
        "  def apply_raise(self):\n",
        "    self.pay=int(self.pay*Employee.raise_amount) \n",
        "\n",
        "emp_1=Employee('Corey','Shafer',50000) \n",
        "emp_2=Employee('Test','User',20000) \n",
        "\n",
        "emp_1.raise_amount=1.05  #instance üzerinden class değişkenini tanımladık\n",
        "\n",
        "print(Employee.raise_amount) \n",
        "print(emp_1.raise_amount) \n",
        "print(emp_2.raise_amount) \n"
      ],
      "metadata": {
        "colab": {
          "base_uri": "https://localhost:8080/"
        },
        "id": "dfPhkwZI22Ey",
        "outputId": "ae3c8fcd-5f44-4551-e615-69328677f838"
      },
      "execution_count": null,
      "outputs": [
        {
          "output_type": "stream",
          "name": "stdout",
          "text": [
            "1.04\n",
            "1.05\n",
            "1.04\n"
          ]
        }
      ]
    },
    {
      "cell_type": "code",
      "source": [
        "# şimdi emp_1'in namespace'ine bakalım"
      ],
      "metadata": {
        "id": "VgTNOw9ADasl"
      },
      "execution_count": 8,
      "outputs": []
    },
    {
      "cell_type": "code",
      "source": [
        "class Employee:\n",
        "\n",
        "  raise_amount=1.04 \n",
        "\n",
        "  def __init__(self, first,last,pay): \n",
        "    self.first=first \n",
        "    self.last=last\n",
        "    self.pay=pay\n",
        "    self.email=first +'.'+last+'@company.com'\n",
        "\n",
        "\n",
        "  def fullname(self): \n",
        "    return f\"{self.first} {self.last}\"\n",
        "\n",
        "  def apply_raise(self):\n",
        "    self.pay=int(self.pay*Employee.raise_amount) \n",
        "\n",
        "emp_1=Employee('Corey','Shafer',50000) \n",
        "emp_2=Employee('Test','User',20000) \n",
        "\n",
        "emp_1.raise_amount=1.05  #instance üzerinden class değişkenini güncelledik\n",
        "\n",
        "print(emp_1.__dict__)\n",
        "\n",
        "print(Employee.raise_amount) \n",
        "print(emp_1.raise_amount) \n",
        "print(emp_2.raise_amount) \n"
      ],
      "metadata": {
        "colab": {
          "base_uri": "https://localhost:8080/"
        },
        "id": "q6xMGhrxDLkd",
        "outputId": "2f7b3787-9ee2-4231-cb50-2f3480df3b6f"
      },
      "execution_count": 9,
      "outputs": [
        {
          "output_type": "stream",
          "name": "stdout",
          "text": [
            "{'first': 'Corey', 'last': 'Shafer', 'pay': 50000, 'email': 'Corey.Shafer@company.com', 'raise_amount': 1.05}\n",
            "1.04\n",
            "1.05\n",
            "1.04\n"
          ]
        }
      ]
    },
    {
      "cell_type": "code",
      "source": [
        "# emp_1.raise_amount'u çağırdığımızda önce emp_1'in namespace'ine bakıldığı için sonuç 1.05 yazar. \n",
        "# emp_2.raise_amount'u değiştirmediğimiz için 1.04 yazar."
      ],
      "metadata": {
        "id": "_mrw_jVFDm79"
      },
      "execution_count": null,
      "outputs": []
    },
    {
      "cell_type": "code",
      "source": [
        "#class değişkeni ile ilgili self kullanılmayan bir örneğe bakalım\n",
        "\n",
        "class Employee:\n",
        "  num_of_emps=0  #yeni class değişkeni\n",
        "  raise_amount=1.04 #class değişkeni\n",
        "\n",
        "  def __init__(self, first,last,pay): \n",
        "    self.first=first \n",
        "    self.last=last\n",
        "    self.pay=pay\n",
        "    self.email=first +'.'+last+'@company.com'\n",
        "\n",
        "    Employee.num_of_emps +=1 #class değişkeninin güncellendiği satır. \n",
        "    # her instance için çalışan sayısının farklı olması işe yaramaz, self kullanılması bir fayda sağlamıyor\n",
        "\n",
        "  def fullname(self): \n",
        "    return f\"{self.first} {self.last}\"\n",
        "\n",
        "  def apply_raise(self):\n",
        "    self.pay=int(self.pay*self.raise_amount)\n",
        "\n",
        "print(Employee.num_of_emps) #instance oluşturmadan önce\n",
        "\n",
        "emp_1=Employee('Corey','Shafer',50000) \n",
        "emp_2=Employee('Test','User',20000) \n",
        "\n",
        "print(Employee.num_of_emps)  #instance oluşturduktan sonra\n"
      ],
      "metadata": {
        "colab": {
          "base_uri": "https://localhost:8080/"
        },
        "id": "JsekCoqi29c3",
        "outputId": "b0a891fc-b6b2-4ce3-9225-4af77fed94e4"
      },
      "execution_count": null,
      "outputs": [
        {
          "output_type": "stream",
          "name": "stdout",
          "text": [
            "0\n",
            "2\n"
          ]
        }
      ]
    },
    {
      "cell_type": "code",
      "source": [
        "# CLASS METHODS AND STATIC METHODS \n",
        "# https://www.youtube.com/watch?v=rq8cL2XMM5M\n",
        "\n",
        "# Normal metodlar birinci argüman olarak self alıyordu. Class metodları birinci\n",
        "# argüman olarak, class'ı nasıl alabilir? cevabı burada\n",
        "\n",
        "class Employee:\n",
        "\n",
        "  raise_amt=1.04 #class değişkeni\n",
        "\n",
        "  def __init__(self, first,last,pay): \n",
        "    self.first=first \n",
        "    self.last=last\n",
        "    self.pay=pay\n",
        "    self.email=first +'.'+last+'@company.com'\n",
        "\n",
        "\n",
        "  def fullname(self): \n",
        "    return f\"{self.first} {self.last}\"\n",
        "\n",
        "  def apply_raise(self):\n",
        "    self.pay=int(self.pay*Employee.raise_amt)\n",
        "\n",
        "  @classmethod  #class metodun yazıldığı satır (decorator)\n",
        "  def set_raise_amt(cls,amount): # cls geleneksel olarak kullanılır\n",
        "    cls.raise_amt=amount\n",
        "\n",
        "\n",
        "emp_1=Employee('Corey','Shafer',50000) \n",
        "emp_2=Employee('Test','User',20000) \n",
        "\n",
        "print(Employee.raise_amt) \n",
        "print(emp_1.raise_amt) \n",
        "print(emp_2.raise_amt) "
      ],
      "metadata": {
        "colab": {
          "base_uri": "https://localhost:8080/"
        },
        "id": "jx0aMss64oXm",
        "outputId": "d0eec218-2c50-43c7-e890-d1e871f32ffc"
      },
      "execution_count": null,
      "outputs": [
        {
          "output_type": "stream",
          "name": "stdout",
          "text": [
            "1.04\n",
            "1.04\n",
            "1.04\n"
          ]
        }
      ]
    },
    {
      "cell_type": "code",
      "source": [
        "# raise amount'u class metot ile güncelleme örneği\n",
        "class Employee:\n",
        "\n",
        "  raise_amt=1.04 #class değişkeni\n",
        "\n",
        "  def __init__(self, first,last,pay): \n",
        "    self.first=first \n",
        "    self.last=last\n",
        "    self.pay=pay\n",
        "    self.email=first +'.'+last+'@company.com'\n",
        "\n",
        "\n",
        "  def fullname(self): \n",
        "    return f\"{self.first} {self.last}\"\n",
        "\n",
        "  def apply_raise(self):\n",
        "    self.pay=int(self.pay*Employee.raise_amt)\n",
        "\n",
        "  @classmethod\n",
        "  def set_raise_amt(cls,amount):\n",
        "    cls.raise_amt=amount\n",
        "\n",
        "\n",
        "emp_1=Employee('Corey','Shafer',50000) \n",
        "emp_2=Employee('Test','User',20000) \n",
        "\n",
        "Employee.set_raise_amt(1.05)\n",
        "\n",
        "print(Employee.raise_amt) \n",
        "print(emp_1.raise_amt) \n",
        "print(emp_2.raise_amt) "
      ],
      "metadata": {
        "colab": {
          "base_uri": "https://localhost:8080/"
        },
        "id": "preu74_47gP4",
        "outputId": "dc03e4fe-3976-493b-949a-52f9d66b0c51"
      },
      "execution_count": 10,
      "outputs": [
        {
          "output_type": "stream",
          "name": "stdout",
          "text": [
            "1.05\n",
            "1.05\n",
            "1.05\n"
          ]
        }
      ]
    },
    {
      "cell_type": "code",
      "source": [
        "# instance üzerinden class metot çağrılabilir ancak bu pratikte kullanılmaz"
      ],
      "metadata": {
        "id": "JNbNOWhKVe9m"
      },
      "execution_count": null,
      "outputs": []
    },
    {
      "cell_type": "code",
      "source": [
        "class Employee:\n",
        "\n",
        "  raise_amt=1.04 #class değişkeni\n",
        "\n",
        "  def __init__(self, first,last,pay): \n",
        "    self.first=first \n",
        "    self.last=last\n",
        "    self.pay=pay\n",
        "    self.email=first +'.'+last+'@company.com'\n",
        "\n",
        "\n",
        "  def fullname(self): \n",
        "    return f\"{self.first} {self.last}\"\n",
        "\n",
        "  def apply_raise(self):\n",
        "    self.pay=int(self.pay*Employee.raise_amt)\n",
        "\n",
        "  @classmethod\n",
        "  def set_raise_amt(cls,amount):\n",
        "    cls.raise_amt=amount\n",
        "\n",
        "\n",
        "emp_1=Employee('Corey','Shafer',50000) \n",
        "emp_2=Employee('Test','User',20000) \n",
        "\n",
        "emp_1.set_raise_amt(1.05)\n",
        "\n",
        "print(Employee.raise_amt) \n",
        "print(emp_1.raise_amt) \n",
        "print(emp_2.raise_amt) "
      ],
      "metadata": {
        "colab": {
          "base_uri": "https://localhost:8080/"
        },
        "id": "o85prxsx8NCQ",
        "outputId": "7d846682-5ba2-4ae9-8970-d2094224caa3"
      },
      "execution_count": null,
      "outputs": [
        {
          "output_type": "stream",
          "name": "stdout",
          "text": [
            "1.05\n",
            "1.05\n",
            "1.05\n"
          ]
        }
      ]
    },
    {
      "cell_type": "code",
      "source": [
        "# class metotlarının alternatif constructor olarak kullanılması\n",
        "# Örnek: Employee class'ını kullanan birisi çalışan isimlerinin ve maaşlarının kendisine\n",
        "# aralarında - olan string şekilde geldiğini söylüyor. Dolayısıyla, Employee class'ı\n",
        "# kullanarak bir nesne üretmek için, stringin isim, soyad ve maaş olarak ayrılması gerekiyor.\n",
        "# Bir stringi gönderebileceğimiz bir yol var mı?\n",
        "\n",
        "class Employee:\n",
        "\n",
        "  raise_amt=1.04 #class değişkeni\n",
        "\n",
        "  def __init__(self, first,last,pay): \n",
        "    self.first=first \n",
        "    self.last=last\n",
        "    self.pay=pay\n",
        "    self.email=first +'.'+last+'@company.com'\n",
        "\n",
        "\n",
        "  def fullname(self): \n",
        "    return f\"{self.first} {self.last}\"\n",
        "\n",
        "  def apply_raise(self):\n",
        "    self.pay=int(self.pay*Employee.raise_amt)\n",
        "\n",
        "  @classmethod\n",
        "  def set_raise_amt(cls,amount):\n",
        "    cls.raise_amt=amount\n",
        "\n",
        "\n",
        "emp_1=Employee('Corey','Shafer',50000) \n",
        "emp_2=Employee('Test','User',20000) \n",
        "\n",
        "emp_str_1 = 'John-Doe-70000'\n",
        "emp_str_2 = 'Steve-Smith-30000'\n",
        "emp_str_3 = 'Jane-Doe-90000'\n",
        "\n",
        "first, last, pay = emp_str_1.split('-') #stringin 3'e bölünmesi\n",
        "\n",
        "new_emp_1 = Employee(first, last, pay)\n",
        "\n",
        "print(new_emp_1.email)\n",
        "\n"
      ],
      "metadata": {
        "id": "FSA_bwhU81_e",
        "colab": {
          "base_uri": "https://localhost:8080/"
        },
        "outputId": "108b1288-6106-4c55-9bfc-2e837bbd5a00"
      },
      "execution_count": 11,
      "outputs": [
        {
          "output_type": "stream",
          "name": "stdout",
          "text": [
            "John.Doe@company.com\n"
          ]
        }
      ]
    },
    {
      "cell_type": "code",
      "source": [
        "# Yukarıdaki yöntem çalıştı. Ancak her zaman bu şekilde tek tek parçalara bölünmesi pek kullanışlı değil\n",
        "# Bir alternatif constructora ihtiyacımız var\n",
        "# Bu alternatif constructor string metin alacak ve instance oluşturacak\n",
        "# Aşağıdaki örneği dikkatlice inceleyin"
      ],
      "metadata": {
        "id": "n8JGFn8fYAgQ"
      },
      "execution_count": null,
      "outputs": []
    },
    {
      "cell_type": "code",
      "source": [
        "class Employee:\n",
        "\n",
        "  raise_amt=1.04 #class değişkeni\n",
        "\n",
        "  def __init__(self, first,last,pay): \n",
        "    self.first=first \n",
        "    self.last=last\n",
        "    self.pay=pay\n",
        "    self.email=first +'.'+last+'@company.com'\n",
        "\n",
        "\n",
        "  def fullname(self): \n",
        "    return f\"{self.first} {self.last}\"\n",
        "\n",
        "  def apply_raise(self):\n",
        "    self.pay=int(self.pay*Employee.raise_amt)\n",
        "\n",
        "  @classmethod\n",
        "  def set_raise_amt(cls,amount):\n",
        "    cls.raise_amt=amount\n",
        "\n",
        "  @classmethod   #alternatif constructor tanımı bu şekilde yapılıyor\n",
        "  def from_string(cls,emp_str):\n",
        "    first, last, pay = emp_str.split('-')\n",
        "    return cls(first, last, pay)\n",
        "\n",
        "\n",
        "emp_1=Employee('Corey','Shafer',50000) \n",
        "emp_2=Employee('Test','User',20000) \n",
        "\n",
        "emp_str_1 = 'John-Doe-70000'\n",
        "emp_str_2 = 'Steve-Smith-30000'\n",
        "emp_str_3 = 'Jane-Doe-90000'\n",
        "\n",
        "first, last, pay = emp_str_1.split('-') #stringin 3'e bölünmesi\n",
        "\n",
        "new_emp_1 = Employee.from_string(emp_str_1)\n",
        "\n",
        "print(new_emp_1.email)\n"
      ],
      "metadata": {
        "colab": {
          "base_uri": "https://localhost:8080/"
        },
        "id": "67VHhNDwYDIG",
        "outputId": "2ab73cad-c72e-4904-a4a8-91af4dbecd8c"
      },
      "execution_count": 12,
      "outputs": [
        {
          "output_type": "stream",
          "name": "stdout",
          "text": [
            "John.Doe@company.com\n"
          ]
        }
      ]
    },
    {
      "cell_type": "code",
      "source": [
        "# Artık stringleri bölmek zorunda değiliz. from_string Alternatif constructor içinde bölünüyor\n",
        "# from kelimesi geleneksel, zorunlu değil\n",
        "\n",
        "# Bu hafta burada bitti. Haftaya kaldığımız yerden devam edeceğiz"
      ],
      "metadata": {
        "id": "VQhRFzy5Zm-C"
      },
      "execution_count": null,
      "outputs": []
    }
  ]
}