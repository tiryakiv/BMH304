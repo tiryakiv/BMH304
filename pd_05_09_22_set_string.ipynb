{
  "nbformat": 4,
  "nbformat_minor": 0,
  "metadata": {
    "colab": {
      "name": "pd_05_09_22_set_string.ipynb",
      "provenance": [],
      "collapsed_sections": []
    },
    "kernelspec": {
      "name": "python3",
      "display_name": "Python 3"
    },
    "language_info": {
      "name": "python"
    }
  },
  "cells": [
    {
      "cell_type": "markdown",
      "source": [
        "Programlama dilleri dersi Colab defteri"
      ],
      "metadata": {
        "id": "UFaY6VBIHKMv"
      }
    },
    {
      "cell_type": "code",
      "source": [
        "# Kaynak: https://www.youtube.com/watch?v=HGOBQPFzWKo&t=3526s\n",
        "# freecodecamp Intermediate Python Programming Course\n",
        "# Erişim günü: 10 Mayıs 2022"
      ],
      "metadata": {
        "id": "aDrjCnb8_YJ4"
      },
      "execution_count": null,
      "outputs": []
    },
    {
      "cell_type": "code",
      "source": [
        "!python --version"
      ],
      "metadata": {
        "colab": {
          "base_uri": "https://localhost:8080/"
        },
        "id": "559R4oYufuL8",
        "outputId": "95480eaf-4f9e-4317-956b-84bf2ead4103"
      },
      "execution_count": null,
      "outputs": [
        {
          "output_type": "stream",
          "name": "stdout",
          "text": [
            "Python 3.7.13\n"
          ]
        }
      ]
    },
    {
      "cell_type": "code",
      "source": [
        "# Bazı kodların çıktılarında hata mesajları var. Bunları bilerek silmedim. \n",
        "# Bu hata mesajlarının niçin çıktığını anlamaya çalışın. \n",
        "# Kod hücreleri birbirine benziyor, ancak her bir kod hücresinde farklı bir nokta anlatılıyor."
      ],
      "metadata": {
        "id": "Dr4GCY0eGNYc"
      },
      "execution_count": null,
      "outputs": []
    },
    {
      "cell_type": "code",
      "source": [
        "# set        : sırasız, değiştirilebilir, aynı elemanı birden fazla içeremeyen dizi\n",
        "\n",
        "# dictionary : sırasız, değiştirilebilir, anahtar-değer ikili dizileri \n",
        "# list       : sıralı, değiştirilebilir ve aynı elemanı birden fazla içerebilen dizi\n",
        "# tuple      : sıralı, değiştirilemeyen ve aynı elemanı birden fazla içerebilen dizi\n"
      ],
      "metadata": {
        "id": "wsZ2jTdJuo-g"
      },
      "execution_count": null,
      "outputs": []
    },
    {
      "cell_type": "code",
      "source": [
        "myset={1,2,3}\n",
        "print(myset)"
      ],
      "metadata": {
        "colab": {
          "base_uri": "https://localhost:8080/"
        },
        "id": "7QuivPA5ijVE",
        "outputId": "93f2f1e1-e3d2-4310-f545-672a201e98bb"
      },
      "execution_count": null,
      "outputs": [
        {
          "output_type": "stream",
          "name": "stdout",
          "text": [
            "{1, 2, 3}\n"
          ]
        }
      ]
    },
    {
      "cell_type": "code",
      "source": [
        "myset={1,2,3,1,2}\n",
        "print(myset)"
      ],
      "metadata": {
        "colab": {
          "base_uri": "https://localhost:8080/"
        },
        "id": "bThzWxziitnR",
        "outputId": "f8733dc5-bbb9-4993-d914-a11a1187c73f"
      },
      "execution_count": null,
      "outputs": [
        {
          "output_type": "stream",
          "name": "stdout",
          "text": [
            "{1, 2, 3}\n"
          ]
        }
      ]
    },
    {
      "cell_type": "code",
      "source": [
        "myset=set([1,2,3])\n",
        "print(myset)"
      ],
      "metadata": {
        "colab": {
          "base_uri": "https://localhost:8080/"
        },
        "id": "M-8hekhljK2K",
        "outputId": "065bb089-717a-4b84-acfa-2220c0ee8696"
      },
      "execution_count": null,
      "outputs": [
        {
          "output_type": "stream",
          "name": "stdout",
          "text": [
            "{1, 2, 3}\n"
          ]
        }
      ]
    },
    {
      "cell_type": "code",
      "source": [
        "myset=set(\"Hello\")\n",
        "print(myset)"
      ],
      "metadata": {
        "colab": {
          "base_uri": "https://localhost:8080/"
        },
        "id": "195WQs9cjY6f",
        "outputId": "972df850-cda9-4eec-aa70-33cf0165401b"
      },
      "execution_count": null,
      "outputs": [
        {
          "output_type": "stream",
          "name": "stdout",
          "text": [
            "{'e', 'H', 'o', 'l'}\n"
          ]
        }
      ]
    },
    {
      "cell_type": "code",
      "source": [
        "myset={}\n",
        "print(type(myset))"
      ],
      "metadata": {
        "colab": {
          "base_uri": "https://localhost:8080/"
        },
        "id": "UOKxf_uVji8o",
        "outputId": "5da5b081-63f3-49a9-b0df-6ee461723d17"
      },
      "execution_count": null,
      "outputs": [
        {
          "output_type": "stream",
          "name": "stdout",
          "text": [
            "<class 'dict'>\n"
          ]
        }
      ]
    },
    {
      "cell_type": "code",
      "source": [
        "myset=set()\n",
        "print(type(myset))"
      ],
      "metadata": {
        "colab": {
          "base_uri": "https://localhost:8080/"
        },
        "id": "Q-9u5kvij6lP",
        "outputId": "2ba65e8e-eef2-47d1-dcf0-ea7f08a015ad"
      },
      "execution_count": null,
      "outputs": [
        {
          "output_type": "stream",
          "name": "stdout",
          "text": [
            "<class 'set'>\n"
          ]
        }
      ]
    },
    {
      "cell_type": "code",
      "source": [
        "myset=set()\n",
        "\n",
        "myset.add(1)\n",
        "myset.add(2)\n",
        "myset.add(3)\n",
        "\n",
        "myset.remove(3)\n",
        "\n",
        "print(myset)"
      ],
      "metadata": {
        "colab": {
          "base_uri": "https://localhost:8080/"
        },
        "id": "saggTGXQkNZG",
        "outputId": "25e4fd58-d02c-4fa1-f966-3e9264339a51"
      },
      "execution_count": null,
      "outputs": [
        {
          "output_type": "stream",
          "name": "stdout",
          "text": [
            "{1, 2}\n"
          ]
        }
      ]
    },
    {
      "cell_type": "code",
      "source": [
        "myset=set()\n",
        "\n",
        "myset.add(1)\n",
        "myset.add(2)\n",
        "myset.add(3)\n",
        "\n",
        "myset.remove(4)\n",
        "\n",
        "print(myset)"
      ],
      "metadata": {
        "colab": {
          "base_uri": "https://localhost:8080/",
          "height": 235
        },
        "id": "OnhvPDlpki5O",
        "outputId": "5acd1acd-a145-4349-f89d-8822c89368e1"
      },
      "execution_count": null,
      "outputs": [
        {
          "output_type": "error",
          "ename": "KeyError",
          "evalue": "ignored",
          "traceback": [
            "\u001b[0;31m---------------------------------------------------------------------------\u001b[0m",
            "\u001b[0;31mKeyError\u001b[0m                                  Traceback (most recent call last)",
            "\u001b[0;32m<ipython-input-11-076d06a3e9f8>\u001b[0m in \u001b[0;36m<module>\u001b[0;34m()\u001b[0m\n\u001b[1;32m      5\u001b[0m \u001b[0mmyset\u001b[0m\u001b[0;34m.\u001b[0m\u001b[0madd\u001b[0m\u001b[0;34m(\u001b[0m\u001b[0;36m3\u001b[0m\u001b[0;34m)\u001b[0m\u001b[0;34m\u001b[0m\u001b[0;34m\u001b[0m\u001b[0m\n\u001b[1;32m      6\u001b[0m \u001b[0;34m\u001b[0m\u001b[0m\n\u001b[0;32m----> 7\u001b[0;31m \u001b[0mmyset\u001b[0m\u001b[0;34m.\u001b[0m\u001b[0mremove\u001b[0m\u001b[0;34m(\u001b[0m\u001b[0;36m4\u001b[0m\u001b[0;34m)\u001b[0m\u001b[0;34m\u001b[0m\u001b[0;34m\u001b[0m\u001b[0m\n\u001b[0m\u001b[1;32m      8\u001b[0m \u001b[0;34m\u001b[0m\u001b[0m\n\u001b[1;32m      9\u001b[0m \u001b[0mprint\u001b[0m\u001b[0;34m(\u001b[0m\u001b[0mmyset\u001b[0m\u001b[0;34m)\u001b[0m\u001b[0;34m\u001b[0m\u001b[0;34m\u001b[0m\u001b[0m\n",
            "\u001b[0;31mKeyError\u001b[0m: 4"
          ]
        }
      ]
    },
    {
      "cell_type": "code",
      "source": [
        "myset=set()\n",
        "\n",
        "myset.add(1)\n",
        "myset.add(2)\n",
        "myset.add(3)\n",
        "\n",
        "myset.discard(4)\n",
        "\n",
        "print(myset)"
      ],
      "metadata": {
        "colab": {
          "base_uri": "https://localhost:8080/"
        },
        "id": "fxFADrjyk5R1",
        "outputId": "a5ed95aa-891d-471e-d595-4d16c1bd5a8d"
      },
      "execution_count": null,
      "outputs": [
        {
          "output_type": "stream",
          "name": "stdout",
          "text": [
            "{1, 2, 3}\n"
          ]
        }
      ]
    },
    {
      "cell_type": "code",
      "source": [
        "myset=set()\n",
        "\n",
        "myset.add(1)\n",
        "myset.add(2)\n",
        "myset.add(3)\n",
        "\n",
        "myset.clear()\n",
        "\n",
        "print(myset)"
      ],
      "metadata": {
        "colab": {
          "base_uri": "https://localhost:8080/"
        },
        "id": "chGWxUg7lBI-",
        "outputId": "7d7a5811-bfee-471b-d4dd-873c445c96ab"
      },
      "execution_count": null,
      "outputs": [
        {
          "output_type": "stream",
          "name": "stdout",
          "text": [
            "set()\n"
          ]
        }
      ]
    },
    {
      "cell_type": "code",
      "source": [
        "myset=set()\n",
        "\n",
        "myset.add(1)\n",
        "myset.add(2)\n",
        "myset.add(3)\n",
        "\n",
        "print(myset.pop())  #rastgele bir eleman çıkarılıyor ve return oluyor\n",
        "\n",
        "print(myset)"
      ],
      "metadata": {
        "colab": {
          "base_uri": "https://localhost:8080/"
        },
        "id": "V7Rcf_ITlBnO",
        "outputId": "1a5c09af-d598-4434-cc16-f9f9cd8a4dda"
      },
      "execution_count": null,
      "outputs": [
        {
          "output_type": "stream",
          "name": "stdout",
          "text": [
            "1\n",
            "{2, 3}\n"
          ]
        }
      ]
    },
    {
      "cell_type": "code",
      "source": [
        "myset=set()\n",
        "\n",
        "myset.add(1)\n",
        "myset.add(2)\n",
        "myset.add(3)\n",
        "\n",
        "print(myset.pop('2'))\n",
        "\n",
        "print(myset)"
      ],
      "metadata": {
        "colab": {
          "base_uri": "https://localhost:8080/",
          "height": 235
        },
        "id": "qbM7Vm4Tlvlv",
        "outputId": "1ab412e1-b0d8-4430-8c7f-7eac49edd286"
      },
      "execution_count": null,
      "outputs": [
        {
          "output_type": "error",
          "ename": "TypeError",
          "evalue": "ignored",
          "traceback": [
            "\u001b[0;31m---------------------------------------------------------------------------\u001b[0m",
            "\u001b[0;31mTypeError\u001b[0m                                 Traceback (most recent call last)",
            "\u001b[0;32m<ipython-input-18-43af9fd50bd0>\u001b[0m in \u001b[0;36m<module>\u001b[0;34m()\u001b[0m\n\u001b[1;32m      5\u001b[0m \u001b[0mmyset\u001b[0m\u001b[0;34m.\u001b[0m\u001b[0madd\u001b[0m\u001b[0;34m(\u001b[0m\u001b[0;36m3\u001b[0m\u001b[0;34m)\u001b[0m\u001b[0;34m\u001b[0m\u001b[0;34m\u001b[0m\u001b[0m\n\u001b[1;32m      6\u001b[0m \u001b[0;34m\u001b[0m\u001b[0m\n\u001b[0;32m----> 7\u001b[0;31m \u001b[0mprint\u001b[0m\u001b[0;34m(\u001b[0m\u001b[0mmyset\u001b[0m\u001b[0;34m.\u001b[0m\u001b[0mpop\u001b[0m\u001b[0;34m(\u001b[0m\u001b[0;34m'2'\u001b[0m\u001b[0;34m)\u001b[0m\u001b[0;34m)\u001b[0m\u001b[0;34m\u001b[0m\u001b[0;34m\u001b[0m\u001b[0m\n\u001b[0m\u001b[1;32m      8\u001b[0m \u001b[0;34m\u001b[0m\u001b[0m\n\u001b[1;32m      9\u001b[0m \u001b[0mprint\u001b[0m\u001b[0;34m(\u001b[0m\u001b[0mmyset\u001b[0m\u001b[0;34m)\u001b[0m\u001b[0;34m\u001b[0m\u001b[0;34m\u001b[0m\u001b[0m\n",
            "\u001b[0;31mTypeError\u001b[0m: pop() takes no arguments (1 given)"
          ]
        }
      ]
    },
    {
      "cell_type": "code",
      "source": [
        "myset=set()\n",
        "\n",
        "myset.add(1)\n",
        "myset.add(2)\n",
        "myset.add(3)\n",
        "\n",
        "for i in myset:\n",
        "  print(i)"
      ],
      "metadata": {
        "colab": {
          "base_uri": "https://localhost:8080/"
        },
        "id": "mw6CcFQKmOGi",
        "outputId": "932cf4ee-9c71-4367-8161-34221694da8d"
      },
      "execution_count": null,
      "outputs": [
        {
          "output_type": "stream",
          "name": "stdout",
          "text": [
            "1\n",
            "2\n",
            "3\n"
          ]
        }
      ]
    },
    {
      "cell_type": "code",
      "source": [
        "myset=set()\n",
        "\n",
        "myset.add(1)\n",
        "myset.add(2)\n",
        "myset.add(3)\n",
        "\n",
        "# for döngüsüne gerek kalmadan bir eleman küme içinde mi değil mi görebiliyoruz\n",
        "if 1 in myset: \n",
        "  print(\"yes\")"
      ],
      "metadata": {
        "colab": {
          "base_uri": "https://localhost:8080/"
        },
        "id": "1weVngegmbjz",
        "outputId": "52d8a009-bc6d-44b9-de0f-07af52de2315"
      },
      "execution_count": null,
      "outputs": [
        {
          "output_type": "stream",
          "name": "stdout",
          "text": [
            "yes\n"
          ]
        }
      ]
    },
    {
      "cell_type": "code",
      "source": [
        "#küme birleşim, kesişim, fark ve diğ\n",
        "tek={1,3,5,7}\n",
        "cift={0,2,4,6,8}\n",
        "asal={2,3,5,7}\n",
        "# tek sayı kümesi birleşim çift sayı kümesi\n",
        "b = tek.union(cift)\n",
        "print(b)"
      ],
      "metadata": {
        "colab": {
          "base_uri": "https://localhost:8080/"
        },
        "id": "2gCPAL_Jnvlg",
        "outputId": "6f05d565-474e-4a23-c8c5-134e7b84122e"
      },
      "execution_count": null,
      "outputs": [
        {
          "output_type": "stream",
          "name": "stdout",
          "text": [
            "{0, 1, 2, 3, 4, 5, 6, 7, 8}\n"
          ]
        }
      ]
    },
    {
      "cell_type": "code",
      "source": [
        "#küme birleşim, kesişim, fark ve diğ\n",
        "tek={1,3,5,7}\n",
        "cift={0,2,4,6,8}\n",
        "asal={2,3,5,7}\n",
        "# tek sayı kümesi kesişim çift sayı kümesi\n",
        "k = tek.intersection(cift)\n",
        "print(k)"
      ],
      "metadata": {
        "colab": {
          "base_uri": "https://localhost:8080/"
        },
        "id": "YOlyO4WcuD2l",
        "outputId": "d54c1161-d0de-4f63-a44b-fa75f480d1e3"
      },
      "execution_count": null,
      "outputs": [
        {
          "output_type": "stream",
          "name": "stdout",
          "text": [
            "set()\n"
          ]
        }
      ]
    },
    {
      "cell_type": "code",
      "source": [
        "#küme birleşim, kesişim, fark ve diğ.\n",
        "tek={1,3,5,7}\n",
        "cift={0,2,4,6,8}\n",
        "asal={2,3,5,7}\n",
        "# tek sayı kümesi kesişim asal sayı kümesi\n",
        "k1 = tek.intersection(asal)\n",
        "print(k1)"
      ],
      "metadata": {
        "colab": {
          "base_uri": "https://localhost:8080/"
        },
        "id": "eK_U9nDHuJsV",
        "outputId": "e72fa43d-7962-42f8-a7cd-1a41de9c1561"
      },
      "execution_count": null,
      "outputs": [
        {
          "output_type": "stream",
          "name": "stdout",
          "text": [
            "{3, 5, 7}\n"
          ]
        }
      ]
    },
    {
      "cell_type": "code",
      "source": [
        "#küme birleşim, kesişim, fark ve diğ.\n",
        "tek={1,3,5,7}\n",
        "cift={0,2,4,6,8}\n",
        "asal={2,3,5,7}\n",
        "# çift sayı kümesi kesişim asal sayı kümesi\n",
        "k2 = cift.intersection(asal)\n",
        "print(k2)"
      ],
      "metadata": {
        "colab": {
          "base_uri": "https://localhost:8080/"
        },
        "id": "EnW1HMGKuUBV",
        "outputId": "cc3a28cd-7d8b-4e86-9ccf-9f65fc3d717a"
      },
      "execution_count": null,
      "outputs": [
        {
          "output_type": "stream",
          "name": "stdout",
          "text": [
            "{2}\n"
          ]
        }
      ]
    },
    {
      "cell_type": "code",
      "source": [
        "#küme birleşim, kesişim, fark ve diğ.\n",
        "tek={1,3,5,7}\n",
        "cift={0,2,4,6,8}\n",
        "asal={2,3,5,7}\n",
        "# çift sayı kümesi fark asal sayı kümesi\n",
        "k2 = cift.difference(asal)\n",
        "print(k2)"
      ],
      "metadata": {
        "colab": {
          "base_uri": "https://localhost:8080/"
        },
        "id": "rii2HolUu2V8",
        "outputId": "bd380782-aa15-4b32-9555-e979f9c1f31f"
      },
      "execution_count": null,
      "outputs": [
        {
          "output_type": "stream",
          "name": "stdout",
          "text": [
            "{0, 8, 4, 6}\n"
          ]
        }
      ]
    },
    {
      "cell_type": "code",
      "source": [
        "#küme birleşim, kesişim, fark ve diğ.\n",
        "tek={1,3,5,7}\n",
        "cift={0,2,4,6,8}\n",
        "asal={2,3,5,7}\n",
        "# asal sayı kümesi fark çift sayı kümesi\n",
        "k2 = asal.difference(cift)\n",
        "print(k2)"
      ],
      "metadata": {
        "colab": {
          "base_uri": "https://localhost:8080/"
        },
        "id": "CgE99aeqvOGa",
        "outputId": "3fd46119-8832-4507-8014-da39350b930d"
      },
      "execution_count": null,
      "outputs": [
        {
          "output_type": "stream",
          "name": "stdout",
          "text": [
            "{3, 5, 7}\n"
          ]
        }
      ]
    },
    {
      "cell_type": "code",
      "source": [
        "#küme birleşim, kesişim, fark ve diğ.\n",
        "tek={1,3,5,7}\n",
        "cift={0,2,4,6,8}\n",
        "asal={2,3,5,7}\n",
        "# asal sayı kümesi simetrik fark çift sayı kümesi\n",
        "k2 = asal.symmetric_difference(cift)\n",
        "print(k2)"
      ],
      "metadata": {
        "colab": {
          "base_uri": "https://localhost:8080/"
        },
        "id": "zlT3xQDR_lrN",
        "outputId": "658698a5-1878-4a4d-9b3d-002bb60b9a23"
      },
      "execution_count": null,
      "outputs": [
        {
          "output_type": "stream",
          "name": "stdout",
          "text": [
            "{0, 3, 4, 5, 6, 7, 8}\n"
          ]
        }
      ]
    },
    {
      "cell_type": "code",
      "source": [
        "#küme birleşim, kesişim, fark ve diğ.\n",
        "tek={1,3,5,7}\n",
        "cift={0,2,4,6,8}\n",
        "asal={2,3,5,7}\n",
        "# çift sayı kümesi simetrik fark asal sayı kümesi\n",
        "k2 = cift.symmetric_difference(asal)\n",
        "print(k2)"
      ],
      "metadata": {
        "colab": {
          "base_uri": "https://localhost:8080/"
        },
        "id": "J_XhYpFX_2hF",
        "outputId": "1a8a6ebe-211f-4ae7-d5fc-fc13c8be87b4"
      },
      "execution_count": null,
      "outputs": [
        {
          "output_type": "stream",
          "name": "stdout",
          "text": [
            "{0, 3, 4, 5, 6, 7, 8}\n"
          ]
        }
      ]
    },
    {
      "cell_type": "code",
      "source": [
        "#küme birleşim, kesişim, fark ve diğ.\n",
        "tek={1,3,5,7}\n",
        "cift={0,2,4,6,8}\n",
        "asal={2,3,5,7}\n",
        "# tek sayı kümesi simetrik fark asal sayı kümesi\n",
        "k2 = tek.symmetric_difference(asal)\n",
        "print(k2)"
      ],
      "metadata": {
        "colab": {
          "base_uri": "https://localhost:8080/"
        },
        "id": "cTfhmxSbAwWl",
        "outputId": "0e6804bb-7aec-49b0-ebb2-5b06f9e9929b"
      },
      "execution_count": null,
      "outputs": [
        {
          "output_type": "stream",
          "name": "stdout",
          "text": [
            "{1, 2}\n"
          ]
        }
      ]
    },
    {
      "cell_type": "code",
      "source": [
        "# buraya kadar öğrendiğimiz küme işlemleri kümeler üzerinde değişiklik yapmıyor.\n",
        "# küme üzerinde değişiklik yapan metotlar da var.\n",
        "\n",
        "kumeA={1,2,3,4,5,6,7,8,9}\n",
        "kumeB={1,2,3,10,11,12}\n",
        "\n",
        "kumeA.update(kumeB)\n",
        "print(kumeA)"
      ],
      "metadata": {
        "colab": {
          "base_uri": "https://localhost:8080/"
        },
        "id": "FD53tANYBEZd",
        "outputId": "045ad43e-62a4-45be-b44e-b65c50f6529c"
      },
      "execution_count": null,
      "outputs": [
        {
          "output_type": "stream",
          "name": "stdout",
          "text": [
            "{1, 2, 3, 4, 5, 6, 7, 8, 9, 10, 11, 12}\n"
          ]
        }
      ]
    },
    {
      "cell_type": "code",
      "source": [
        "kumeA={1,2,3,4,5,6,7,8,9}\n",
        "kumeB={1,2,3,10,11,12}\n",
        "\n",
        "kumeA.intersection_update(kumeB)\n",
        "print(kumeA)"
      ],
      "metadata": {
        "colab": {
          "base_uri": "https://localhost:8080/"
        },
        "id": "A0wkiGGmB5iy",
        "outputId": "37864b74-839b-4124-a663-a484f8e2fd41"
      },
      "execution_count": null,
      "outputs": [
        {
          "output_type": "stream",
          "name": "stdout",
          "text": [
            "{1, 2, 3}\n"
          ]
        }
      ]
    },
    {
      "cell_type": "code",
      "source": [
        "kumeA={1,2,3,4,5,6,7,8,9}\n",
        "kumeB={1,2,3,10,11,12}\n",
        "\n",
        "kumeA.difference_update(kumeB)\n",
        "print(kumeA)"
      ],
      "metadata": {
        "colab": {
          "base_uri": "https://localhost:8080/"
        },
        "id": "PqLZe1cYB-i0",
        "outputId": "795cdb5a-991f-47b4-8fd8-8642b7268050"
      },
      "execution_count": null,
      "outputs": [
        {
          "output_type": "stream",
          "name": "stdout",
          "text": [
            "{4, 5, 6, 7, 8, 9}\n"
          ]
        }
      ]
    },
    {
      "cell_type": "code",
      "source": [
        "kumeA={1,2,3,4,5,6,7,8,9}\n",
        "kumeB={1,2,3,10,11,12}\n",
        "\n",
        "kumeA.symmetric_difference_update(kumeB)\n",
        "print(kumeA)"
      ],
      "metadata": {
        "colab": {
          "base_uri": "https://localhost:8080/"
        },
        "id": "ctqz3zgpCC5e",
        "outputId": "cd710e76-cf5d-4962-80f8-c95392042d65"
      },
      "execution_count": null,
      "outputs": [
        {
          "output_type": "stream",
          "name": "stdout",
          "text": [
            "{4, 5, 6, 7, 8, 9, 10, 11, 12}\n"
          ]
        }
      ]
    },
    {
      "cell_type": "code",
      "source": [
        "# alt küme ve kapsayan küme kavramları\n",
        "kumeA={1,2,3,4,5,6}\n",
        "kumeB={1,2,3}\n",
        "\n",
        "print(kumeA.issubset(kumeB))"
      ],
      "metadata": {
        "colab": {
          "base_uri": "https://localhost:8080/"
        },
        "id": "hLXLK3JPCP50",
        "outputId": "2550091e-7ba6-43e3-b10f-43ee5cde03b1"
      },
      "execution_count": null,
      "outputs": [
        {
          "output_type": "stream",
          "name": "stdout",
          "text": [
            "False\n"
          ]
        }
      ]
    },
    {
      "cell_type": "code",
      "source": [
        "kumeA={1,2,3,4,5,6}\n",
        "kumeB={1,2,3}\n",
        "\n",
        "print(kumeB.issubset(kumeA))"
      ],
      "metadata": {
        "colab": {
          "base_uri": "https://localhost:8080/"
        },
        "id": "GQaw5kvFCl70",
        "outputId": "56742548-26e4-4a2d-8b74-b5481b80c729"
      },
      "execution_count": null,
      "outputs": [
        {
          "output_type": "stream",
          "name": "stdout",
          "text": [
            "True\n"
          ]
        }
      ]
    },
    {
      "cell_type": "code",
      "source": [
        "kumeA={1,2,3,4,5,6}\n",
        "kumeB={1,2,3}\n",
        "\n",
        "print(kumeA.issuperset(kumeB))"
      ],
      "metadata": {
        "colab": {
          "base_uri": "https://localhost:8080/"
        },
        "id": "YnkeND2MCo8V",
        "outputId": "36a8e083-6a66-461d-955b-994c2827184b"
      },
      "execution_count": null,
      "outputs": [
        {
          "output_type": "stream",
          "name": "stdout",
          "text": [
            "True\n"
          ]
        }
      ]
    },
    {
      "cell_type": "code",
      "source": [
        "kumeA={1,2,3,4,5,6}\n",
        "kumeB={1,2,3}\n",
        "\n",
        "print(kumeB.issuperset(kumeA))"
      ],
      "metadata": {
        "colab": {
          "base_uri": "https://localhost:8080/"
        },
        "id": "armKGZCLCsQk",
        "outputId": "629ff9d1-5b89-4e04-99ed-bb90546f9c07"
      },
      "execution_count": null,
      "outputs": [
        {
          "output_type": "stream",
          "name": "stdout",
          "text": [
            "False\n"
          ]
        }
      ]
    },
    {
      "cell_type": "code",
      "source": [
        "# ayrık kümeler\n",
        "kumeA={1,2,3,4,5,6}\n",
        "kumeB={1,2,3}\n",
        "\n",
        "print(kumeA.isdisjoint(kumeB))"
      ],
      "metadata": {
        "colab": {
          "base_uri": "https://localhost:8080/"
        },
        "id": "BQhfDuggCxRF",
        "outputId": "6d26ee00-1eba-4563-d639-c1bc3c39a95a"
      },
      "execution_count": null,
      "outputs": [
        {
          "output_type": "stream",
          "name": "stdout",
          "text": [
            "False\n"
          ]
        }
      ]
    },
    {
      "cell_type": "code",
      "source": [
        "kumeA={1,2,3,4,5,6}\n",
        "kumeB={1,2,3}\n",
        "kumeC={7,8}\n",
        "\n",
        "print(kumeA.isdisjoint(kumeC))"
      ],
      "metadata": {
        "colab": {
          "base_uri": "https://localhost:8080/"
        },
        "id": "ubtRDc8nC3mt",
        "outputId": "4a3b943a-60ac-4e7a-d789-b1684a8d0256"
      },
      "execution_count": null,
      "outputs": [
        {
          "output_type": "stream",
          "name": "stdout",
          "text": [
            "True\n"
          ]
        }
      ]
    },
    {
      "cell_type": "code",
      "source": [
        "#Küme kopyalama \n",
        "#(orjinal küme değişiyor. hem kumeA hem kumeB aynı diziyi gösteriyor)\n",
        "kumeA={1,2,3,4,5,6}\n",
        "kumeB=kumeA\n",
        "\n",
        "kumeB.add(7)\n",
        "print(kumeA)\n",
        "print(kumeB)"
      ],
      "metadata": {
        "colab": {
          "base_uri": "https://localhost:8080/"
        },
        "id": "1xkSWrkWDD7c",
        "outputId": "0ab99548-05e6-4d83-e1ec-2907cde136ba"
      },
      "execution_count": null,
      "outputs": [
        {
          "output_type": "stream",
          "name": "stdout",
          "text": [
            "{1, 2, 3, 4, 5, 6, 7}\n",
            "{1, 2, 3, 4, 5, 6, 7}\n"
          ]
        }
      ]
    },
    {
      "cell_type": "code",
      "source": [
        "#Küme kopyalama \n",
        "#(orjinal küme değişmiyor.)\n",
        "kumeA={1,2,3,4,5,6}\n",
        "kumeB=kumeA.copy()\n",
        "\n",
        "kumeB.add(7)\n",
        "print(kumeA)\n",
        "print(kumeB)"
      ],
      "metadata": {
        "colab": {
          "base_uri": "https://localhost:8080/"
        },
        "id": "N9NUlUAZFJsd",
        "outputId": "84026f89-f4ea-4458-bdd4-b18e5cd18f2e"
      },
      "execution_count": null,
      "outputs": [
        {
          "output_type": "stream",
          "name": "stdout",
          "text": [
            "{1, 2, 3, 4, 5, 6}\n",
            "{1, 2, 3, 4, 5, 6, 7}\n"
          ]
        }
      ]
    },
    {
      "cell_type": "code",
      "source": [
        "#Küme kopyalama \n",
        "#(orjinal küme değişmiyor.)\n",
        "kumeA={1,2,3,4,5,6}\n",
        "kumeB=set(kumeA)\n",
        "\n",
        "kumeB.add(7)\n",
        "print(kumeA)\n",
        "print(kumeB)"
      ],
      "metadata": {
        "colab": {
          "base_uri": "https://localhost:8080/"
        },
        "id": "WnN5Hoh3EsxM",
        "outputId": "e2ecd1ff-fe11-4466-d983-a80a08976dcb"
      },
      "execution_count": null,
      "outputs": [
        {
          "output_type": "stream",
          "name": "stdout",
          "text": [
            "{1, 2, 3, 4, 5, 6}\n",
            "{1, 2, 3, 4, 5, 6, 7}\n"
          ]
        }
      ]
    },
    {
      "cell_type": "code",
      "source": [
        "# frozenset \n",
        "a=frozenset([1,2,3,4])\n",
        "\n",
        "print(a)"
      ],
      "metadata": {
        "colab": {
          "base_uri": "https://localhost:8080/"
        },
        "id": "QTlveLgLFx5j",
        "outputId": "9b93edc9-bc01-4672-f9a7-f5db73212395"
      },
      "execution_count": null,
      "outputs": [
        {
          "output_type": "stream",
          "name": "stdout",
          "text": [
            "frozenset({1, 2, 3, 4})\n"
          ]
        }
      ]
    },
    {
      "cell_type": "code",
      "source": [
        "# frozensete yeni eleman ekleyemeyiz. frozen seti değiştiremeyiz \n",
        "a=frozenset([1,2,3,4])\n",
        "a.add(5)\n",
        "\n",
        "print(a)"
      ],
      "metadata": {
        "colab": {
          "base_uri": "https://localhost:8080/",
          "height": 235
        },
        "id": "UB49QszKGFDk",
        "outputId": "8ba2c458-3b4b-4035-fe3d-659fe675df83"
      },
      "execution_count": null,
      "outputs": [
        {
          "output_type": "error",
          "ename": "AttributeError",
          "evalue": "ignored",
          "traceback": [
            "\u001b[0;31m---------------------------------------------------------------------------\u001b[0m",
            "\u001b[0;31mAttributeError\u001b[0m                            Traceback (most recent call last)",
            "\u001b[0;32m<ipython-input-20-bb6e677122ec>\u001b[0m in \u001b[0;36m<module>\u001b[0;34m()\u001b[0m\n\u001b[1;32m      1\u001b[0m \u001b[0;31m# frozenset\u001b[0m\u001b[0;34m\u001b[0m\u001b[0;34m\u001b[0m\u001b[0;34m\u001b[0m\u001b[0m\n\u001b[1;32m      2\u001b[0m \u001b[0ma\u001b[0m\u001b[0;34m=\u001b[0m\u001b[0mfrozenset\u001b[0m\u001b[0;34m(\u001b[0m\u001b[0;34m[\u001b[0m\u001b[0;36m1\u001b[0m\u001b[0;34m,\u001b[0m\u001b[0;36m2\u001b[0m\u001b[0;34m,\u001b[0m\u001b[0;36m3\u001b[0m\u001b[0;34m,\u001b[0m\u001b[0;36m4\u001b[0m\u001b[0;34m]\u001b[0m\u001b[0;34m)\u001b[0m\u001b[0;34m\u001b[0m\u001b[0;34m\u001b[0m\u001b[0m\n\u001b[0;32m----> 3\u001b[0;31m \u001b[0ma\u001b[0m\u001b[0;34m.\u001b[0m\u001b[0madd\u001b[0m\u001b[0;34m(\u001b[0m\u001b[0;36m5\u001b[0m\u001b[0;34m)\u001b[0m\u001b[0;34m\u001b[0m\u001b[0;34m\u001b[0m\u001b[0m\n\u001b[0m\u001b[1;32m      4\u001b[0m \u001b[0;34m\u001b[0m\u001b[0m\n\u001b[1;32m      5\u001b[0m \u001b[0mprint\u001b[0m\u001b[0;34m(\u001b[0m\u001b[0ma\u001b[0m\u001b[0;34m)\u001b[0m\u001b[0;34m\u001b[0m\u001b[0;34m\u001b[0m\u001b[0m\n",
            "\u001b[0;31mAttributeError\u001b[0m: 'frozenset' object has no attribute 'add'"
          ]
        }
      ]
    },
    {
      "cell_type": "code",
      "source": [
        "# frozenset \n",
        "a=frozenset([1,2,3,4])\n",
        "a.remove(1)\n",
        "\n",
        "print(a)"
      ],
      "metadata": {
        "colab": {
          "base_uri": "https://localhost:8080/",
          "height": 235
        },
        "id": "BcDCKz8CGyeF",
        "outputId": "b4520379-04e3-4e17-ffc9-dfce9109b988"
      },
      "execution_count": null,
      "outputs": [
        {
          "output_type": "error",
          "ename": "AttributeError",
          "evalue": "ignored",
          "traceback": [
            "\u001b[0;31m---------------------------------------------------------------------------\u001b[0m",
            "\u001b[0;31mAttributeError\u001b[0m                            Traceback (most recent call last)",
            "\u001b[0;32m<ipython-input-22-64a1dc2e33f8>\u001b[0m in \u001b[0;36m<module>\u001b[0;34m()\u001b[0m\n\u001b[1;32m      1\u001b[0m \u001b[0;31m# frozenset\u001b[0m\u001b[0;34m\u001b[0m\u001b[0;34m\u001b[0m\u001b[0;34m\u001b[0m\u001b[0m\n\u001b[1;32m      2\u001b[0m \u001b[0ma\u001b[0m\u001b[0;34m=\u001b[0m\u001b[0mfrozenset\u001b[0m\u001b[0;34m(\u001b[0m\u001b[0;34m[\u001b[0m\u001b[0;36m1\u001b[0m\u001b[0;34m,\u001b[0m\u001b[0;36m2\u001b[0m\u001b[0;34m,\u001b[0m\u001b[0;36m3\u001b[0m\u001b[0;34m,\u001b[0m\u001b[0;36m4\u001b[0m\u001b[0;34m]\u001b[0m\u001b[0;34m)\u001b[0m\u001b[0;34m\u001b[0m\u001b[0;34m\u001b[0m\u001b[0m\n\u001b[0;32m----> 3\u001b[0;31m \u001b[0ma\u001b[0m\u001b[0;34m.\u001b[0m\u001b[0mremove\u001b[0m\u001b[0;34m(\u001b[0m\u001b[0;36m1\u001b[0m\u001b[0;34m)\u001b[0m\u001b[0;34m\u001b[0m\u001b[0;34m\u001b[0m\u001b[0m\n\u001b[0m\u001b[1;32m      4\u001b[0m \u001b[0;34m\u001b[0m\u001b[0m\n\u001b[1;32m      5\u001b[0m \u001b[0mprint\u001b[0m\u001b[0;34m(\u001b[0m\u001b[0ma\u001b[0m\u001b[0;34m)\u001b[0m\u001b[0;34m\u001b[0m\u001b[0;34m\u001b[0m\u001b[0m\n",
            "\u001b[0;31mAttributeError\u001b[0m: 'frozenset' object has no attribute 'remove'"
          ]
        }
      ]
    },
    {
      "cell_type": "code",
      "source": [
        "# frozenset'leri birleşim ve kesişim işlemleri için kullanabiliriz\n",
        "a=frozenset([1,2,3,4])\n",
        "b=frozenset([4,5])\n",
        "c=a.union(b)\n",
        "\n",
        "print(c)"
      ],
      "metadata": {
        "colab": {
          "base_uri": "https://localhost:8080/"
        },
        "id": "j9MPexo7G2CD",
        "outputId": "50b5297b-2eef-4c23-c770-e24f50c66e3a"
      },
      "execution_count": null,
      "outputs": [
        {
          "output_type": "stream",
          "name": "stdout",
          "text": [
            "frozenset({1, 2, 3, 4, 5})\n"
          ]
        }
      ]
    },
    {
      "cell_type": "code",
      "source": [
        "# frozenset \n",
        "a=frozenset([1,2,3,4])\n",
        "b=frozenset([4,5])\n",
        "c=a.intersection(b)\n",
        "\n",
        "print(c)"
      ],
      "metadata": {
        "colab": {
          "base_uri": "https://localhost:8080/"
        },
        "id": "AktsKScFHdmF",
        "outputId": "4519eea4-1190-430d-b055-74995c5b4d75"
      },
      "execution_count": null,
      "outputs": [
        {
          "output_type": "stream",
          "name": "stdout",
          "text": [
            "frozenset({4})\n"
          ]
        }
      ]
    },
    {
      "cell_type": "code",
      "source": [
        "# STRINGS (metin)\n",
        "# Python'da sık kullanılan bir veri tipi"
      ],
      "metadata": {
        "id": "uNDqo1ayHgyL"
      },
      "execution_count": null,
      "outputs": []
    },
    {
      "cell_type": "code",
      "source": [
        "# BURAYA KADAR ÖĞRENDİĞİMİZ TÜM TOPLAMA VERİ TİPLERİNİ BİR ARADA GÖRELİM:\n",
        "# string     : sıralı,  değiştirilemeyen, metin temsili\n",
        "# frozenset  : sırasız, değiştirilemeyen, aynı elemanı birden fazla içeremeyen dizi\n",
        "# set        : sırasız, değiştirilebilir, aynı elemanı birden fazla içeremeyen dizi\n",
        "# dictionary : sırasız, değiştirilebilir, anahtar-değer ikili dizileri \n",
        "# list       : sıralı,  değiştirilebilir, aynı elemanı birden fazla içerebilen dizi\n",
        "# tuple      : sıralı,  değiştirilemeyen, aynı elemanı birden fazla içerebilen dizi\n"
      ],
      "metadata": {
        "id": "ARwH47Tyxw_o"
      },
      "execution_count": null,
      "outputs": []
    },
    {
      "cell_type": "code",
      "source": [
        "my_string=\"Hello world\"\n",
        "print(my_string)"
      ],
      "metadata": {
        "colab": {
          "base_uri": "https://localhost:8080/"
        },
        "id": "BheS4B8a7Bfi",
        "outputId": "fe8fc65a-24fc-4ce8-9c22-71ecc05f4b71"
      },
      "execution_count": 1,
      "outputs": [
        {
          "output_type": "stream",
          "name": "stdout",
          "text": [
            "Hello world\n"
          ]
        }
      ]
    },
    {
      "cell_type": "code",
      "source": [
        "my_string='Hello world'\n",
        "print(my_string)"
      ],
      "metadata": {
        "colab": {
          "base_uri": "https://localhost:8080/"
        },
        "id": "fx4DH2Or7HTx",
        "outputId": "639e294d-757d-4fd6-bf31-36550a01a81a"
      },
      "execution_count": 2,
      "outputs": [
        {
          "output_type": "stream",
          "name": "stdout",
          "text": [
            "Hello world\n"
          ]
        }
      ]
    },
    {
      "cell_type": "code",
      "source": [
        "my_string='I'm a programmer'\n",
        "print(my_string)"
      ],
      "metadata": {
        "colab": {
          "base_uri": "https://localhost:8080/",
          "height": 131
        },
        "id": "G9liEVoy7Pr4",
        "outputId": "72a86dc7-0a72-4e1e-de6b-3d64ed6c641e"
      },
      "execution_count": 3,
      "outputs": [
        {
          "output_type": "error",
          "ename": "SyntaxError",
          "evalue": "ignored",
          "traceback": [
            "\u001b[0;36m  File \u001b[0;32m\"<ipython-input-3-0848c42a51b1>\"\u001b[0;36m, line \u001b[0;32m1\u001b[0m\n\u001b[0;31m    my_string='I'm a programmer'\u001b[0m\n\u001b[0m                 ^\u001b[0m\n\u001b[0;31mSyntaxError\u001b[0m\u001b[0;31m:\u001b[0m invalid syntax\n"
          ]
        }
      ]
    },
    {
      "cell_type": "code",
      "source": [
        "#üstteki hatanın çözümü için iki yöntem var\n",
        "my_string=\"I'm a programmer\"\n",
        "print(my_string)"
      ],
      "metadata": {
        "colab": {
          "base_uri": "https://localhost:8080/"
        },
        "id": "L2OLluwm7Y1T",
        "outputId": "8086b90c-19b4-4607-ef2a-c39ef0277a02"
      },
      "execution_count": 4,
      "outputs": [
        {
          "output_type": "stream",
          "name": "stdout",
          "text": [
            "I'm a programmer\n"
          ]
        }
      ]
    },
    {
      "cell_type": "code",
      "source": [
        "my_string='I\\'m a programmer'\n",
        "print(my_string)"
      ],
      "metadata": {
        "colab": {
          "base_uri": "https://localhost:8080/"
        },
        "id": "LRSPbotE7gv6",
        "outputId": "bea8df20-32a8-4cd2-bcbb-1050913faa55"
      },
      "execution_count": 5,
      "outputs": [
        {
          "output_type": "stream",
          "name": "stdout",
          "text": [
            "I'm a programmer\n"
          ]
        }
      ]
    },
    {
      "cell_type": "code",
      "source": [
        "#çok satırlı metin yazdırmak için 3 çift tırnak kullanıyoruz\n",
        "#Çıktıda satır sayısının korunduğuna dikkat edin\n",
        "my_string=\"\"\"Hello\n",
        "World\"\"\"\n",
        "\n",
        "print(my_string)"
      ],
      "metadata": {
        "colab": {
          "base_uri": "https://localhost:8080/"
        },
        "id": "wBWJvwF27twB",
        "outputId": "3ebbd163-2e0a-4bac-f1ac-238add16d968"
      },
      "execution_count": 6,
      "outputs": [
        {
          "output_type": "stream",
          "name": "stdout",
          "text": [
            "Hello\n",
            "World\n"
          ]
        }
      ]
    },
    {
      "cell_type": "code",
      "source": [
        "#çok satırlı metin yazdırmak için 3 çift tırnak kullanıyoruz\n",
        "my_string=\"\"\"Hello \\\n",
        "World\"\"\"\n",
        "\n",
        "print(my_string)"
      ],
      "metadata": {
        "colab": {
          "base_uri": "https://localhost:8080/"
        },
        "id": "JhqZLZie8EiR",
        "outputId": "b54942a6-0b97-4823-fc0d-4a5f60442c68"
      },
      "execution_count": 7,
      "outputs": [
        {
          "output_type": "stream",
          "name": "stdout",
          "text": [
            "Hello World\n"
          ]
        }
      ]
    },
    {
      "cell_type": "code",
      "source": [
        "#Metinlerin alt metinlerine erişim list veri tipi ile aynı:\n",
        "my_string=\"Hello World\"\n",
        "char=my_string[1]\n",
        "print(char)"
      ],
      "metadata": {
        "colab": {
          "base_uri": "https://localhost:8080/"
        },
        "id": "ySnDlbP-8Q_i",
        "outputId": "033f4676-8d6e-46ba-a47b-944745ab7227"
      },
      "execution_count": 8,
      "outputs": [
        {
          "output_type": "stream",
          "name": "stdout",
          "text": [
            "e\n"
          ]
        }
      ]
    },
    {
      "cell_type": "code",
      "source": [
        "#Metinlerin alt metinlerine erişim list veri tipi ile aynı:\n",
        "my_string=\"Hello World\"\n",
        "char=my_string[-1]\n",
        "print(char)"
      ],
      "metadata": {
        "colab": {
          "base_uri": "https://localhost:8080/"
        },
        "id": "KhKZHkN08rxB",
        "outputId": "27098c38-8470-490b-c6e3-37e7e105163f"
      },
      "execution_count": 9,
      "outputs": [
        {
          "output_type": "stream",
          "name": "stdout",
          "text": [
            "d\n"
          ]
        }
      ]
    },
    {
      "cell_type": "code",
      "source": [
        "#Metinlerin alt metinlerine erişim list veri tipi ile aynı:\n",
        "my_string=\"Hello World\"\n",
        "char=my_string[-2]\n",
        "print(char)"
      ],
      "metadata": {
        "colab": {
          "base_uri": "https://localhost:8080/"
        },
        "id": "2er3LH6g8t0g",
        "outputId": "f6561bb6-4e2d-4f3a-f6e5-6e61035d1cb5"
      },
      "execution_count": 10,
      "outputs": [
        {
          "output_type": "stream",
          "name": "stdout",
          "text": [
            "l\n"
          ]
        }
      ]
    },
    {
      "cell_type": "code",
      "source": [
        "#Metinleri değiştiremeyiz: (immutable)\n",
        "my_string=\"Hello World\"\n",
        "my_string[0]=\"h\"\n",
        "print(my_string)"
      ],
      "metadata": {
        "colab": {
          "base_uri": "https://localhost:8080/",
          "height": 218
        },
        "id": "YNAuLYkv9JuJ",
        "outputId": "82bfe036-0e18-43cd-b8f4-7fab047a4dcd"
      },
      "execution_count": 11,
      "outputs": [
        {
          "output_type": "error",
          "ename": "TypeError",
          "evalue": "ignored",
          "traceback": [
            "\u001b[0;31m---------------------------------------------------------------------------\u001b[0m",
            "\u001b[0;31mTypeError\u001b[0m                                 Traceback (most recent call last)",
            "\u001b[0;32m<ipython-input-11-496633eae055>\u001b[0m in \u001b[0;36m<module>\u001b[0;34m()\u001b[0m\n\u001b[1;32m      1\u001b[0m \u001b[0;31m#Metinleri değiştiremeyiz:\u001b[0m\u001b[0;34m\u001b[0m\u001b[0;34m\u001b[0m\u001b[0;34m\u001b[0m\u001b[0m\n\u001b[1;32m      2\u001b[0m \u001b[0mmy_string\u001b[0m\u001b[0;34m=\u001b[0m\u001b[0;34m\"Hello World\"\u001b[0m\u001b[0;34m\u001b[0m\u001b[0;34m\u001b[0m\u001b[0m\n\u001b[0;32m----> 3\u001b[0;31m \u001b[0mmy_string\u001b[0m\u001b[0;34m[\u001b[0m\u001b[0;36m0\u001b[0m\u001b[0;34m]\u001b[0m\u001b[0;34m=\u001b[0m\u001b[0;34m\"h\"\u001b[0m\u001b[0;34m\u001b[0m\u001b[0;34m\u001b[0m\u001b[0m\n\u001b[0m\u001b[1;32m      4\u001b[0m \u001b[0mprint\u001b[0m\u001b[0;34m(\u001b[0m\u001b[0mmy_string\u001b[0m\u001b[0;34m)\u001b[0m\u001b[0;34m\u001b[0m\u001b[0;34m\u001b[0m\u001b[0m\n",
            "\u001b[0;31mTypeError\u001b[0m: 'str' object does not support item assignment"
          ]
        }
      ]
    },
    {
      "cell_type": "code",
      "source": [
        "#Metinlerin alt metinlerine erişim list veri tipi ile aynı:\n",
        "my_string=\"Hello World\"\n",
        "substring=my_string[0:2]\n",
        "print(substring)"
      ],
      "metadata": {
        "colab": {
          "base_uri": "https://localhost:8080/"
        },
        "id": "kxJ_9TOV9gfp",
        "outputId": "b19ac1f7-b332-4181-ed5f-cf557b70274c"
      },
      "execution_count": 12,
      "outputs": [
        {
          "output_type": "stream",
          "name": "stdout",
          "text": [
            "He\n"
          ]
        }
      ]
    },
    {
      "cell_type": "code",
      "source": [
        "#Metinlerin alt metinlerine erişim list veri tipi ile aynı:\n",
        "my_string=\"Hello World\"\n",
        "substring=my_string[:3]\n",
        "print(substring)"
      ],
      "metadata": {
        "colab": {
          "base_uri": "https://localhost:8080/"
        },
        "id": "_-JJlh309nqg",
        "outputId": "023837c8-091d-483c-ced5-85edf12a0cfd"
      },
      "execution_count": 13,
      "outputs": [
        {
          "output_type": "stream",
          "name": "stdout",
          "text": [
            "Hel\n"
          ]
        }
      ]
    },
    {
      "cell_type": "code",
      "source": [
        "#Metinlerin alt metinlerine erişim list veri tipi ile aynı:\n",
        "my_string=\"Hello World\"\n",
        "substring=my_string[3:]\n",
        "print(substring)"
      ],
      "metadata": {
        "colab": {
          "base_uri": "https://localhost:8080/"
        },
        "id": "0dFMWzOT9uVp",
        "outputId": "b41cf877-2257-4ba0-a07b-b612976f1baf"
      },
      "execution_count": 14,
      "outputs": [
        {
          "output_type": "stream",
          "name": "stdout",
          "text": [
            "lo World\n"
          ]
        }
      ]
    },
    {
      "cell_type": "code",
      "source": [
        "#Metinlerin alt metinlerine erişim list veri tipi ile aynı:\n",
        "my_string=\"Hello World\"\n",
        "substring=my_string[:]\n",
        "print(substring)"
      ],
      "metadata": {
        "colab": {
          "base_uri": "https://localhost:8080/"
        },
        "id": "Awl3lCHk91_o",
        "outputId": "4609fb28-a098-4263-f152-7a3cf93d658a"
      },
      "execution_count": 15,
      "outputs": [
        {
          "output_type": "stream",
          "name": "stdout",
          "text": [
            "Hello World\n"
          ]
        }
      ]
    },
    {
      "cell_type": "code",
      "source": [
        "#Metinlerin alt metinlerine erişim list veri tipi ile aynı:\n",
        "my_string=\"Hello World\"\n",
        "substring=my_string[::1]\n",
        "print(substring)"
      ],
      "metadata": {
        "colab": {
          "base_uri": "https://localhost:8080/"
        },
        "id": "_c8ID6O1937g",
        "outputId": "1584e0b6-7cbe-4201-9184-d8bd034a0e0c"
      },
      "execution_count": 16,
      "outputs": [
        {
          "output_type": "stream",
          "name": "stdout",
          "text": [
            "Hello World\n"
          ]
        }
      ]
    },
    {
      "cell_type": "code",
      "source": [
        "#Metinlerin alt metinlerine erişim list veri tipi ile aynı:\n",
        "my_string=\"Hello World\"\n",
        "substring=my_string[::2] #adım operatörü\n",
        "print(substring)"
      ],
      "metadata": {
        "colab": {
          "base_uri": "https://localhost:8080/"
        },
        "id": "YnAxBLNM-ArQ",
        "outputId": "bca22e43-5239-479d-ce2f-979b654b72fc"
      },
      "execution_count": 17,
      "outputs": [
        {
          "output_type": "stream",
          "name": "stdout",
          "text": [
            "HloWrd\n"
          ]
        }
      ]
    },
    {
      "cell_type": "code",
      "source": [
        "#Metinlerin alt metinlerine erişim list veri tipi ile aynı:\n",
        "my_string=\"Hello World\"\n",
        "substring=my_string[::-1] #adım operatörü\n",
        "print(substring)"
      ],
      "metadata": {
        "colab": {
          "base_uri": "https://localhost:8080/"
        },
        "id": "p8l1alBR-LhB",
        "outputId": "e62ccdfe-36bf-4a0a-b496-eb8e415083d4"
      },
      "execution_count": 18,
      "outputs": [
        {
          "output_type": "stream",
          "name": "stdout",
          "text": [
            "dlroW olleH\n"
          ]
        }
      ]
    },
    {
      "cell_type": "code",
      "source": [
        "# Metinleri uç uca ekleme (concatenate)\n",
        "greeting=\"Hello\"\n",
        "name=\"Tom\"\n",
        "sentence= greeting + name\n",
        "print(sentence)"
      ],
      "metadata": {
        "colab": {
          "base_uri": "https://localhost:8080/"
        },
        "id": "5B-k-5Ri-OEo",
        "outputId": "6863bfbd-876d-4515-c9cf-838bf92dfc6b"
      },
      "execution_count": 19,
      "outputs": [
        {
          "output_type": "stream",
          "name": "stdout",
          "text": [
            "HelloTom\n"
          ]
        }
      ]
    },
    {
      "cell_type": "code",
      "source": [
        "# iterasyon\n",
        "greeting=\"Hello\"\n",
        "for i in greeting:\n",
        "  print(i)"
      ],
      "metadata": {
        "colab": {
          "base_uri": "https://localhost:8080/"
        },
        "id": "qSjOa35Z-m5R",
        "outputId": "5cfb5994-d67f-4c25-c1a9-2fb43f870c4b"
      },
      "execution_count": 20,
      "outputs": [
        {
          "output_type": "stream",
          "name": "stdout",
          "text": [
            "H\n",
            "e\n",
            "l\n",
            "l\n",
            "o\n"
          ]
        }
      ]
    },
    {
      "cell_type": "code",
      "source": [
        "# harf veya harf grubu bulunuyor mu\n",
        "greeting=\"Hello\"\n",
        "if 'e' in greeting:\n",
        "  print('yes')\n",
        "else:\n",
        "  print('no')"
      ],
      "metadata": {
        "colab": {
          "base_uri": "https://localhost:8080/"
        },
        "id": "S_G4Ss53-zNp",
        "outputId": "a22e3718-0cfc-43fe-81aa-92cf03613690"
      },
      "execution_count": 21,
      "outputs": [
        {
          "output_type": "stream",
          "name": "stdout",
          "text": [
            "yes\n"
          ]
        }
      ]
    },
    {
      "cell_type": "code",
      "source": [
        "greeting=\"Hello\"\n",
        "if 'p' in greeting:\n",
        "  print('yes')\n",
        "else:\n",
        "  print('no')"
      ],
      "metadata": {
        "colab": {
          "base_uri": "https://localhost:8080/"
        },
        "id": "BHzw_DWq-zfY",
        "outputId": "24588264-15be-4df7-88f8-508b84855dd4"
      },
      "execution_count": 22,
      "outputs": [
        {
          "output_type": "stream",
          "name": "stdout",
          "text": [
            "no\n"
          ]
        }
      ]
    },
    {
      "cell_type": "code",
      "source": [
        "greeting=\"Hello\"\n",
        "if 'lo' in greeting:\n",
        "  print('yes')\n",
        "else:\n",
        "  print('no')"
      ],
      "metadata": {
        "colab": {
          "base_uri": "https://localhost:8080/"
        },
        "id": "-izZuN6C-zvI",
        "outputId": "d59037d0-5659-4860-f6f9-90425a6d58df"
      },
      "execution_count": 23,
      "outputs": [
        {
          "output_type": "stream",
          "name": "stdout",
          "text": [
            "yes\n"
          ]
        }
      ]
    },
    {
      "cell_type": "code",
      "source": [
        "my_string='     Hello World   '\n",
        "print(my_string)"
      ],
      "metadata": {
        "colab": {
          "base_uri": "https://localhost:8080/"
        },
        "id": "500lv6O1-z-g",
        "outputId": "6afea37f-c67c-46e4-f29b-d443e2e70649"
      },
      "execution_count": 24,
      "outputs": [
        {
          "output_type": "stream",
          "name": "stdout",
          "text": [
            "     Hello World   \n"
          ]
        }
      ]
    },
    {
      "cell_type": "code",
      "source": [
        "my_string='     Hello World   '\n",
        "my_string=my_string.strip()\n",
        "print(my_string)"
      ],
      "metadata": {
        "colab": {
          "base_uri": "https://localhost:8080/"
        },
        "id": "Jx2pwT0a-0Og",
        "outputId": "3d71bb4c-5eaf-4f9f-c9aa-4bd04dd5cc89"
      },
      "execution_count": 25,
      "outputs": [
        {
          "output_type": "stream",
          "name": "stdout",
          "text": [
            "Hello World\n"
          ]
        }
      ]
    },
    {
      "cell_type": "code",
      "source": [
        "#Strings are immutable:\n",
        "my_string='     Hello World   '\n",
        "my_string.strip()\n",
        "print(my_string)"
      ],
      "metadata": {
        "colab": {
          "base_uri": "https://localhost:8080/"
        },
        "id": "8gEgiiFG-0oo",
        "outputId": "dc4f7d25-6d43-4775-d6ba-15be911c6c8e"
      },
      "execution_count": 26,
      "outputs": [
        {
          "output_type": "stream",
          "name": "stdout",
          "text": [
            "     Hello World   \n"
          ]
        }
      ]
    },
    {
      "cell_type": "code",
      "source": [
        "my_string='Hello World'\n",
        "print(my_string.upper())"
      ],
      "metadata": {
        "colab": {
          "base_uri": "https://localhost:8080/"
        },
        "id": "m-aKxg3u__rg",
        "outputId": "27adc2a8-afee-409d-838c-5f83a13df786"
      },
      "execution_count": 29,
      "outputs": [
        {
          "output_type": "stream",
          "name": "stdout",
          "text": [
            "HELLO WORLD\n"
          ]
        }
      ]
    },
    {
      "cell_type": "code",
      "source": [
        "my_string='Hello World'\n",
        "print(my_string.lower())"
      ],
      "metadata": {
        "colab": {
          "base_uri": "https://localhost:8080/"
        },
        "id": "dtamlunfABy4",
        "outputId": "e43d3bba-afaf-4dc1-a781-5d1352acef26"
      },
      "execution_count": 30,
      "outputs": [
        {
          "output_type": "stream",
          "name": "stdout",
          "text": [
            "hello world\n"
          ]
        }
      ]
    },
    {
      "cell_type": "code",
      "source": [
        "my_string='Hello World'\n",
        "print(my_string.startswith('H'))"
      ],
      "metadata": {
        "colab": {
          "base_uri": "https://localhost:8080/"
        },
        "id": "uUhCl2ShACCr",
        "outputId": "7e7628c5-638b-4804-8e45-ec52042ab91b"
      },
      "execution_count": 33,
      "outputs": [
        {
          "output_type": "stream",
          "name": "stdout",
          "text": [
            "True\n"
          ]
        }
      ]
    },
    {
      "cell_type": "code",
      "source": [
        "my_string='Hello World'\n",
        "print(my_string.startswith('h'))"
      ],
      "metadata": {
        "colab": {
          "base_uri": "https://localhost:8080/"
        },
        "id": "pNop3sLJACR4",
        "outputId": "29c669e7-990f-408f-8746-946b0268b5e6"
      },
      "execution_count": 34,
      "outputs": [
        {
          "output_type": "stream",
          "name": "stdout",
          "text": [
            "False\n"
          ]
        }
      ]
    },
    {
      "cell_type": "code",
      "source": [
        "my_string='Hello World'\n",
        "print(my_string.endswith('d'))"
      ],
      "metadata": {
        "colab": {
          "base_uri": "https://localhost:8080/"
        },
        "id": "dMBXr0egACgx",
        "outputId": "b6860e87-d8fe-4d86-88b5-0bbc4d00cc1b"
      },
      "execution_count": 35,
      "outputs": [
        {
          "output_type": "stream",
          "name": "stdout",
          "text": [
            "True\n"
          ]
        }
      ]
    },
    {
      "cell_type": "code",
      "source": [
        "my_string='Hello World'\n",
        "print(my_string.endswith('D'))"
      ],
      "metadata": {
        "colab": {
          "base_uri": "https://localhost:8080/"
        },
        "id": "9HLk8GLRACvR",
        "outputId": "1c2b8d3f-c4dd-479a-d8f7-ceefe4fdf347"
      },
      "execution_count": 36,
      "outputs": [
        {
          "output_type": "stream",
          "name": "stdout",
          "text": [
            "False\n"
          ]
        }
      ]
    },
    {
      "cell_type": "code",
      "source": [
        "my_string='Hello World'\n",
        "print(my_string.endswith('World'))"
      ],
      "metadata": {
        "colab": {
          "base_uri": "https://localhost:8080/"
        },
        "id": "GZCx0R88AC9B",
        "outputId": "12c55f3a-4e43-4121-e08c-67933c130e2b"
      },
      "execution_count": 37,
      "outputs": [
        {
          "output_type": "stream",
          "name": "stdout",
          "text": [
            "True\n"
          ]
        }
      ]
    },
    {
      "cell_type": "code",
      "source": [
        "my_string='Hello World'\n",
        "print(my_string.endswith('Hello'))"
      ],
      "metadata": {
        "colab": {
          "base_uri": "https://localhost:8080/"
        },
        "id": "dQtTJDKTADL_",
        "outputId": "7a4c1966-8fd1-450e-97ca-2a674babf866"
      },
      "execution_count": 38,
      "outputs": [
        {
          "output_type": "stream",
          "name": "stdout",
          "text": [
            "False\n"
          ]
        }
      ]
    },
    {
      "cell_type": "code",
      "source": [
        "my_string='Hello World'\n",
        "print(my_string.find('o'))"
      ],
      "metadata": {
        "colab": {
          "base_uri": "https://localhost:8080/"
        },
        "id": "aprWBnmhADaR",
        "outputId": "7d6a6e5e-6a43-4204-df0c-59731e3fd584"
      },
      "execution_count": 39,
      "outputs": [
        {
          "output_type": "stream",
          "name": "stdout",
          "text": [
            "4\n"
          ]
        }
      ]
    },
    {
      "cell_type": "code",
      "source": [
        "my_string='Hello World'\n",
        "print(my_string.find('Wor'))"
      ],
      "metadata": {
        "colab": {
          "base_uri": "https://localhost:8080/"
        },
        "id": "nEaXUWQwBAyg",
        "outputId": "46b141c1-e21d-4ccd-ae1d-aeafa4c5f63d"
      },
      "execution_count": 41,
      "outputs": [
        {
          "output_type": "stream",
          "name": "stdout",
          "text": [
            "6\n"
          ]
        }
      ]
    },
    {
      "cell_type": "code",
      "source": [
        "my_string='Hello World'\n",
        "print(my_string.count('l'))"
      ],
      "metadata": {
        "colab": {
          "base_uri": "https://localhost:8080/"
        },
        "id": "5C7HjtmlBBEg",
        "outputId": "fb91d6fe-6b00-41cb-a01d-4fd080b3af98"
      },
      "execution_count": 42,
      "outputs": [
        {
          "output_type": "stream",
          "name": "stdout",
          "text": [
            "3\n"
          ]
        }
      ]
    },
    {
      "cell_type": "code",
      "source": [
        "my_string='Hello World'\n",
        "print(my_string.count('P'))"
      ],
      "metadata": {
        "colab": {
          "base_uri": "https://localhost:8080/"
        },
        "id": "BN6j10N4BBaY",
        "outputId": "14b0533e-df6c-46ff-e952-67f87832a32d"
      },
      "execution_count": 43,
      "outputs": [
        {
          "output_type": "stream",
          "name": "stdout",
          "text": [
            "0\n"
          ]
        }
      ]
    },
    {
      "cell_type": "code",
      "source": [
        "my_string='Hello World'\n",
        "print(my_string.replace('World','Universe'))"
      ],
      "metadata": {
        "colab": {
          "base_uri": "https://localhost:8080/"
        },
        "id": "o3zY6zJ8BBp4",
        "outputId": "b5b97da4-b5cb-4289-c7b1-35c589fca9b9"
      },
      "execution_count": 44,
      "outputs": [
        {
          "output_type": "stream",
          "name": "stdout",
          "text": [
            "Hello Universe\n"
          ]
        }
      ]
    },
    {
      "cell_type": "code",
      "source": [
        "my_string='Hello World'\n",
        "print(my_string.replace('World','Universe'))\n",
        "print(my_string)\n"
      ],
      "metadata": {
        "colab": {
          "base_uri": "https://localhost:8080/"
        },
        "id": "fEl1S5D5BWeY",
        "outputId": "01acbc52-9aaa-4df7-d06e-09f3e360ec37"
      },
      "execution_count": 45,
      "outputs": [
        {
          "output_type": "stream",
          "name": "stdout",
          "text": [
            "Hello Universe\n",
            "Hello World\n"
          ]
        }
      ]
    },
    {
      "cell_type": "code",
      "source": [
        "my_string='Hello World'\n",
        "print(my_string.replace('Worrrrld','Universe'))"
      ],
      "metadata": {
        "colab": {
          "base_uri": "https://localhost:8080/"
        },
        "id": "W-5bl3mlBW-4",
        "outputId": "d684c5b6-ac2c-4f51-fd19-0e7625f41187"
      },
      "execution_count": 46,
      "outputs": [
        {
          "output_type": "stream",
          "name": "stdout",
          "text": [
            "Hello World\n"
          ]
        }
      ]
    },
    {
      "cell_type": "code",
      "source": [
        "# string ve list. default delimiter is space\n",
        "# varsayılı ayraç: boşluk\n",
        "my_string='how are you doing'\n",
        "my_list=my_string.split()\n",
        "\n",
        "print(my_list)"
      ],
      "metadata": {
        "colab": {
          "base_uri": "https://localhost:8080/"
        },
        "id": "8z7VWGzS3AkN",
        "outputId": "9e7d841b-a15f-4cba-f450-65caa6cb962c"
      },
      "execution_count": null,
      "outputs": [
        {
          "output_type": "stream",
          "name": "stdout",
          "text": [
            "['how', 'are', 'you', 'doing']\n"
          ]
        }
      ]
    },
    {
      "cell_type": "code",
      "source": [
        "# varsayılı ayraç boşluk\n",
        "my_string='how,are,you,doing'\n",
        "my_list=my_string.split()\n",
        "\n",
        "print(my_list)"
      ],
      "metadata": {
        "colab": {
          "base_uri": "https://localhost:8080/"
        },
        "id": "PawO0yEWC5Jw",
        "outputId": "5d9b8056-e536-4f5a-9428-45b0695b8ca7"
      },
      "execution_count": 48,
      "outputs": [
        {
          "output_type": "stream",
          "name": "stdout",
          "text": [
            "['how,are,you,doing']\n"
          ]
        }
      ]
    },
    {
      "cell_type": "code",
      "source": [
        "# istersek başka ayraç tanımlayabiliriz:\n",
        "my_string='how,are,you,doing'\n",
        "my_list=my_string.split(\",\")\n",
        "\n",
        "print(my_list)"
      ],
      "metadata": {
        "colab": {
          "base_uri": "https://localhost:8080/"
        },
        "id": "grj17_RP33Ld",
        "outputId": "118bc151-96f6-4e60-a32a-6897d6e522e4"
      },
      "execution_count": 49,
      "outputs": [
        {
          "output_type": "stream",
          "name": "stdout",
          "text": [
            "['how', 'are', 'you', 'doing']\n"
          ]
        }
      ]
    },
    {
      "cell_type": "code",
      "source": [
        "# listi stringe çevirme: metin birleştiriyor\n",
        "my_string='how,are,you,doing'\n",
        "my_list=my_string.split(\",\")\n",
        "\n",
        "new_string=''.join(my_list)\n",
        "print(new_string)"
      ],
      "metadata": {
        "colab": {
          "base_uri": "https://localhost:8080/"
        },
        "id": "aOFWzEf2DKNX",
        "outputId": "1226b61d-137e-4384-9c71-16a3128deebd"
      },
      "execution_count": 50,
      "outputs": [
        {
          "output_type": "stream",
          "name": "stdout",
          "text": [
            "howareyoudoing\n"
          ]
        }
      ]
    },
    {
      "cell_type": "code",
      "source": [
        "# listi stringe çevirme\n",
        "my_string='how,are,you,doing'\n",
        "my_list=my_string.split(\",\")\n",
        "\n",
        "new_string=' '.join(my_list) #araya karakter ekleme\n",
        "print(my_list)\n",
        "print(new_string)"
      ],
      "metadata": {
        "colab": {
          "base_uri": "https://localhost:8080/"
        },
        "id": "ZTFXE6trDRIY",
        "outputId": "b858eb54-e028-4ffe-b07a-bad63bccaf4d"
      },
      "execution_count": 52,
      "outputs": [
        {
          "output_type": "stream",
          "name": "stdout",
          "text": [
            "['how', 'are', 'you', 'doing']\n",
            "how are you doing\n"
          ]
        }
      ]
    },
    {
      "cell_type": "code",
      "source": [
        "my_list= ['a'] * 6\n",
        "print(my_list)\n",
        "\n",
        "# kötü bir kodlama örneği: \n",
        "my_string=''\n",
        "for i in my_list:\n",
        "  my_string+=i    #her adımda yeni bir string üretiliyor.  çok maliyetli bir adım\n",
        "print(my_string)\n",
        "\n",
        "\n",
        "# iyi bir kodlama örneği: daha temiz ve daha hızlı bir kod\n",
        "my_string=''.join(my_list)\n",
        "print(my_string)"
      ],
      "metadata": {
        "colab": {
          "base_uri": "https://localhost:8080/"
        },
        "id": "6VgkA0moDzXI",
        "outputId": "7925b5d7-16df-448f-f2d9-8673b3e91d59"
      },
      "execution_count": 59,
      "outputs": [
        {
          "output_type": "stream",
          "name": "stdout",
          "text": [
            "['a', 'a', 'a', 'a', 'a', 'a']\n",
            "aaaaaa\n",
            "aaaaaa\n"
          ]
        }
      ]
    },
    {
      "cell_type": "code",
      "source": [
        "# hesaplama maliyeti karşılaştırması için zamanı ölçelim\n",
        "from timeit import default_timer as timer\n",
        "\n",
        "my_list= ['a'] * 6\n",
        "print(my_list)\n",
        "\n",
        "# kötü bir kodlama örneği: \n",
        "start=timer()\n",
        "my_string=''\n",
        "for i in my_list:\n",
        "  my_string+=i    #her adımda yeni bir string üretiliyor.  çok maliyetli bir adım\n",
        "stop=timer()\n",
        "print(my_string)\n",
        "print(stop-start)\n",
        "\n",
        "\n",
        "# iyi bir kodlama örneği: daha temiz ve daha hızlı bir kod\n",
        "start=timer()\n",
        "my_string=''.join(my_list)\n",
        "stop=timer()\n",
        "print(my_string)\n",
        "print(stop-start)"
      ],
      "metadata": {
        "id": "sLt7hpSDCglO",
        "colab": {
          "base_uri": "https://localhost:8080/"
        },
        "outputId": "068f6e62-883c-413e-d5ac-3e00273740f5"
      },
      "execution_count": 60,
      "outputs": [
        {
          "output_type": "stream",
          "name": "stdout",
          "text": [
            "['a', 'a', 'a', 'a', 'a', 'a']\n",
            "aaaaaa\n",
            "9.36689998525253e-05\n",
            "aaaaaa\n",
            "5.380299990065396e-05\n"
          ]
        }
      ]
    },
    {
      "cell_type": "code",
      "source": [
        "# hesaplama maliyeti karşılaştırması için zamanı daha büyük bir metin ile ölçelim\n",
        "from timeit import default_timer as timer\n",
        "\n",
        "my_list= ['a'] * 10000\n",
        "#print(my_list)\n",
        "\n",
        "# kötü bir kodlama örneği: \n",
        "start=timer()\n",
        "my_string=''\n",
        "for i in my_list:\n",
        "  my_string+=i    #her adımda yeni bir string üretiliyor.  çok maliyetli bir adım\n",
        "stop=timer()\n",
        "#print(my_string)\n",
        "print(stop-start)\n",
        "\n",
        "\n",
        "# iyi bir kodlama örneği: daha temiz ve daha hızlı bir kod\n",
        "start=timer()\n",
        "my_string=''.join(my_list)\n",
        "stop=timer()\n",
        "#print(my_string)\n",
        "print(stop-start)"
      ],
      "metadata": {
        "id": "JZRloW7rS4e_",
        "colab": {
          "base_uri": "https://localhost:8080/"
        },
        "outputId": "8399d261-2092-4c26-9d44-47807bd4c902"
      },
      "execution_count": 65,
      "outputs": [
        {
          "output_type": "stream",
          "name": "stdout",
          "text": [
            "0.0035836209999615676\n",
            "0.00023754800031383638\n"
          ]
        }
      ]
    },
    {
      "cell_type": "code",
      "source": [
        "#formatting strings\n",
        "# eski yöntemde % var. python 3.6dan itibaren fstring var\n",
        "var=\"Tom\"\n",
        "my_string=\"the variable is %s\" %var\n",
        "print(my_string)\n"
      ],
      "metadata": {
        "colab": {
          "base_uri": "https://localhost:8080/"
        },
        "id": "XJtMnkz3GbAQ",
        "outputId": "f5d8fa4b-a4ad-4e9e-8153-1c0192ce886d"
      },
      "execution_count": 66,
      "outputs": [
        {
          "output_type": "stream",
          "name": "stdout",
          "text": [
            "the variable is Tom\n"
          ]
        }
      ]
    },
    {
      "cell_type": "code",
      "source": [
        "#formatting strings\n",
        "# eski yöntemde % var. python 3.6dan itibaren fstring var\n",
        "var=3\n",
        "my_string=\"the variable is %d\" %var\n",
        "print(my_string)"
      ],
      "metadata": {
        "colab": {
          "base_uri": "https://localhost:8080/"
        },
        "id": "biN7YCstGbTh",
        "outputId": "62785a66-c2cc-4928-cda1-86113ec7ff36"
      },
      "execution_count": 67,
      "outputs": [
        {
          "output_type": "stream",
          "name": "stdout",
          "text": [
            "the variable is 3\n"
          ]
        }
      ]
    },
    {
      "cell_type": "code",
      "source": [
        "#formatting strings\n",
        "# eski yöntemde % var. python 3.6dan itibaren fstring var\n",
        "var=3.1234567\n",
        "my_string=\"the variable is %d\" %var\n",
        "print(my_string)"
      ],
      "metadata": {
        "colab": {
          "base_uri": "https://localhost:8080/"
        },
        "id": "zfgybveyG2dQ",
        "outputId": "4fcd1123-565e-4471-c86f-38c7e54d7a1e"
      },
      "execution_count": 70,
      "outputs": [
        {
          "output_type": "stream",
          "name": "stdout",
          "text": [
            "the variable is 3\n"
          ]
        }
      ]
    },
    {
      "cell_type": "code",
      "source": [
        "#formatting strings\n",
        "# eski yöntemde % var. \n",
        "var=3.1234567\n",
        "my_string=\"the variable is %f\" %var\n",
        "print(my_string)"
      ],
      "metadata": {
        "colab": {
          "base_uri": "https://localhost:8080/"
        },
        "id": "7pvJ7XYLG2wI",
        "outputId": "e18fd644-16b4-4c7e-a210-a8ec7c017603"
      },
      "execution_count": 71,
      "outputs": [
        {
          "output_type": "stream",
          "name": "stdout",
          "text": [
            "the variable is 3.123457\n"
          ]
        }
      ]
    },
    {
      "cell_type": "code",
      "source": [
        "#formatting strings\n",
        "# eski yöntemde % var. \n",
        "var=3.1234567\n",
        "my_string=\"the variable is %.2f\" %var\n",
        "print(my_string)"
      ],
      "metadata": {
        "colab": {
          "base_uri": "https://localhost:8080/"
        },
        "id": "8eQkc3bCGbw3",
        "outputId": "f1c65af8-a3cb-409d-df1e-0d1cb822fc67"
      },
      "execution_count": 72,
      "outputs": [
        {
          "output_type": "stream",
          "name": "stdout",
          "text": [
            "the variable is 3.12\n"
          ]
        }
      ]
    },
    {
      "cell_type": "code",
      "source": [
        "#formatting strings\n",
        "# . format yöntemi\n",
        "var=3.1234567\n",
        "my_string=\"the variable is {}\".format(var)\n",
        "print(my_string)"
      ],
      "metadata": {
        "colab": {
          "base_uri": "https://localhost:8080/"
        },
        "id": "YBFG2_sqGFUX",
        "outputId": "b07557bf-1d66-46dc-9336-e0c5b5846198"
      },
      "execution_count": 73,
      "outputs": [
        {
          "output_type": "stream",
          "name": "stdout",
          "text": [
            "the variable is 3.1234567\n"
          ]
        }
      ]
    },
    {
      "cell_type": "code",
      "source": [
        "#formatting strings\n",
        "# . format yöntemi\n",
        "var=3.1234567\n",
        "my_string=\"the variable is {:.2f}\".format(var)\n",
        "print(my_string)"
      ],
      "metadata": {
        "colab": {
          "base_uri": "https://localhost:8080/"
        },
        "id": "xUdHV4_dHhoD",
        "outputId": "438a9b29-65e1-4ef7-fbe7-60eb74bc177a"
      },
      "execution_count": 74,
      "outputs": [
        {
          "output_type": "stream",
          "name": "stdout",
          "text": [
            "the variable is 3.12\n"
          ]
        }
      ]
    },
    {
      "cell_type": "code",
      "source": [
        "#formatting strings\n",
        "# . format yöntemi\n",
        "var=3.1234567\n",
        "var2=6\n",
        "my_string=\"the variable is {} and {}\".format(var,var2)\n",
        "print(my_string)"
      ],
      "metadata": {
        "colab": {
          "base_uri": "https://localhost:8080/"
        },
        "id": "KCFbgX8lHovC",
        "outputId": "311fdf96-000c-4f09-e26b-ede9b6eb9530"
      },
      "execution_count": 75,
      "outputs": [
        {
          "output_type": "stream",
          "name": "stdout",
          "text": [
            "the variable is 3.1234567 and 6\n"
          ]
        }
      ]
    },
    {
      "cell_type": "code",
      "source": [
        "#formatting strings\n",
        "# fstring yöntemi. burada .format'a gerek yok:\n",
        "# çok kolay ve kullanışlı bir yöntem\n",
        "# fstring kullanmanızı tavsiye ediyorum:\n",
        "var=3.1234567\n",
        "var2=6\n",
        "my_string=f\"the variable is {var} and {var2}\"\n",
        "print(my_string)"
      ],
      "metadata": {
        "colab": {
          "base_uri": "https://localhost:8080/"
        },
        "id": "UAfrKzDDHqOv",
        "outputId": "da76f7bf-6b75-44ee-ac3b-345714f59ac9"
      },
      "execution_count": 76,
      "outputs": [
        {
          "output_type": "stream",
          "name": "stdout",
          "text": [
            "the variable is 3.1234567 and 6\n"
          ]
        }
      ]
    },
    {
      "cell_type": "code",
      "source": [
        "# fstring yöntemi. burada .format'a gerek yok:\n",
        "# çok kolay ve kullanışlı bir yöntem\n",
        "# aritmetik işlemler de yapabilirsiniz\n",
        "\n",
        "var=3.1234567\n",
        "var2=6\n",
        "my_string=f\"the variable is {var*2} and {var2}\"\n",
        "print(my_string)"
      ],
      "metadata": {
        "colab": {
          "base_uri": "https://localhost:8080/"
        },
        "id": "CNLkgzssHqfP",
        "outputId": "c8f4ab72-5b82-45b6-bfc3-32da9d834061"
      },
      "execution_count": 77,
      "outputs": [
        {
          "output_type": "stream",
          "name": "stdout",
          "text": [
            "the variable is 6.2469134 and 6\n"
          ]
        }
      ]
    },
    {
      "cell_type": "code",
      "source": [
        "#string konusu burada bitti."
      ],
      "metadata": {
        "id": "dCc7ypQLIHv3"
      },
      "execution_count": null,
      "outputs": []
    }
  ]
}