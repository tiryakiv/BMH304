{
  "nbformat": 4,
  "nbformat_minor": 0,
  "metadata": {
    "colab": {
      "name": "pd_05_23_class_inheritance.ipynb",
      "provenance": [],
      "collapsed_sections": []
    },
    "kernelspec": {
      "name": "python3",
      "display_name": "Python 3"
    },
    "language_info": {
      "name": "python"
    }
  },
  "cells": [
    {
      "cell_type": "code",
      "execution_count": null,
      "metadata": {
        "id": "bwyPCMI9YI1e"
      },
      "outputs": [],
      "source": [
        "# Kaynak : Corey Shafer\n",
        "# https://www.youtube.com/watch?v=rq8cL2XMM5M\n",
        "\n",
        "# Alternatif constructor'ları birden fazla yöntemle nesne üretmek için kullanırız.\n",
        "# Geçen hafta yaptığımız örnekte bunu gerçekleştirdik\n"
      ]
    },
    {
      "cell_type": "code",
      "source": [
        "# Static metotlar\n",
        "# Regular metodlara ilk argüman olarak self, class metotlarına ilk argüman olarak\n",
        "# cls geçeriz (pass). Statik metotlara ilk argüman olarak bir şey geçmeyiz.\n",
        "\n",
        "# Bir gün geçildiğinde bu günün çalışma günü olup olmadığını bildrilen bir static metot yazalım\n",
        "# Bu metodun bizim Employee class'ımız ile mantıksal bir ilgisi var\n",
        "# Ancak bu metod spesifik olarak bir instance veya class değişkenimize bağlı değil\n",
        "\n",
        "# İpucu: Eğer yazdığınız bir metot içinde self ve cls geçmiyorsa bu metod static olmalıdır."
      ],
      "metadata": {
        "id": "Lyxx0aNZYlUq"
      },
      "execution_count": null,
      "outputs": []
    },
    {
      "cell_type": "code",
      "source": [
        "class Employee:\n",
        "\n",
        "  raise_amt=1.04 \n",
        "\n",
        "  def __init__(self, first,last,pay): \n",
        "    self.first=first \n",
        "    self.last=last\n",
        "    self.pay=pay\n",
        "    self.email=first +'.'+last+'@company.com'\n",
        "\n",
        "\n",
        "  def fullname(self): \n",
        "    return f\"{self.first} {self.last}\"\n",
        "\n",
        "  def apply_raise(self):\n",
        "    self.pay=int(self.pay*Employee.raise_amt)\n",
        "\n",
        "  @classmethod\n",
        "  def set_raise_amt(cls,amount):\n",
        "    cls.raise_amt=amount\n",
        "\n",
        "  @classmethod   \n",
        "  def from_string(cls,emp_str):\n",
        "    first, last, pay = emp_str.split('-')\n",
        "    return cls(first, last, pay)\n",
        "\n",
        "  @staticmethod   #static metot tanımı\n",
        "  def is_workday(day):  # argüman olarak self veya cls almıyor\n",
        "    if day.weekday()==5 or day.weekday()==6:\n",
        "        return False\n",
        "    return True\n",
        "\n",
        "\n",
        "emp_1=Employee('Corey','Shafer',50000) \n",
        "emp_2=Employee('Test','User',20000) \n",
        "\n",
        "import datetime\n",
        "my_date=datetime.date(2022,5,23)\n",
        "\n",
        "print(Employee.is_workday(my_date))\n"
      ],
      "metadata": {
        "colab": {
          "base_uri": "https://localhost:8080/"
        },
        "id": "fITF7GxeclD6",
        "outputId": "0e440c1d-741e-42c1-b827-4896753b9cbb"
      },
      "execution_count": null,
      "outputs": [
        {
          "output_type": "stream",
          "name": "stdout",
          "text": [
            "True\n"
          ]
        }
      ]
    },
    {
      "cell_type": "code",
      "source": [
        "# Sıradaki konuya geçiyorum. inheritance ve subclasses\n",
        "# https://www.youtube.com/watch?v=RSl87lqOXDE\n",
        "\n",
        "# Inheritance'ın türkçe karşılığı kalıtım\n",
        "# Nesneye yönelik programlamada kullanılan bir teknik. Inheritance bir class'ın \n",
        "# tüm attribute ve metotlarını bir alt sınıfa taşımaya ve sonrasında alt sınıf için \n",
        "# ek özellikler eklememizi ve revize etmemizi sağlar. Bunu yaparken ana class'da\n",
        "# herhangi bir değişiklik olmaz\n",
        "\n",
        "# Şimdi inheritance'a bir örnek verelim. Employee class'ımızı düşünelim.\n",
        "# Bu Employee class'dan hem developer hem de manager türetmek isteyebiliriz.\n",
        "# Hem developer hem de manager nesnelerinin \"isim\", \"soyisim\" ve \"maaş\" attributeları var\n",
        "# Employee class içinde bu üç attribute var. Bu kodların hepsini kopyala yapıştır \n",
        "# yapmak istemiyoruz. Daha teknik bir yolla yapmak istiyoruz. bunun adı: inheritance\n",
        "\n",
        "# developer ve manager subclass tanımlayalım\n"
      ],
      "metadata": {
        "id": "MEkJa9qKebai"
      },
      "execution_count": null,
      "outputs": []
    },
    {
      "cell_type": "code",
      "source": [
        "class Employee:\n",
        "\n",
        "  raise_amt=1.04 #class değişkeni\n",
        "\n",
        "  def __init__(self, first,last,pay): \n",
        "    self.first=first \n",
        "    self.last=last\n",
        "    self.pay=pay\n",
        "    self.email=first +'.'+last+'@company.com'\n",
        "\n",
        "\n",
        "  def fullname(self): \n",
        "    return f\"{self.first} {self.last}\"\n",
        "\n",
        "  def apply_raise(self):\n",
        "    self.pay=int(self.pay*self.raise_amt)\n",
        "\n",
        "class Developer(Employee):  # Developer subclass'ımız bu sefer Employee'nin subclassı oldu\n",
        "  pass  # hiçbir kod yazmamamıza rağmen şu an ana class'ın tüm fonksiyonlarını çalıştırabiliriz :)\n",
        "\n",
        "dev_1=Employee('Corey','Shafer',50000) \n",
        "dev_2=Employee('Test','User',60000) \n",
        "\n",
        "print(dev_1.email)\n",
        "print(dev_2.email)\n"
      ],
      "metadata": {
        "id": "RIb_hRg_fNO0",
        "colab": {
          "base_uri": "https://localhost:8080/"
        },
        "outputId": "6898f12c-bedf-44b6-da9e-5d7f398cfa13"
      },
      "execution_count": null,
      "outputs": [
        {
          "output_type": "stream",
          "name": "stdout",
          "text": [
            "Corey.Shafer@company.com\n",
            "Test.User@company.com\n"
          ]
        }
      ]
    },
    {
      "cell_type": "code",
      "source": [
        "# iki tane developer oluşturalım:\n",
        "\n",
        "class Employee:\n",
        "\n",
        "  raise_amt=1.04 #class değişkeni\n",
        "\n",
        "  def __init__(self, first,last,pay): \n",
        "    self.first=first \n",
        "    self.last=last\n",
        "    self.pay=pay\n",
        "    self.email=first +'.'+last+'@company.com'\n",
        "\n",
        "\n",
        "  def fullname(self): \n",
        "    return f\"{self.first} {self.last}\"\n",
        "\n",
        "  def apply_raise(self):\n",
        "    self.pay=int(self.pay*self.raise_amt)\n",
        "\n",
        "class Developer(Employee):  # Developer subclass'ımız bu sefer Employee'nin subclassı oldu\n",
        "  pass    # hiçbir kod yazmamamıza rağmen ana class'ın tüm fonksiyonlarını çalıştırabiliriz :)\n",
        "\n",
        "dev_1=Developer('Corey','Shafer',50000) \n",
        "dev_2=Developer('Test','User',60000) \n",
        "\n",
        "print(dev_1.email)\n",
        "print(dev_2.email)"
      ],
      "metadata": {
        "colab": {
          "base_uri": "https://localhost:8080/"
        },
        "id": "K36cfZ2rV0rX",
        "outputId": "32258232-126b-4626-a9d5-6a433df742cf"
      },
      "execution_count": null,
      "outputs": [
        {
          "output_type": "stream",
          "name": "stdout",
          "text": [
            "Corey.Shafer@company.com\n",
            "Test.User@company.com\n"
          ]
        }
      ]
    },
    {
      "cell_type": "code",
      "source": [
        "# help komutu kullanark class inheritance hakkında bilgi sahibi olabiliriz\n",
        "\n",
        "class Employee:\n",
        "\n",
        "  raise_amt=1.04 #class değişkeni\n",
        "\n",
        "  def __init__(self, first,last,pay): \n",
        "    self.first=first \n",
        "    self.last=last\n",
        "    self.pay=pay\n",
        "    self.email=first +'.'+last+'@company.com'\n",
        "\n",
        "\n",
        "  def fullname(self): \n",
        "    return f\"{self.first} {self.last}\"\n",
        "\n",
        "  def apply_raise(self):\n",
        "    self.pay=int(self.pay*self.raise_amt)\n",
        "\n",
        "class Developer(Employee):  \n",
        "  pass\n",
        "\n",
        "dev_1=Developer('Corey','Shafer',50000) \n",
        "dev_2=Developer('Test','User',60000) \n",
        "\n",
        "print(help(Developer))"
      ],
      "metadata": {
        "colab": {
          "base_uri": "https://localhost:8080/"
        },
        "id": "pyLKHVHdWPwe",
        "outputId": "dcebbb7b-311b-4ece-823e-c8c3cf846577"
      },
      "execution_count": null,
      "outputs": [
        {
          "output_type": "stream",
          "name": "stdout",
          "text": [
            "Help on class Developer in module __main__:\n",
            "\n",
            "class Developer(Employee)\n",
            " |  Developer(first, last, pay)\n",
            " |  \n",
            " |  Method resolution order:\n",
            " |      Developer\n",
            " |      Employee\n",
            " |      builtins.object\n",
            " |  \n",
            " |  Methods inherited from Employee:\n",
            " |  \n",
            " |  __init__(self, first, last, pay)\n",
            " |      Initialize self.  See help(type(self)) for accurate signature.\n",
            " |  \n",
            " |  apply_raise(self)\n",
            " |  \n",
            " |  fullname(self)\n",
            " |  \n",
            " |  ----------------------------------------------------------------------\n",
            " |  Data descriptors inherited from Employee:\n",
            " |  \n",
            " |  __dict__\n",
            " |      dictionary for instance variables (if defined)\n",
            " |  \n",
            " |  __weakref__\n",
            " |      list of weak references to the object (if defined)\n",
            " |  \n",
            " |  ----------------------------------------------------------------------\n",
            " |  Data and other attributes inherited from Employee:\n",
            " |  \n",
            " |  raise_amt = 1.04\n",
            "\n",
            "None\n"
          ]
        }
      ]
    },
    {
      "cell_type": "code",
      "source": [
        "# yukarıda Method resolution order ve Employee class'dan inherit edilmiş attribute ve \n",
        "# metotların listesini görebiliyoruz.\n"
      ],
      "metadata": {
        "id": "lr4oRqs8Wzn-"
      },
      "execution_count": null,
      "outputs": []
    },
    {
      "cell_type": "code",
      "source": [
        "# subclass'ımızı özelleştirebiliriz (customize)\n",
        "class Employee:\n",
        "\n",
        "  raise_amt=1.04\n",
        "\n",
        "  def __init__(self, first,last,pay): \n",
        "    self.first=first \n",
        "    self.last=last\n",
        "    self.pay=pay\n",
        "    self.email=first +'.'+last+'@company.com'\n",
        "\n",
        "\n",
        "  def fullname(self): \n",
        "    return f\"{self.first} {self.last}\"\n",
        "\n",
        "  def apply_raise(self):\n",
        "    self.pay=int(self.pay*self.raise_amt)\n",
        "\n",
        "class Developer(Employee):  \n",
        "  pass\n",
        "\n",
        "dev_1=Developer('Corey','Shafer',50000) \n",
        "dev_2=Developer('Test','User',60000) \n",
        "\n",
        "print(dev_1.pay)\n",
        "dev_1.apply_raise()\n",
        "print(dev_1.pay)\n"
      ],
      "metadata": {
        "colab": {
          "base_uri": "https://localhost:8080/"
        },
        "id": "ZDd9FVgTXrV8",
        "outputId": "b5b7d4d0-cc81-41f9-91ec-83437b02e4ee"
      },
      "execution_count": null,
      "outputs": [
        {
          "output_type": "stream",
          "name": "stdout",
          "text": [
            "50000\n",
            "52000\n"
          ]
        }
      ]
    },
    {
      "cell_type": "code",
      "source": [
        "# developer'larımızın artış oranını yüzde 10 yapmak istiyoruz.\n",
        "class Employee:\n",
        "  raise_amt=1.04\n",
        "\n",
        "  def __init__(self, first,last,pay): \n",
        "    self.first=first \n",
        "    self.last=last\n",
        "    self.pay=pay\n",
        "    self.email=first +'.'+last+'@company.com'\n",
        "\n",
        "\n",
        "  def fullname(self): \n",
        "    return f\"{self.first} {self.last}\"\n",
        "\n",
        "  def apply_raise(self):\n",
        "    self.pay=int(self.pay*self.raise_amt)\n",
        "\n",
        "class Developer(Employee):  \n",
        "  raise_amt=1.10   #sadece bu satırı değiştirmemiz yeterli \n",
        "\n",
        "dev_1=Developer('Corey','Shafer',50000) \n",
        "dev_2=Developer('Test','User',60000) \n",
        "\n",
        "print(dev_1.pay)\n",
        "dev_1.apply_raise()\n",
        "print(dev_1.pay)\n"
      ],
      "metadata": {
        "colab": {
          "base_uri": "https://localhost:8080/"
        },
        "id": "Urc11N9gYUqz",
        "outputId": "8ee9eedd-a9fd-4b70-fa27-474c375be2c5"
      },
      "execution_count": null,
      "outputs": [
        {
          "output_type": "stream",
          "name": "stdout",
          "text": [
            "50000\n",
            "55000\n"
          ]
        }
      ]
    },
    {
      "cell_type": "code",
      "source": [
        "# eğer dev_1'i Employee class kullanarak üretirsek artış oranı Employee class'dan alınır:\n",
        "class Employee:\n",
        "\n",
        "  raise_amt=1.04\n",
        "\n",
        "  def __init__(self, first,last,pay): \n",
        "    self.first=first \n",
        "    self.last=last\n",
        "    self.pay=pay\n",
        "    self.email=first +'.'+last+'@company.com'\n",
        "\n",
        "\n",
        "  def fullname(self): \n",
        "    return f\"{self.first} {self.last}\"\n",
        "\n",
        "  def apply_raise(self):\n",
        "    self.pay=int(self.pay*self.raise_amt)\n",
        "\n",
        "class Developer(Employee):  \n",
        "  raise_amt=1.10   \n",
        "\n",
        "dev_1=Employee('Corey','Shafer',50000) #Employee class'dan instance ürettik\n",
        "dev_2=Developer('Test','User',60000) \n",
        "\n",
        "print(dev_1.pay)\n",
        "dev_1.apply_raise()\n",
        "print(dev_1.pay)\n"
      ],
      "metadata": {
        "colab": {
          "base_uri": "https://localhost:8080/"
        },
        "id": "lo2wl1_xYr2j",
        "outputId": "c47f9595-3273-46ad-94ff-be0b91e1815d"
      },
      "execution_count": null,
      "outputs": [
        {
          "output_type": "stream",
          "name": "stdout",
          "text": [
            "50000\n",
            "52000\n"
          ]
        }
      ]
    },
    {
      "cell_type": "code",
      "source": [
        "# Bir önceki kod hücresinden alınacak ders: subclass'da artış oranını yüzde10 yapmak ana class'da herhangi \n",
        "# değişikliğe neden olmadı"
      ],
      "metadata": {
        "id": "je5H8DGUZvgj"
      },
      "execution_count": null,
      "outputs": []
    },
    {
      "cell_type": "code",
      "source": [
        "# Bazen subclass'a ana class'da olmayan bir attribute eklemek isteyebiliriz\n",
        "# Örneğin Developer class'dan üretilen nesnelerin bir \"programlama dili\" attributeu olmasını isteyebiliriz\n",
        "# Bunun için şunları yapmamız lazım\n",
        "# Bu örnekte subclass yöntemi ile sadece birkaç satır kod ile yeni bir class oluşturmayı öğreniyoruz\n",
        "\n",
        "class Employee:\n",
        "\n",
        "  raise_amt=1.04\n",
        "\n",
        "  def __init__(self, first,last,pay): \n",
        "    self.first=first \n",
        "    self.last=last\n",
        "    self.pay=pay\n",
        "    self.email=first +'.'+last+'@company.com'\n",
        "\n",
        "\n",
        "  def fullname(self): \n",
        "    return f\"{self.first} {self.last}\"\n",
        "\n",
        "  def apply_raise(self):\n",
        "    self.pay=int(self.pay*self.raise_amt)\n",
        "\n",
        "class Developer(Employee):  \n",
        "  raise_amt=1.10   \n",
        "\n",
        "  def __init__(self, first,last,pay,prog_lang): # Employee classın init metodunu tamamen kopyala yapıştır yapmak istemiyoruz. Kodumuzun veciz olmasını istiyoruz\n",
        "    super().__init__(first,last,pay)  #Developer classın init metodunun ilk üç argümanı ana class (Employee) init metodu tarafından yürütülecek\n",
        "    # Employee().__init__(self,first,last,pay) # bu şekilde de yazılabilir ancak üstteki daha iyi \n",
        "    self.prog_lang=prog_lang\n",
        "\n",
        "\n",
        "dev_1=Developer('Corey','Shafer',50000,'Python') #son argümanı ekledik \n",
        "dev_2=Developer('Test','User',60000, 'Java') \n",
        "\n",
        "print(dev_1.email)\n",
        "print(dev_1.prog_lang)\n",
        "\n",
        "#print(dev_1.pay)\n",
        "#dev_1.apply_raise()\n",
        "#print(dev_1.pay)\n"
      ],
      "metadata": {
        "id": "huBtywDgZ7j8",
        "colab": {
          "base_uri": "https://localhost:8080/"
        },
        "outputId": "7619c0e0-eb35-4739-f331-8890f25d7360"
      },
      "execution_count": null,
      "outputs": [
        {
          "output_type": "stream",
          "name": "stdout",
          "text": [
            "Corey.Shafer@company.com\n",
            "Python\n"
          ]
        }
      ]
    },
    {
      "cell_type": "code",
      "source": [
        "# Şimdi de Manager subclass oluşturalım\n",
        "# Manager nesnesi supervizörlük yaptığı çalışanlar listesini argüman olarak alacak\n",
        "# Ayrıca Manager subclass içinde süpervizörlük yapılan çalışan listesine eleman eklemeye ve çıkarmaya yarayan 2 metot olacak\n",
        "# Bir de  Manager'in supervizörlük yaptığı tüm çalışanları yazan metot olacak \n",
        "\n",
        "class Employee:\n",
        "\n",
        "  raise_amt=1.04\n",
        "\n",
        "  def __init__(self, first,last,pay): \n",
        "    self.first=first \n",
        "    self.last=last\n",
        "    self.pay=pay\n",
        "    self.email=first +'.'+last+'@company.com'\n",
        "\n",
        "\n",
        "  def fullname(self): \n",
        "    return f\"{self.first} {self.last}\"\n",
        "\n",
        "  def apply_raise(self):\n",
        "    self.pay=int(self.pay*self.raise_amt)\n",
        "\n",
        "class Developer(Employee):  \n",
        "  raise_amt=1.10   \n",
        "\n",
        "  def __init__(self, first,last,pay,prog_lang): \n",
        "    super().__init__(first,last,pay)\n",
        "    self.prog_lang=prog_lang\n",
        "\n",
        "class Manager(Employee):\n",
        "    def __init__(self, first, last, pay, employees=None): # init metodu Employee class'dan farklı olarak süpervizörlük edilen çalışan listesini alıyor\n",
        "        super().__init__(first, last, pay)\n",
        "        if employees is None:\n",
        "            self.employees = []\n",
        "        else:\n",
        "            self.employees = employees\n",
        "\n",
        "    def add_emp(self, emp):  #Eleman ekleme metodu\n",
        "        if emp not in self.employees:\n",
        "            self.employees.append(emp)\n",
        "\n",
        "    def remove_emp(self, emp):  #Eleman çıkarma metodu\n",
        "        if emp in self.employees:\n",
        "            self.employees.remove(emp)\n",
        "    def print_emps(self):  # Manager'in supervizörlük yaptığı tüm çalışanları yazan metot\n",
        "        for emp in self.employees:\n",
        "            print('-->', emp.fullname())\n",
        "\n",
        "dev_1=Developer('Corey','Shafer',50000,'Python')  \n",
        "dev_2=Developer('Test','User',60000, 'Java') \n",
        "\n",
        "mgr_1=Manager('Sue','Smith',90000, [dev_1])\n",
        "print(mgr_1.email)\n",
        "\n",
        "# print(dev_1.email)\n",
        "# print(dev_1.prog_lang)\n",
        "\n",
        "#print(dev_1.pay)\n",
        "#dev_1.apply_raise()\n",
        "#print(dev_1.pay)\n"
      ],
      "metadata": {
        "colab": {
          "base_uri": "https://localhost:8080/"
        },
        "id": "BQzPGa6ro2IV",
        "outputId": "25815ac2-cd49-41d0-a1cd-72479effcb85"
      },
      "execution_count": null,
      "outputs": [
        {
          "output_type": "stream",
          "name": "stdout",
          "text": [
            "Sue.Smith@company.com\n"
          ]
        }
      ]
    },
    {
      "cell_type": "code",
      "source": [
        "#Şimdi manager'in süpervizörlük yaptığı çalışan listesini yazdıralım\n",
        "class Employee:\n",
        "\n",
        "  raise_amt=1.04\n",
        "\n",
        "  def __init__(self, first,last,pay): \n",
        "    self.first=first \n",
        "    self.last=last\n",
        "    self.pay=pay\n",
        "    self.email=first +'.'+last+'@company.com'\n",
        "\n",
        "\n",
        "  def fullname(self): \n",
        "    return f\"{self.first} {self.last}\"\n",
        "\n",
        "  def apply_raise(self):\n",
        "    self.pay=int(self.pay*self.raise_amt)\n",
        "\n",
        "class Developer(Employee):  \n",
        "  raise_amt=1.10   \n",
        "\n",
        "  def __init__(self, first,last,pay,prog_lang): \n",
        "    super().__init__(first,last,pay)\n",
        "    self.prog_lang=prog_lang\n",
        "\n",
        "class Manager(Employee):\n",
        "    def __init__(self, first, last, pay, employees=None): # init metodu Employee class'dan farklı olarak süpervizörlük edilen çalışan listesini alıyor\n",
        "        super().__init__(first, last, pay)\n",
        "        if employees is None:\n",
        "            self.employees = []\n",
        "        else:\n",
        "            self.employees = employees\n",
        "\n",
        "    def add_emp(self, emp):  #Eleman ekleme metodu\n",
        "        if emp not in self.employees:\n",
        "            self.employees.append(emp)\n",
        "\n",
        "    def remove_emp(self, emp):  #Eleman çıkarma metodu\n",
        "        if emp in self.employees:\n",
        "            self.employees.remove(emp)\n",
        "    def print_emps(self):  # Manager'in supervizörlük yaptığı tüm çalışanları yazan metot\n",
        "        for emp in self.employees:\n",
        "            print('-->', emp.fullname())\n",
        "\n",
        "dev_1=Developer('Corey','Shafer',50000,'Python')  \n",
        "dev_2=Developer('Test','User',60000, 'Java') \n",
        "\n",
        "mgr_1=Manager('Sue','Smith',90000, [dev_1])\n",
        "print(mgr_1.email)\n",
        "mgr_1.print_emps()"
      ],
      "metadata": {
        "colab": {
          "base_uri": "https://localhost:8080/"
        },
        "id": "0UXfQUgUsfHJ",
        "outputId": "8d176eeb-7573-4110-c6a7-59baf923fd03"
      },
      "execution_count": null,
      "outputs": [
        {
          "output_type": "stream",
          "name": "stdout",
          "text": [
            "Sue.Smith@company.com\n",
            "--> Corey Shafer\n"
          ]
        }
      ]
    },
    {
      "cell_type": "code",
      "source": [
        "#Şimdi manager'in süpervizörlük yaptığı çalışan listesine eleman ekleyelim\n",
        "class Employee:\n",
        "\n",
        "  raise_amt=1.04\n",
        "\n",
        "  def __init__(self, first,last,pay): \n",
        "    self.first=first \n",
        "    self.last=last\n",
        "    self.pay=pay\n",
        "    self.email=first +'.'+last+'@company.com'\n",
        "\n",
        "\n",
        "  def fullname(self): \n",
        "    return f\"{self.first} {self.last}\"\n",
        "\n",
        "  def apply_raise(self):\n",
        "    self.pay=int(self.pay*self.raise_amt)\n",
        "\n",
        "class Developer(Employee):  \n",
        "  raise_amt=1.10   \n",
        "\n",
        "  def __init__(self, first,last,pay,prog_lang): \n",
        "    super().__init__(first,last,pay)\n",
        "    self.prog_lang=prog_lang\n",
        "\n",
        "class Manager(Employee):\n",
        "    def __init__(self, first, last, pay, employees=None): \n",
        "        super().__init__(first, last, pay)\n",
        "        if employees is None:\n",
        "            self.employees = []\n",
        "        else:\n",
        "            self.employees = employees\n",
        "\n",
        "    def add_emp(self, emp):  \n",
        "        if emp not in self.employees:\n",
        "            self.employees.append(emp)\n",
        "\n",
        "    def remove_emp(self, emp):  \n",
        "        if emp in self.employees:\n",
        "            self.employees.remove(emp)\n",
        "    def print_emps(self):  \n",
        "        for emp in self.employees:\n",
        "            print('-->', emp.fullname())\n",
        "\n",
        "dev_1=Developer('Corey','Shafer',50000,'Python')  \n",
        "dev_2=Developer('Test','User',60000, 'Java') \n",
        "\n",
        "mgr_1=Manager('Sue','Smith',90000, [dev_1])\n",
        "\n",
        "mgr_1.add_emp(dev_2)\n",
        "print(mgr_1.email)\n",
        "mgr_1.print_emps()"
      ],
      "metadata": {
        "colab": {
          "base_uri": "https://localhost:8080/"
        },
        "id": "M3BN31Zfs4y7",
        "outputId": "caee680d-cbcf-4b61-e472-921993d24c85"
      },
      "execution_count": null,
      "outputs": [
        {
          "output_type": "stream",
          "name": "stdout",
          "text": [
            "Sue.Smith@company.com\n",
            "--> Corey Shafer\n",
            "--> Test User\n"
          ]
        }
      ]
    },
    {
      "cell_type": "code",
      "source": [
        "#Şimdi manager'in süpervizörlük yaptığı çalışan listesinden eleman çıkaralım\n",
        "class Employee:\n",
        "\n",
        "  raise_amt=1.04\n",
        "\n",
        "  def __init__(self, first,last,pay): \n",
        "    self.first=first \n",
        "    self.last=last\n",
        "    self.pay=pay\n",
        "    self.email=first +'.'+last+'@company.com'\n",
        "\n",
        "\n",
        "  def fullname(self): \n",
        "    return f\"{self.first} {self.last}\"\n",
        "\n",
        "  def apply_raise(self):\n",
        "    self.pay=int(self.pay*self.raise_amt)\n",
        "\n",
        "class Developer(Employee):  \n",
        "  raise_amt=1.10   \n",
        "\n",
        "  def __init__(self, first,last,pay,prog_lang): \n",
        "    super().__init__(first,last,pay)\n",
        "    self.prog_lang=prog_lang\n",
        "\n",
        "class Manager(Employee):\n",
        "    def __init__(self, first, last, pay, employees=None): \n",
        "        super().__init__(first, last, pay)\n",
        "        if employees is None:\n",
        "            self.employees = []\n",
        "        else:\n",
        "            self.employees = employees\n",
        "\n",
        "    def add_emp(self, emp):  \n",
        "        if emp not in self.employees:\n",
        "            self.employees.append(emp)\n",
        "\n",
        "    def remove_emp(self, emp):  \n",
        "        if emp in self.employees:\n",
        "            self.employees.remove(emp)\n",
        "    def print_emps(self):  \n",
        "        for emp in self.employees:\n",
        "            print('-->', emp.fullname())\n",
        "\n",
        "dev_1=Developer('Corey','Shafer',50000,'Python')  \n",
        "dev_2=Developer('Test','User',60000, 'Java') \n",
        "\n",
        "mgr_1=Manager('Sue','Smith',90000, [dev_1])\n",
        "\n",
        "mgr_1.add_emp(dev_2)\n",
        "mgr_1.remove_emp(dev_1) #eleman çıkarım metodu burada çagrıldı\n",
        "\n",
        "print(mgr_1.email)\n",
        "mgr_1.print_emps()"
      ],
      "metadata": {
        "colab": {
          "base_uri": "https://localhost:8080/"
        },
        "id": "yh2CqgFStR-O",
        "outputId": "f540fd11-6648-4826-d9e2-4ad01e26ee33"
      },
      "execution_count": null,
      "outputs": [
        {
          "output_type": "stream",
          "name": "stdout",
          "text": [
            "Sue.Smith@company.com\n",
            "--> Test User\n"
          ]
        }
      ]
    },
    {
      "cell_type": "code",
      "source": [
        "# Böylelikle Manager subclass için özel olan yöntemleri ekledik. Tüm bunları yaparken\n",
        "# Employee class'dan inheritance yaparak kodumuzu kısa ve anlaşılır halde yaptık\n",
        "\n",
        "# Şimdi isinstance ve issubclass built-in metotlarını anlamaya çalışalım\n",
        "# mgr_1 Managerin instanceı mı öğrenmek için isintance kullanabiliriz:\n",
        "\n",
        "class Employee:\n",
        "\n",
        "  raise_amt=1.04\n",
        "\n",
        "  def __init__(self, first,last,pay): \n",
        "    self.first=first \n",
        "    self.last=last\n",
        "    self.pay=pay\n",
        "    self.email=first +'.'+last+'@company.com'\n",
        "\n",
        "\n",
        "  def fullname(self): \n",
        "    return f\"{self.first} {self.last}\"\n",
        "\n",
        "  def apply_raise(self):\n",
        "    self.pay=int(self.pay*self.raise_amt)\n",
        "\n",
        "class Developer(Employee):  \n",
        "  raise_amt=1.10   \n",
        "\n",
        "  def __init__(self, first,last,pay,prog_lang): \n",
        "    super().__init__(first,last,pay)\n",
        "    self.prog_lang=prog_lang\n",
        "\n",
        "class Manager(Employee):\n",
        "    def __init__(self, first, last, pay, employees=None): \n",
        "        super().__init__(first, last, pay)\n",
        "        if employees is None:\n",
        "            self.employees = []\n",
        "        else:\n",
        "            self.employees = employees\n",
        "\n",
        "    def add_emp(self, emp):  \n",
        "        if emp not in self.employees:\n",
        "            self.employees.append(emp)\n",
        "\n",
        "    def remove_emp(self, emp):  \n",
        "        if emp in self.employees:\n",
        "            self.employees.remove(emp)\n",
        "    def print_emps(self):  \n",
        "        for emp in self.employees:\n",
        "            print('-->', emp.fullname())\n",
        "\n",
        "dev_1=Developer('Corey','Shafer',50000,'Python')  \n",
        "dev_2=Developer('Test','User',60000, 'Java') \n",
        "\n",
        "mgr_1=Manager('Sue','Smith',90000, [dev_1])\n",
        "print(isinstance(mgr_1,Manager))"
      ],
      "metadata": {
        "colab": {
          "base_uri": "https://localhost:8080/"
        },
        "id": "u6epwKZvtsmH",
        "outputId": "bfe92eac-0ac0-4435-8107-2e221ca18dc8"
      },
      "execution_count": null,
      "outputs": [
        {
          "output_type": "stream",
          "name": "stdout",
          "text": [
            "True\n"
          ]
        }
      ]
    },
    {
      "cell_type": "code",
      "source": [
        "#mgr_1 Employee classın instanceı mı?\n",
        "class Employee:\n",
        "\n",
        "  raise_amt=1.04\n",
        "\n",
        "  def __init__(self, first,last,pay): \n",
        "    self.first=first \n",
        "    self.last=last\n",
        "    self.pay=pay\n",
        "    self.email=first +'.'+last+'@company.com'\n",
        "\n",
        "\n",
        "  def fullname(self): \n",
        "    return f\"{self.first} {self.last}\"\n",
        "\n",
        "  def apply_raise(self):\n",
        "    self.pay=int(self.pay*self.raise_amt)\n",
        "\n",
        "class Developer(Employee):  \n",
        "  raise_amt=1.10   \n",
        "\n",
        "  def __init__(self, first,last,pay,prog_lang): \n",
        "    super().__init__(first,last,pay)\n",
        "    self.prog_lang=prog_lang\n",
        "\n",
        "class Manager(Employee):\n",
        "    def __init__(self, first, last, pay, employees=None): \n",
        "        super().__init__(first, last, pay)\n",
        "        if employees is None:\n",
        "            self.employees = []\n",
        "        else:\n",
        "            self.employees = employees\n",
        "\n",
        "    def add_emp(self, emp):  \n",
        "        if emp not in self.employees:\n",
        "            self.employees.append(emp)\n",
        "\n",
        "    def remove_emp(self, emp):  \n",
        "        if emp in self.employees:\n",
        "            self.employees.remove(emp)\n",
        "    def print_emps(self):  \n",
        "        for emp in self.employees:\n",
        "            print('-->', emp.fullname())\n",
        "\n",
        "dev_1=Developer('Corey','Shafer',50000,'Python')  \n",
        "dev_2=Developer('Test','User',60000, 'Java') \n",
        "\n",
        "mgr_1=Manager('Sue','Smith',90000, [dev_1])\n",
        "print(isinstance(mgr_1,Employee))"
      ],
      "metadata": {
        "colab": {
          "base_uri": "https://localhost:8080/"
        },
        "id": "59pt_o4wuijF",
        "outputId": "ac9d4418-526f-4fff-a25f-fe2ea5148f7f"
      },
      "execution_count": null,
      "outputs": [
        {
          "output_type": "stream",
          "name": "stdout",
          "text": [
            "True\n"
          ]
        }
      ]
    },
    {
      "cell_type": "code",
      "source": [
        "#mgr_1 Developer classın instanceı mı?\n",
        "class Employee:\n",
        "\n",
        "  raise_amt=1.04\n",
        "\n",
        "  def __init__(self, first,last,pay): \n",
        "    self.first=first \n",
        "    self.last=last\n",
        "    self.pay=pay\n",
        "    self.email=first +'.'+last+'@company.com'\n",
        "\n",
        "\n",
        "  def fullname(self): \n",
        "    return f\"{self.first} {self.last}\"\n",
        "\n",
        "  def apply_raise(self):\n",
        "    self.pay=int(self.pay*self.raise_amt)\n",
        "\n",
        "class Developer(Employee):  \n",
        "  raise_amt=1.10   \n",
        "\n",
        "  def __init__(self, first,last,pay,prog_lang): \n",
        "    super().__init__(first,last,pay)\n",
        "    self.prog_lang=prog_lang\n",
        "\n",
        "class Manager(Employee):\n",
        "    def __init__(self, first, last, pay, employees=None): \n",
        "        super().__init__(first, last, pay)\n",
        "        if employees is None:\n",
        "            self.employees = []\n",
        "        else:\n",
        "            self.employees = employees\n",
        "\n",
        "    def add_emp(self, emp):  \n",
        "        if emp not in self.employees:\n",
        "            self.employees.append(emp)\n",
        "\n",
        "    def remove_emp(self, emp):  \n",
        "        if emp in self.employees:\n",
        "            self.employees.remove(emp)\n",
        "    def print_emps(self):  \n",
        "        for emp in self.employees:\n",
        "            print('-->', emp.fullname())\n",
        "\n",
        "dev_1=Developer('Corey','Shafer',50000,'Python')  \n",
        "dev_2=Developer('Test','User',60000, 'Java') \n",
        "\n",
        "mgr_1=Manager('Sue','Smith',90000, [dev_1])\n",
        "print(isinstance(mgr_1,Developer))"
      ],
      "metadata": {
        "colab": {
          "base_uri": "https://localhost:8080/"
        },
        "id": "wSXaEdrou5AM",
        "outputId": "f407e282-208d-48a0-d9ae-fbbe9445fbc1"
      },
      "execution_count": null,
      "outputs": [
        {
          "output_type": "stream",
          "name": "stdout",
          "text": [
            "False\n"
          ]
        }
      ]
    },
    {
      "cell_type": "code",
      "source": [
        "#issubclass bize bir class'ın başka bir class'ın alt sınıfı olup olmadığını gösterir\n",
        "\n",
        "class Employee:\n",
        "\n",
        "  raise_amt=1.04\n",
        "\n",
        "  def __init__(self, first,last,pay): \n",
        "    self.first=first \n",
        "    self.last=last\n",
        "    self.pay=pay\n",
        "    self.email=first +'.'+last+'@company.com'\n",
        "\n",
        "\n",
        "  def fullname(self): \n",
        "    return f\"{self.first} {self.last}\"\n",
        "\n",
        "  def apply_raise(self):\n",
        "    self.pay=int(self.pay*self.raise_amt)\n",
        "\n",
        "class Developer(Employee):  \n",
        "  raise_amt=1.10   \n",
        "\n",
        "  def __init__(self, first,last,pay,prog_lang): \n",
        "    super().__init__(first,last,pay)\n",
        "    self.prog_lang=prog_lang\n",
        "\n",
        "class Manager(Employee):\n",
        "    def __init__(self, first, last, pay, employees=None): \n",
        "        super().__init__(first, last, pay)\n",
        "        if employees is None:\n",
        "            self.employees = []\n",
        "        else:\n",
        "            self.employees = employees\n",
        "\n",
        "    def add_emp(self, emp):  \n",
        "        if emp not in self.employees:\n",
        "            self.employees.append(emp)\n",
        "\n",
        "    def remove_emp(self, emp):  \n",
        "        if emp in self.employees:\n",
        "            self.employees.remove(emp)\n",
        "    def print_emps(self):  \n",
        "        for emp in self.employees:\n",
        "            print('-->', emp.fullname())\n",
        "\n",
        "dev_1=Developer('Corey','Shafer',50000,'Python')  \n",
        "dev_2=Developer('Test','User',60000, 'Java') \n",
        "\n",
        "mgr_1=Manager('Sue','Smith',90000, [dev_1])\n",
        "print(issubclass(Developer,Employee))"
      ],
      "metadata": {
        "colab": {
          "base_uri": "https://localhost:8080/"
        },
        "id": "Fffa7zmEvE5H",
        "outputId": "abf10514-c3c6-4b09-b771-dd562230a8d0"
      },
      "execution_count": null,
      "outputs": [
        {
          "output_type": "stream",
          "name": "stdout",
          "text": [
            "True\n"
          ]
        }
      ]
    },
    {
      "cell_type": "code",
      "source": [
        "#issubclass bize bir class'ın başka bir class'ın alt sınıfı olup olmadığını gösterir\n",
        "\n",
        "class Employee:\n",
        "\n",
        "  raise_amt=1.04\n",
        "\n",
        "  def __init__(self, first,last,pay): \n",
        "    self.first=first \n",
        "    self.last=last\n",
        "    self.pay=pay\n",
        "    self.email=first +'.'+last+'@company.com'\n",
        "\n",
        "\n",
        "  def fullname(self): \n",
        "    return f\"{self.first} {self.last}\"\n",
        "\n",
        "  def apply_raise(self):\n",
        "    self.pay=int(self.pay*self.raise_amt)\n",
        "\n",
        "class Developer(Employee):  \n",
        "  raise_amt=1.10   \n",
        "\n",
        "  def __init__(self, first,last,pay,prog_lang): \n",
        "    super().__init__(first,last,pay)\n",
        "    self.prog_lang=prog_lang\n",
        "\n",
        "class Manager(Employee):\n",
        "    def __init__(self, first, last, pay, employees=None): \n",
        "        super().__init__(first, last, pay)\n",
        "        if employees is None:\n",
        "            self.employees = []\n",
        "        else:\n",
        "            self.employees = employees\n",
        "\n",
        "    def add_emp(self, emp):  \n",
        "        if emp not in self.employees:\n",
        "            self.employees.append(emp)\n",
        "\n",
        "    def remove_emp(self, emp):  \n",
        "        if emp in self.employees:\n",
        "            self.employees.remove(emp)\n",
        "    def print_emps(self):  \n",
        "        for emp in self.employees:\n",
        "            print('-->', emp.fullname())\n",
        "\n",
        "dev_1=Developer('Corey','Shafer',50000,'Python')  \n",
        "dev_2=Developer('Test','User',60000, 'Java') \n",
        "\n",
        "mgr_1=Manager('Sue','Smith',90000, [dev_1])\n",
        "print(issubclass(Manager,Employee))"
      ],
      "metadata": {
        "colab": {
          "base_uri": "https://localhost:8080/"
        },
        "id": "acKeEuabvd6f",
        "outputId": "b1883915-6bcf-46e6-d04c-37e2f81ca2da"
      },
      "execution_count": null,
      "outputs": [
        {
          "output_type": "stream",
          "name": "stdout",
          "text": [
            "True\n"
          ]
        }
      ]
    },
    {
      "cell_type": "code",
      "source": [
        "#issubclass bize bir class'ın başka bir class'ın alt sınıfı olup olmadığını gösterir\n",
        "\n",
        "class Employee:\n",
        "\n",
        "  raise_amt=1.04\n",
        "\n",
        "  def __init__(self, first,last,pay): \n",
        "    self.first=first \n",
        "    self.last=last\n",
        "    self.pay=pay\n",
        "    self.email=first +'.'+last+'@company.com'\n",
        "\n",
        "\n",
        "  def fullname(self): \n",
        "    return f\"{self.first} {self.last}\"\n",
        "\n",
        "  def apply_raise(self):\n",
        "    self.pay=int(self.pay*self.raise_amt)\n",
        "\n",
        "class Developer(Employee):  \n",
        "  raise_amt=1.10   \n",
        "\n",
        "  def __init__(self, first,last,pay,prog_lang): \n",
        "    super().__init__(first,last,pay)\n",
        "    self.prog_lang=prog_lang\n",
        "\n",
        "class Manager(Employee):\n",
        "    def __init__(self, first, last, pay, employees=None): \n",
        "        super().__init__(first, last, pay)\n",
        "        if employees is None:\n",
        "            self.employees = []\n",
        "        else:\n",
        "            self.employees = employees\n",
        "\n",
        "    def add_emp(self, emp):  \n",
        "        if emp not in self.employees:\n",
        "            self.employees.append(emp)\n",
        "\n",
        "    def remove_emp(self, emp):  \n",
        "        if emp in self.employees:\n",
        "            self.employees.remove(emp)\n",
        "    def print_emps(self):  \n",
        "        for emp in self.employees:\n",
        "            print('-->', emp.fullname())\n",
        "\n",
        "dev_1=Developer('Corey','Shafer',50000,'Python')  \n",
        "dev_2=Developer('Test','User',60000, 'Java') \n",
        "\n",
        "mgr_1=Manager('Sue','Smith',90000, [dev_1])\n",
        "print(issubclass(Manager,Developer))"
      ],
      "metadata": {
        "colab": {
          "base_uri": "https://localhost:8080/"
        },
        "id": "PaFXH5tnvlBE",
        "outputId": "65c0b4df-df17-471b-dd47-019601b26501"
      },
      "execution_count": null,
      "outputs": [
        {
          "output_type": "stream",
          "name": "stdout",
          "text": [
            "False\n"
          ]
        }
      ]
    },
    {
      "cell_type": "code",
      "source": [
        "#Burada subclass ve inheritance konusunu bitirdik\n",
        "\n",
        "# Special (magic/dunder) metotlara geçiyoruz\n",
        "# https://www.youtube.com/watch?v=3ohzBxoFHAY\n",
        "\n",
        "# special metotlar ile operatör overloading (operatör aşırı yükleme) yapıyoruz:\n",
        "\n",
        "class Employee:\n",
        "\n",
        "    raise_amt = 1.04\n",
        "\n",
        "    def __init__(self, first, last, pay):\n",
        "        self.first = first\n",
        "        self.last = last\n",
        "        self.email = first + '.' + last + '@email.com'\n",
        "        self.pay = pay\n",
        "\n",
        "    def fullname(self):\n",
        "        return '{} {}'.format(self.first, self.last)\n",
        "\n",
        "    def apply_raise(self):\n",
        "        self.pay = int(self.pay * self.raise_amt)\n",
        "\n",
        "\n",
        "\n",
        "print(1 + 2)\n",
        "print('a'+'b')\n"
      ],
      "metadata": {
        "id": "vzaVBDcSvrWs",
        "colab": {
          "base_uri": "https://localhost:8080/"
        },
        "outputId": "d67b4811-1f69-4b4c-f5e6-0026f9f559ee"
      },
      "execution_count": null,
      "outputs": [
        {
          "output_type": "stream",
          "name": "stdout",
          "text": [
            "3\n",
            "ab\n"
          ]
        }
      ]
    },
    {
      "cell_type": "code",
      "source": [
        "# 1 ile 2'yi + operatörü ile işlem yapınca toplama işlemi yapıyor\n",
        "# aynı operatör ile a ve b karakterlerini + operatörü ile işlem yapınca uc uca birleştirme (concatenation) yapıyor\n",
        "# Yani çalıştığımız objenin türüne bağlı olarak + operatörü farklı davranıyor\n",
        "\n"
      ],
      "metadata": {
        "id": "6uk5Y-_0A_kb"
      },
      "execution_count": null,
      "outputs": []
    },
    {
      "cell_type": "code",
      "source": [
        "class Employee:\n",
        "\n",
        "    raise_amt = 1.04\n",
        "\n",
        "    def __init__(self, first, last, pay):\n",
        "        self.first = first\n",
        "        self.last = last\n",
        "        self.email = first + '.' + last + '@email.com'\n",
        "        self.pay = pay\n",
        "\n",
        "    def fullname(self):\n",
        "        return '{} {}'.format(self.first, self.last)\n",
        "\n",
        "    def apply_raise(self):\n",
        "        self.pay = int(self.pay * self.raise_amt)\n",
        "\n",
        "\n",
        "\n",
        "emp_1 = Employee('Corey', 'Schafer', 50000)\n",
        "emp_2 = Employee('Test', 'Employee', 60000)\n",
        "\n",
        "print(emp_1)"
      ],
      "metadata": {
        "colab": {
          "base_uri": "https://localhost:8080/"
        },
        "id": "7GbBsxbRBmOz",
        "outputId": "761bc150-e678-4dbf-9998-93ab902a9c3e"
      },
      "execution_count": null,
      "outputs": [
        {
          "output_type": "stream",
          "name": "stdout",
          "text": [
            "<__main__.Employee object at 0x7f3b7938cf10>\n"
          ]
        }
      ]
    },
    {
      "cell_type": "code",
      "source": [
        "# emp_1 objesini ekranda yazdırmak istediğimizde, bizim için çok da anlamlı olmayan bir çıktı ile karşılaşıyoruz\n",
        "# bu davranışı special metotlar ile değiştirebiliriz\n",
        "# Special metotlar ile bu gibi built-in davranışları değiştirebiliriz\n",
        "# Special metotlar her zaman çift alt çizgi ile başlar ve biter\n",
        "# Birçok kişi bu çift alt çizgilere \"dunder\" adını vermiştir\n",
        "# dunder init demek alt çizgilerle çevrelenmiş init demektir\n",
        "# dunder init aslında bir special metottur. Bu metodu geçtiğimiz derslerde görmüştük\n",
        "# dunder init class'lar ile çalışırken en yaygın kullanılan special metottur.\n",
        "# dunder init metodu Employee class'dan bir instance üretme sırasında dolaylı olarak çağrılan bir metottur\n",
        "\n",
        "# şimdi diğer yaygın special metotlara bakalım\n",
        "# Bunlar dunder repr ve dunder str'dır.\n",
        "# Bu metotlar repr veya str metodları çağrıldığında dolaylı olarak çağrılan metotlardır\n",
        "# Employee nesnesinin ekranda yazdırmak istediğimizde anlamsız bir yazı çıkmasını engellemek için repr metodunu kullanacağız\n",
        "\n",
        "# Repr nesnenin açık bir şekilde temsil (represent) edildiği bir metottur. \n",
        "# Repr metodu hata ayıklama ve kayıt işlemleri için kullanılır\n",
        "\n",
        "# Str ise nesnenin okunabilir şekilde temsil edildiği metottur. Son kullanıcı için gösterim amaçlı kullanılan bir metottur\n",
        "\n",
        "# Şimdi kod yazalım\n",
        "# Öncelikle en azından dunder repr olmalıdır\n",
        "\n",
        "class Employee:\n",
        "\n",
        "    raise_amt = 1.04\n",
        "\n",
        "    def __init__(self, first, last, pay):\n",
        "        self.first = first\n",
        "        self.last = last\n",
        "        self.email = first + '.' + last + '@email.com'\n",
        "        self.pay = pay\n",
        "\n",
        "    def fullname(self):\n",
        "        return '{} {}'.format(self.first, self.last)\n",
        "\n",
        "    def apply_raise(self):\n",
        "        self.pay = int(self.pay * self.raise_amt)\n",
        "\n",
        "    def __repr__(self):\n",
        "        return \"Employee('{}', '{}', {})\".format(self.first, self.last, self.pay)\n",
        "\n",
        "    # def __str__(self):\n",
        "    #     return '{} - {}'.format(self.fullname(), self.email)\n",
        "\n",
        "\n",
        "\n",
        "emp_1 = Employee('Corey', 'Schafer', 50000)\n",
        "emp_2 = Employee('Test', 'Employee', 60000)\n",
        "\n",
        "# print(emp_1 + emp_2)\n",
        "\n",
        "print(emp_1) \n"
      ],
      "metadata": {
        "colab": {
          "base_uri": "https://localhost:8080/"
        },
        "id": "9C26Ic3hBs7i",
        "outputId": "f6779d9d-cbab-4319-e92e-4ba8ab7591b1"
      },
      "execution_count": null,
      "outputs": [
        {
          "output_type": "stream",
          "name": "stdout",
          "text": [
            "Employee('Corey', 'Schafer', 50000)\n"
          ]
        }
      ]
    },
    {
      "cell_type": "code",
      "source": [
        "# Yukarıdaki hücre çıktısında artık emp_1 objesinin anlaşılır bir şekilde ekranda yazıldığına dikkat edin\n",
        "\n",
        "# şimdi str special metodu kullanalım"
      ],
      "metadata": {
        "id": "tAR1X5riFczk"
      },
      "execution_count": null,
      "outputs": []
    },
    {
      "cell_type": "code",
      "source": [
        "class Employee:\n",
        "\n",
        "    raise_amt = 1.04\n",
        "\n",
        "    def __init__(self, first, last, pay):\n",
        "        self.first = first\n",
        "        self.last = last\n",
        "        self.email = first + '.' + last + '@email.com'\n",
        "        self.pay = pay\n",
        "\n",
        "    def fullname(self):\n",
        "        return '{} {}'.format(self.first, self.last)\n",
        "\n",
        "    def apply_raise(self):\n",
        "        self.pay = int(self.pay * self.raise_amt)\n",
        "\n",
        "    def __repr__(self):\n",
        "        return \"Employee('{}', '{}', {})\".format(self.first, self.last, self.pay)\n",
        "\n",
        "    def __str__(self):\n",
        "        return '{} - {}'.format(self.fullname(), self.email)\n",
        "\n",
        "\n",
        "emp_1 = Employee('Corey', 'Schafer', 50000)\n",
        "emp_2 = Employee('Test', 'Employee', 60000)\n",
        "\n",
        "print(emp_1)"
      ],
      "metadata": {
        "colab": {
          "base_uri": "https://localhost:8080/"
        },
        "id": "BUVIIo1EFRUM",
        "outputId": "741c3e10-eca6-40a8-d4ff-315eaf9cc106"
      },
      "execution_count": null,
      "outputs": [
        {
          "output_type": "stream",
          "name": "stdout",
          "text": [
            "Corey Schafer - Corey.Schafer@email.com\n"
          ]
        }
      ]
    },
    {
      "cell_type": "code",
      "source": [
        "class Employee:\n",
        "\n",
        "    raise_amt = 1.04\n",
        "\n",
        "    def __init__(self, first, last, pay):\n",
        "        self.first = first\n",
        "        self.last = last\n",
        "        self.email = first + '.' + last + '@email.com'\n",
        "        self.pay = pay\n",
        "\n",
        "    def fullname(self):\n",
        "        return '{} {}'.format(self.first, self.last)\n",
        "\n",
        "    def apply_raise(self):\n",
        "        self.pay = int(self.pay * self.raise_amt)\n",
        "\n",
        "    def __repr__(self):\n",
        "        return \"Employee('{}', '{}', {})\".format(self.first, self.last, self.pay)\n",
        "\n",
        "    def __str__(self):\n",
        "        return '{} - {}'.format(self.fullname(), self.email)\n",
        "\n",
        "\n",
        "emp_1 = Employee('Corey', 'Schafer', 50000)\n",
        "emp_2 = Employee('Test', 'Employee', 60000)\n",
        "\n",
        "# print(emp_1)\n",
        "print(repr(emp_1))\n",
        "print(str(emp_1))"
      ],
      "metadata": {
        "colab": {
          "base_uri": "https://localhost:8080/"
        },
        "id": "TSiK_bBBGd24",
        "outputId": "4778bd26-6dd4-4552-f6fa-6454c45df0cb"
      },
      "execution_count": null,
      "outputs": [
        {
          "output_type": "stream",
          "name": "stdout",
          "text": [
            "Employee('Corey', 'Schafer', 50000)\n",
            "Corey Schafer - Corey.Schafer@email.com\n"
          ]
        }
      ]
    },
    {
      "cell_type": "code",
      "source": [
        "class Employee:\n",
        "\n",
        "    raise_amt = 1.04\n",
        "\n",
        "    def __init__(self, first, last, pay):\n",
        "        self.first = first\n",
        "        self.last = last\n",
        "        self.email = first + '.' + last + '@email.com'\n",
        "        self.pay = pay\n",
        "\n",
        "    def fullname(self):\n",
        "        return '{} {}'.format(self.first, self.last)\n",
        "\n",
        "    def apply_raise(self):\n",
        "        self.pay = int(self.pay * self.raise_amt)\n",
        "\n",
        "    def __repr__(self):\n",
        "        return \"Employee('{}', '{}', {})\".format(self.first, self.last, self.pay)\n",
        "\n",
        "    def __str__(self):\n",
        "        return '{} - {}'.format(self.fullname(), self.email)\n",
        "\n",
        "\n",
        "emp_1 = Employee('Corey', 'Schafer', 50000)\n",
        "emp_2 = Employee('Test', 'Employee', 60000)\n",
        "\n",
        "# print(emp_1)\n",
        "print(emp_1.__repr__())\n",
        "print(emp_1.__str__())"
      ],
      "metadata": {
        "colab": {
          "base_uri": "https://localhost:8080/"
        },
        "id": "oixEajfBGud8",
        "outputId": "699502e8-8048-4035-fe5c-55ca8976b272"
      },
      "execution_count": null,
      "outputs": [
        {
          "output_type": "stream",
          "name": "stdout",
          "text": [
            "Employee('Corey', 'Schafer', 50000)\n",
            "Corey Schafer - Corey.Schafer@email.com\n"
          ]
        }
      ]
    },
    {
      "cell_type": "code",
      "source": [
        "# repr ve str special metotları bizim nesnelerimizin özelliklerinin ekranda nasıl yazıldığını belirlememizi sağlar\n",
        "# init, repr ve str en sık kullanılan special metotlardır\n"
      ],
      "metadata": {
        "id": "_n0koxdqHEWT"
      },
      "execution_count": null,
      "outputs": []
    },
    {
      "cell_type": "code",
      "source": [
        "# başka special metotlara bakalım: dunder add metodu\n",
        "print(1+2)"
      ],
      "metadata": {
        "colab": {
          "base_uri": "https://localhost:8080/"
        },
        "id": "qXoFtDc9He8E",
        "outputId": "dcffa257-c7d5-43e0-c635-ae1460a535a1"
      },
      "execution_count": null,
      "outputs": [
        {
          "output_type": "stream",
          "name": "stdout",
          "text": [
            "3\n"
          ]
        }
      ]
    },
    {
      "cell_type": "code",
      "source": [
        "print(1+2)\n",
        "print(int.__add__(1,2))"
      ],
      "metadata": {
        "colab": {
          "base_uri": "https://localhost:8080/"
        },
        "id": "pWN-_ViiHt2-",
        "outputId": "72a234a5-3148-4fbe-df24-2be258da5a86"
      },
      "execution_count": null,
      "outputs": [
        {
          "output_type": "stream",
          "name": "stdout",
          "text": [
            "3\n",
            "3\n"
          ]
        }
      ]
    },
    {
      "cell_type": "code",
      "source": [
        "#metinler kendi dunder add metotlarını kullanırlar\n",
        "print(str.__add__('a','b'))"
      ],
      "metadata": {
        "colab": {
          "base_uri": "https://localhost:8080/"
        },
        "id": "LdzpGKS_H13e",
        "outputId": "ce4fabca-57c2-4377-8762-e9fb55db2135"
      },
      "execution_count": null,
      "outputs": [
        {
          "output_type": "stream",
          "name": "stdout",
          "text": [
            "ab\n"
          ]
        }
      ]
    },
    {
      "cell_type": "code",
      "source": [
        "# Employee sınıfımızda iki tane çalışan nesnemizi toplayarak maaş toplamını hesaplamak istiyoruz\n",
        "# Bu örneği gerçek hayatta pek uygulamayız ancak burada örnek olması için yapıyoruz\n",
        "\n",
        "class Employee:\n",
        "\n",
        "    raise_amt = 1.04\n",
        "\n",
        "    def __init__(self, first, last, pay):\n",
        "        self.first = first\n",
        "        self.last = last\n",
        "        self.email = first + '.' + last + '@email.com'\n",
        "        self.pay = pay\n",
        "\n",
        "    def fullname(self):\n",
        "        return '{} {}'.format(self.first, self.last)\n",
        "\n",
        "    def apply_raise(self):\n",
        "        self.pay = int(self.pay * self.raise_amt)\n",
        "\n",
        "    def __repr__(self):\n",
        "        return \"Employee('{}', '{}', {})\".format(self.first, self.last, self.pay)\n",
        "\n",
        "    def __str__(self):\n",
        "        return '{} - {}'.format(self.fullname(), self.email)\n",
        "\n",
        "    def __add__(self,other): # dunder add yöntemi burada\n",
        "        return self.pay + other.pay\n",
        "\n",
        "\n",
        "emp_1 = Employee('Corey', 'Schafer', 50000)\n",
        "emp_2 = Employee('Test', 'Employee', 60000)\n",
        "\n",
        "print(emp_1+emp_2)   #fonksiyonu buradan çağırıyoruz\n"
      ],
      "metadata": {
        "id": "5yXFBBERIDm-",
        "colab": {
          "base_uri": "https://localhost:8080/"
        },
        "outputId": "dc9f4591-ba6e-443f-abad-0044909acb3a"
      },
      "execution_count": 1,
      "outputs": [
        {
          "output_type": "stream",
          "name": "stdout",
          "text": [
            "110000\n"
          ]
        }
      ]
    },
    {
      "cell_type": "code",
      "source": [
        "# çalışanların maaşlarını toplamayı başardık\n",
        "# eğer dunder add metodumuz olmasaydı şu hatayı alırdık\n",
        "\n",
        "class Employee:\n",
        "\n",
        "    raise_amt = 1.04\n",
        "\n",
        "    def __init__(self, first, last, pay):\n",
        "        self.first = first\n",
        "        self.last = last\n",
        "        self.email = first + '.' + last + '@email.com'\n",
        "        self.pay = pay\n",
        "\n",
        "    def fullname(self):\n",
        "        return '{} {}'.format(self.first, self.last)\n",
        "\n",
        "    def apply_raise(self):\n",
        "        self.pay = int(self.pay * self.raise_amt)\n",
        "\n",
        "    def __repr__(self):\n",
        "        return \"Employee('{}', '{}', {})\".format(self.first, self.last, self.pay)\n",
        "\n",
        "    def __str__(self):\n",
        "        return '{} - {}'.format(self.fullname(), self.email)\n",
        "\n",
        "    # def __add__(self,other): # dunder add yöntemi burada\n",
        "    #     return self.pay + other.pay\n",
        "\n",
        "\n",
        "emp_1 = Employee('Corey', 'Schafer', 50000)\n",
        "emp_2 = Employee('Test', 'Employee', 60000)\n",
        "\n",
        "print(emp_1+emp_2)   #fonksiyonu buradan çağırıyoruz"
      ],
      "metadata": {
        "colab": {
          "base_uri": "https://localhost:8080/",
          "height": 200
        },
        "id": "ruq_P8FPypaM",
        "outputId": "16520777-1058-4306-eb92-b03657c0246a"
      },
      "execution_count": 2,
      "outputs": [
        {
          "output_type": "error",
          "ename": "TypeError",
          "evalue": "ignored",
          "traceback": [
            "\u001b[0;31m---------------------------------------------------------------------------\u001b[0m",
            "\u001b[0;31mTypeError\u001b[0m                                 Traceback (most recent call last)",
            "\u001b[0;32m<ipython-input-2-249996d271d2>\u001b[0m in \u001b[0;36m<module>\u001b[0;34m()\u001b[0m\n\u001b[1;32m     31\u001b[0m \u001b[0memp_2\u001b[0m \u001b[0;34m=\u001b[0m \u001b[0mEmployee\u001b[0m\u001b[0;34m(\u001b[0m\u001b[0;34m'Test'\u001b[0m\u001b[0;34m,\u001b[0m \u001b[0;34m'Employee'\u001b[0m\u001b[0;34m,\u001b[0m \u001b[0;36m60000\u001b[0m\u001b[0;34m)\u001b[0m\u001b[0;34m\u001b[0m\u001b[0;34m\u001b[0m\u001b[0m\n\u001b[1;32m     32\u001b[0m \u001b[0;34m\u001b[0m\u001b[0m\n\u001b[0;32m---> 33\u001b[0;31m \u001b[0mprint\u001b[0m\u001b[0;34m(\u001b[0m\u001b[0memp_1\u001b[0m\u001b[0;34m+\u001b[0m\u001b[0memp_2\u001b[0m\u001b[0;34m)\u001b[0m   \u001b[0;31m#fonksiyonu buradan çağırıyoruz\u001b[0m\u001b[0;34m\u001b[0m\u001b[0;34m\u001b[0m\u001b[0m\n\u001b[0m",
            "\u001b[0;31mTypeError\u001b[0m: unsupported operand type(s) for +: 'Employee' and 'Employee'"
          ]
        }
      ]
    },
    {
      "cell_type": "code",
      "source": [
        "# dunder add metodu ile iki çalışanın nasıl toplanacağını tanımlamış oluyoruz\n",
        "\n",
        "# şimdi başka bir örnek yapalım\n",
        "\n",
        "print(len('test'))"
      ],
      "metadata": {
        "colab": {
          "base_uri": "https://localhost:8080/"
        },
        "id": "Jl5EC7zOzBYF",
        "outputId": "295a55b1-4223-4bc6-f66b-596d9659c61a"
      },
      "execution_count": 3,
      "outputs": [
        {
          "output_type": "stream",
          "name": "stdout",
          "text": [
            "4\n"
          ]
        }
      ]
    },
    {
      "cell_type": "code",
      "source": [
        "#aslında burada arka planda çalışan metot şu\n",
        "\n",
        "print('test'.__len__())"
      ],
      "metadata": {
        "colab": {
          "base_uri": "https://localhost:8080/"
        },
        "id": "lOF0acXKzzxr",
        "outputId": "eb480181-3429-43e5-880e-18d3f6375cfd"
      },
      "execution_count": 4,
      "outputs": [
        {
          "output_type": "stream",
          "name": "stdout",
          "text": [
            "4\n"
          ]
        }
      ]
    },
    {
      "cell_type": "code",
      "source": [
        "# çalışan instance için len special metodu tanımlayalım. \n",
        "# yani çalışanın adının ve soyadının uzunluğunu hesaplayan special metot tanımlayalım\n",
        "\n",
        "class Employee:\n",
        "\n",
        "    raise_amt = 1.04\n",
        "\n",
        "    def __init__(self, first, last, pay):\n",
        "        self.first = first\n",
        "        self.last = last\n",
        "        self.email = first + '.' + last + '@email.com'\n",
        "        self.pay = pay\n",
        "\n",
        "    def fullname(self):\n",
        "        return '{} {}'.format(self.first, self.last)\n",
        "\n",
        "    def apply_raise(self):\n",
        "        self.pay = int(self.pay * self.raise_amt)\n",
        "\n",
        "    def __repr__(self):\n",
        "        return \"Employee('{}', '{}', {})\".format(self.first, self.last, self.pay)\n",
        "\n",
        "    def __str__(self):\n",
        "        return '{} - {}'.format(self.fullname(), self.email)\n",
        "\n",
        "    def __add__(self,other): \n",
        "        return self.pay + other.pay\n",
        "\n",
        "    def __len__(self):  #dunder len metodu \n",
        "        return len(self.fullname()) \n",
        "\n",
        "\n",
        "emp_1 = Employee('Corey', 'Schafer', 50000)\n",
        "emp_2 = Employee('Test', 'Employee', 60000)\n",
        "\n",
        "print(len(emp_1))   #fonksiyonu buradan çağırıyoruz"
      ],
      "metadata": {
        "colab": {
          "base_uri": "https://localhost:8080/"
        },
        "id": "CJ0s8ekf0Cys",
        "outputId": "043cdc0c-9e16-4bb0-d97d-04aa405338d1"
      },
      "execution_count": 6,
      "outputs": [
        {
          "output_type": "stream",
          "name": "stdout",
          "text": [
            "13\n"
          ]
        }
      ]
    },
    {
      "cell_type": "code",
      "source": [
        "# bunun gibi daha birçok special metot yazabiliriz. python.org adresinden special metot listesine ulaşabilirsiniz\n",
        "# datetime kütüphanesi içinde dunder add special metoduna bakarsanız aynı tür değişkenlerin toplanmasını sağlıyor\n",
        "# datetime kütüphanesi içinde dunder repr ve dunder str special metotlarını inceleyin\n",
        "\n",
        "#special metotlar burada bitti.\n",
        "#haftaya Property Decorators - Getters, Setters, ve Deleters konusunu işleyeceğiz. Hazırlıklı gelin"
      ],
      "metadata": {
        "id": "NG5huEae2bV7"
      },
      "execution_count": null,
      "outputs": []
    }
  ]
}