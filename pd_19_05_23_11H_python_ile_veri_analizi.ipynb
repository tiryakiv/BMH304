{
  "nbformat": 4,
  "nbformat_minor": 0,
  "metadata": {
    "colab": {
      "provenance": []
    },
    "kernelspec": {
      "name": "python3",
      "display_name": "Python 3"
    },
    "language_info": {
      "name": "python"
    }
  },
  "cells": [
    {
      "cell_type": "code",
      "execution_count": 1,
      "metadata": {
        "colab": {
          "base_uri": "https://localhost:8080/",
          "height": 0
        },
        "id": "7-wggNLcKjiw",
        "outputId": "a583c66d-407a-4131-e1f9-1a364e45647a"
      },
      "outputs": [
        {
          "output_type": "stream",
          "name": "stdout",
          "text": [
            "Python 3.10.11\n"
          ]
        }
      ],
      "source": [
        "! python --version"
      ]
    },
    {
      "cell_type": "code",
      "source": [
        "import numpy as np\n",
        "import matplotlib.pyplot as plt\n",
        "import pandas as pd\n",
        "import seaborn as sns\n",
        "import statsmodels as sm"
      ],
      "metadata": {
        "id": "r-6vLb9-QyHN"
      },
      "execution_count": 2,
      "outputs": []
    },
    {
      "cell_type": "code",
      "source": [
        "from datetime import date\n",
        "\n",
        "today = date.today()\n",
        "print(\"Today's date:\", today)"
      ],
      "metadata": {
        "id": "jbtY3TnzVwp7",
        "colab": {
          "base_uri": "https://localhost:8080/",
          "height": 0
        },
        "outputId": "91b799fe-9215-4c08-b222-b62683e03644"
      },
      "execution_count": 12,
      "outputs": [
        {
          "output_type": "stream",
          "name": "stdout",
          "text": [
            "Today's date: 2023-05-20\n"
          ]
        }
      ]
    },
    {
      "cell_type": "code",
      "source": [
        "from datetime import date\n",
        "\n",
        "today = date.today()\n",
        "\n",
        "# dd/mm/YY\n",
        "d1 = today.strftime(\"%d/%m/%Y\")\n",
        "print(\"d1 =\", d1)\n",
        "\n",
        "# Textual month, day and year\t\n",
        "d2 = today.strftime(\"%B %d, %Y\")\n",
        "print(\"d2 =\", d2)\n",
        "\n",
        "# mm/dd/y\n",
        "d3 = today.strftime(\"%m/%d/%y\")\n",
        "print(\"d3 =\", d3)\n",
        "\n",
        "# Month abbreviation, day and year\t\n",
        "d4 = today.strftime(\"%b-%d-%Y\")\n",
        "print(\"d4 =\", d4)"
      ],
      "metadata": {
        "colab": {
          "base_uri": "https://localhost:8080/",
          "height": 0
        },
        "id": "ydO3qC8mSfPd",
        "outputId": "6cb836a4-1dd1-40c4-9d64-77ae482386f5"
      },
      "execution_count": 13,
      "outputs": [
        {
          "output_type": "stream",
          "name": "stdout",
          "text": [
            "d1 = 20/05/2023\n",
            "d2 = May 20, 2023\n",
            "d3 = 05/20/23\n",
            "d4 = May-20-2023\n"
          ]
        }
      ]
    },
    {
      "cell_type": "code",
      "source": [
        "from datetime import datetime\n",
        "\n",
        "# datetime object containing current date and time\n",
        "now = datetime.now()\n",
        " \n",
        "print(\"now =\", now)\n",
        "\n",
        "# dd/mm/YY H:M:S\n",
        "dt_string = now.strftime(\"%d/%m/%Y %H:%M:%S\")\n",
        "print(\"date and time =\", dt_string)"
      ],
      "metadata": {
        "colab": {
          "base_uri": "https://localhost:8080/",
          "height": 0
        },
        "id": "l9aZ0WRdT7Sb",
        "outputId": "06b64317-ba66-4796-8974-29f48e4f1159"
      },
      "execution_count": 14,
      "outputs": [
        {
          "output_type": "stream",
          "name": "stdout",
          "text": [
            "now = 2023-05-20 11:49:37.275932\n",
            "date and time = 20/05/2023 11:49:37\n"
          ]
        }
      ]
    },
    {
      "cell_type": "code",
      "source": [
        "from datetime import MAXYEAR\n",
        "print(MAXYEAR)\n"
      ],
      "metadata": {
        "colab": {
          "base_uri": "https://localhost:8080/",
          "height": 0
        },
        "id": "2jwiddxQUDzg",
        "outputId": "a9dee4e5-c5d9-4b5a-d3e4-06602fe11d34"
      },
      "execution_count": 15,
      "outputs": [
        {
          "output_type": "stream",
          "name": "stdout",
          "text": [
            "9999\n"
          ]
        }
      ]
    },
    {
      "cell_type": "code",
      "source": [
        "from datetime import MINYEAR\n",
        "print(MINYEAR)\n"
      ],
      "metadata": {
        "colab": {
          "base_uri": "https://localhost:8080/",
          "height": 0
        },
        "id": "FLYMq54cUnvk",
        "outputId": "1e3171e5-2fec-4db3-edf1-c85e8f7adf33"
      },
      "execution_count": 22,
      "outputs": [
        {
          "output_type": "stream",
          "name": "stdout",
          "text": [
            "1\n"
          ]
        }
      ]
    },
    {
      "cell_type": "code",
      "source": [
        "# https://www.geeksforgeeks.org/python-datetime-timedelta-function/\n",
        "\n",
        "# Timedelta function demonstration\n",
        "from datetime import datetime, timedelta\n",
        " \n",
        " \n",
        "# Using current time\n",
        "ini_time_for_now = datetime.now()\n",
        " \n",
        "# printing initial_date\n",
        "print ('initial_date:', str(ini_time_for_now))\n",
        " \n",
        "# Calculating past dates\n",
        "# for two years\n",
        "past_date_before_2yrs = ini_time_for_now - timedelta(days = 730)\n",
        " \n",
        "# for two hours\n",
        "past_date_before_2hours = ini_time_for_now - timedelta(hours = 2)\n",
        " \n",
        " \n",
        "# printing calculated past_dates\n",
        "print('past_date_before_2yrs:', str(past_date_before_2yrs))\n",
        "print('past_date_before_2hours:', str(past_date_before_2hours))"
      ],
      "metadata": {
        "colab": {
          "base_uri": "https://localhost:8080/",
          "height": 0
        },
        "id": "zQj_Ro-yZZ_2",
        "outputId": "5aaa4d37-f970-4f8d-a284-b3a03aa476af"
      },
      "execution_count": 16,
      "outputs": [
        {
          "output_type": "stream",
          "name": "stdout",
          "text": [
            "initial_date: 2023-05-20 11:52:14.409165\n",
            "past_date_before_2yrs: 2021-05-20 11:52:14.409165\n",
            "past_date_before_2hours: 2023-05-20 09:52:14.409165\n"
          ]
        }
      ]
    },
    {
      "cell_type": "code",
      "source": [
        "# importing datetime object\n",
        "import datetime\n",
        " \n",
        "# initialising datetime object\n",
        "obj = datetime.datetime(2001, 12, 9, 12, 11, 23)\n",
        " \n",
        "# Hours\n",
        "print(obj.hour)\n",
        " \n",
        "# Minutes\n",
        "print(obj.minute)\n",
        " \n",
        "# Seconds\n",
        "print(obj.second)"
      ],
      "metadata": {
        "colab": {
          "base_uri": "https://localhost:8080/",
          "height": 0
        },
        "id": "geYWGtAwhh3R",
        "outputId": "2953f485-0b0c-4993-bcb6-1d24f7a2aee5"
      },
      "execution_count": 2,
      "outputs": [
        {
          "output_type": "stream",
          "name": "stdout",
          "text": [
            "12\n",
            "11\n",
            "23\n"
          ]
        }
      ]
    },
    {
      "cell_type": "code",
      "source": [
        "# https://www.programiz.com/python-programming/datetime\n",
        "from datetime import timedelta\n",
        "\n",
        "t = timedelta(days = 5, hours = 1, seconds = 33, microseconds = 233423)\n",
        "print(\"Total seconds =\", t.total_seconds())"
      ],
      "metadata": {
        "colab": {
          "base_uri": "https://localhost:8080/",
          "height": 0
        },
        "id": "2BG0XgIHeKuX",
        "outputId": "35aee999-ff64-4827-8b47-98da0d5779be"
      },
      "execution_count": 4,
      "outputs": [
        {
          "output_type": "stream",
          "name": "stdout",
          "text": [
            "Total seconds = 435633.233423\n"
          ]
        }
      ]
    },
    {
      "cell_type": "code",
      "source": [
        "# importing datetime and pytz\n",
        "import datetime\n",
        "import pytz\n",
        " \n",
        "# defining the object\n",
        "obj = datetime.datetime(2001, 11, 15, 1, 20, 25)\n",
        " \n",
        "# defining the timezone\n",
        "tz = pytz.timezone('Europe/Istanbul')\n",
        " \n",
        "# localising the datetime object\n",
        "# to the timezone\n",
        "aware_obj = tz.localize(obj)\n",
        " \n",
        "# checking timezone information\n",
        "print(aware_obj.tzinfo)"
      ],
      "metadata": {
        "colab": {
          "base_uri": "https://localhost:8080/",
          "height": 0
        },
        "id": "n_OBegjydOCc",
        "outputId": "5eb3ee2d-6bea-4907-eed8-edfb494f7b26"
      },
      "execution_count": 17,
      "outputs": [
        {
          "output_type": "stream",
          "name": "stdout",
          "text": [
            "Europe/Istanbul\n"
          ]
        }
      ]
    },
    {
      "cell_type": "code",
      "source": [
        "b=[1,2,3]\n",
        "b?\n"
      ],
      "metadata": {
        "id": "FyOdnUUXdqff"
      },
      "execution_count": 18,
      "outputs": []
    },
    {
      "cell_type": "code",
      "source": [
        "def add_numbers(a, b):\n",
        "  \"\"\"\n",
        "  Add two numbers together\n",
        "  Returns\n",
        "  -------\n",
        "  the_sum : type of arguments\n",
        "  \"\"\"\n",
        "  return a + b"
      ],
      "metadata": {
        "id": "oNP6R3oBfBuo"
      },
      "execution_count": 11,
      "outputs": []
    },
    {
      "cell_type": "code",
      "source": [
        "add_numbers?"
      ],
      "metadata": {
        "id": "upD5AYIcftk4"
      },
      "execution_count": 3,
      "outputs": []
    },
    {
      "cell_type": "code",
      "source": [
        "print?"
      ],
      "metadata": {
        "id": "r_6Y4JMECVFY"
      },
      "execution_count": 4,
      "outputs": []
    },
    {
      "cell_type": "code",
      "source": [
        "add_numbers??"
      ],
      "metadata": {
        "id": "wudGri3Lfbez"
      },
      "execution_count": 12,
      "outputs": []
    },
    {
      "cell_type": "code",
      "source": [
        "#? başka bir kullanımı:\n",
        "import numpy as np\n",
        "np.*load*?"
      ],
      "metadata": {
        "id": "wcnZh4lbfioq"
      },
      "execution_count": 13,
      "outputs": []
    },
    {
      "cell_type": "code",
      "source": [
        "def f(x, y, z):\n",
        "  return (x + y) / z\n",
        "a = 5\n",
        "b = 6\n",
        "c = 7.5\n",
        "result = f(a, b, c)"
      ],
      "metadata": {
        "id": "jDc5P5EUf9Gf"
      },
      "execution_count": 8,
      "outputs": []
    },
    {
      "cell_type": "code",
      "source": [
        "#!pip install \n",
        "from google.colab import drive\n",
        "\n",
        "drive.mount('/content/')\n",
        "%run ipython_script_test.py"
      ],
      "metadata": {
        "colab": {
          "base_uri": "https://localhost:8080/",
          "height": 381
        },
        "id": "VRti_1GfBETM",
        "outputId": "23346fcd-0fc4-463b-e34f-8e8a8ea49262"
      },
      "execution_count": 18,
      "outputs": [
        {
          "output_type": "error",
          "ename": "ValueError",
          "evalue": "ignored",
          "traceback": [
            "\u001b[0;31m---------------------------------------------------------------------------\u001b[0m",
            "\u001b[0;31mValueError\u001b[0m                                Traceback (most recent call last)",
            "\u001b[0;32m<ipython-input-18-743569dd87a7>\u001b[0m in \u001b[0;36m<cell line: 4>\u001b[0;34m()\u001b[0m\n\u001b[1;32m      2\u001b[0m \u001b[0;32mfrom\u001b[0m \u001b[0mgoogle\u001b[0m\u001b[0;34m.\u001b[0m\u001b[0mcolab\u001b[0m \u001b[0;32mimport\u001b[0m \u001b[0mdrive\u001b[0m\u001b[0;34m\u001b[0m\u001b[0;34m\u001b[0m\u001b[0m\n\u001b[1;32m      3\u001b[0m \u001b[0;34m\u001b[0m\u001b[0m\n\u001b[0;32m----> 4\u001b[0;31m \u001b[0mdrive\u001b[0m\u001b[0;34m.\u001b[0m\u001b[0mmount\u001b[0m\u001b[0;34m(\u001b[0m\u001b[0;34m'/content/'\u001b[0m\u001b[0;34m)\u001b[0m\u001b[0;34m\u001b[0m\u001b[0;34m\u001b[0m\u001b[0m\n\u001b[0m\u001b[1;32m      5\u001b[0m \u001b[0mget_ipython\u001b[0m\u001b[0;34m(\u001b[0m\u001b[0;34m)\u001b[0m\u001b[0;34m.\u001b[0m\u001b[0mrun_line_magic\u001b[0m\u001b[0;34m(\u001b[0m\u001b[0;34m'run'\u001b[0m\u001b[0;34m,\u001b[0m \u001b[0;34m'ipython_script_test.py'\u001b[0m\u001b[0;34m)\u001b[0m\u001b[0;34m\u001b[0m\u001b[0;34m\u001b[0m\u001b[0m\n",
            "\u001b[0;32m/usr/local/lib/python3.10/dist-packages/google/colab/drive.py\u001b[0m in \u001b[0;36mmount\u001b[0;34m(mountpoint, force_remount, timeout_ms, readonly)\u001b[0m\n\u001b[1;32m    101\u001b[0m \u001b[0;32mdef\u001b[0m \u001b[0mmount\u001b[0m\u001b[0;34m(\u001b[0m\u001b[0mmountpoint\u001b[0m\u001b[0;34m,\u001b[0m \u001b[0mforce_remount\u001b[0m\u001b[0;34m=\u001b[0m\u001b[0;32mFalse\u001b[0m\u001b[0;34m,\u001b[0m \u001b[0mtimeout_ms\u001b[0m\u001b[0;34m=\u001b[0m\u001b[0;36m120000\u001b[0m\u001b[0;34m,\u001b[0m \u001b[0mreadonly\u001b[0m\u001b[0;34m=\u001b[0m\u001b[0;32mFalse\u001b[0m\u001b[0;34m)\u001b[0m\u001b[0;34m:\u001b[0m\u001b[0;34m\u001b[0m\u001b[0;34m\u001b[0m\u001b[0m\n\u001b[1;32m    102\u001b[0m   \u001b[0;34m\"\"\"Mount your Google Drive at the specified mountpoint path.\"\"\"\u001b[0m\u001b[0;34m\u001b[0m\u001b[0;34m\u001b[0m\u001b[0m\n\u001b[0;32m--> 103\u001b[0;31m   return _mount(\n\u001b[0m\u001b[1;32m    104\u001b[0m       \u001b[0mmountpoint\u001b[0m\u001b[0;34m,\u001b[0m\u001b[0;34m\u001b[0m\u001b[0;34m\u001b[0m\u001b[0m\n\u001b[1;32m    105\u001b[0m       \u001b[0mforce_remount\u001b[0m\u001b[0;34m=\u001b[0m\u001b[0mforce_remount\u001b[0m\u001b[0;34m,\u001b[0m\u001b[0;34m\u001b[0m\u001b[0;34m\u001b[0m\u001b[0m\n",
            "\u001b[0;32m/usr/local/lib/python3.10/dist-packages/google/colab/drive.py\u001b[0m in \u001b[0;36m_mount\u001b[0;34m(mountpoint, force_remount, timeout_ms, ephemeral, readonly)\u001b[0m\n\u001b[1;32m    190\u001b[0m       \u001b[0;32mraise\u001b[0m \u001b[0mValueError\u001b[0m\u001b[0;34m(\u001b[0m\u001b[0;34m'Mountpoint must not be a symlink'\u001b[0m\u001b[0;34m)\u001b[0m\u001b[0;34m\u001b[0m\u001b[0;34m\u001b[0m\u001b[0m\n\u001b[1;32m    191\u001b[0m     \u001b[0;32mif\u001b[0m \u001b[0m_os\u001b[0m\u001b[0;34m.\u001b[0m\u001b[0mpath\u001b[0m\u001b[0;34m.\u001b[0m\u001b[0misdir\u001b[0m\u001b[0;34m(\u001b[0m\u001b[0mmountpoint\u001b[0m\u001b[0;34m)\u001b[0m \u001b[0;32mand\u001b[0m \u001b[0m_os\u001b[0m\u001b[0;34m.\u001b[0m\u001b[0mlistdir\u001b[0m\u001b[0;34m(\u001b[0m\u001b[0mmountpoint\u001b[0m\u001b[0;34m)\u001b[0m\u001b[0;34m:\u001b[0m\u001b[0;34m\u001b[0m\u001b[0;34m\u001b[0m\u001b[0m\n\u001b[0;32m--> 192\u001b[0;31m       \u001b[0;32mraise\u001b[0m \u001b[0mValueError\u001b[0m\u001b[0;34m(\u001b[0m\u001b[0;34m'Mountpoint must not already contain files'\u001b[0m\u001b[0;34m)\u001b[0m\u001b[0;34m\u001b[0m\u001b[0;34m\u001b[0m\u001b[0m\n\u001b[0m\u001b[1;32m    193\u001b[0m     \u001b[0;32mif\u001b[0m \u001b[0;32mnot\u001b[0m \u001b[0m_os\u001b[0m\u001b[0;34m.\u001b[0m\u001b[0mpath\u001b[0m\u001b[0;34m.\u001b[0m\u001b[0misdir\u001b[0m\u001b[0;34m(\u001b[0m\u001b[0mmountpoint\u001b[0m\u001b[0;34m)\u001b[0m \u001b[0;32mand\u001b[0m \u001b[0m_os\u001b[0m\u001b[0;34m.\u001b[0m\u001b[0mpath\u001b[0m\u001b[0;34m.\u001b[0m\u001b[0mexists\u001b[0m\u001b[0;34m(\u001b[0m\u001b[0mmountpoint\u001b[0m\u001b[0;34m)\u001b[0m\u001b[0;34m:\u001b[0m\u001b[0;34m\u001b[0m\u001b[0;34m\u001b[0m\u001b[0m\n\u001b[1;32m    194\u001b[0m       \u001b[0;32mraise\u001b[0m \u001b[0mValueError\u001b[0m\u001b[0;34m(\u001b[0m\u001b[0;34m'Mountpoint must either be a directory or not exist'\u001b[0m\u001b[0;34m)\u001b[0m\u001b[0;34m\u001b[0m\u001b[0;34m\u001b[0m\u001b[0m\n",
            "\u001b[0;31mValueError\u001b[0m: Mountpoint must not already contain files"
          ]
        }
      ]
    },
    {
      "cell_type": "code",
      "source": [
        "x = 5\n",
        "y = 7\n",
        "if x > 5:\n",
        "  x += 1\n",
        "  y = 8"
      ],
      "metadata": {
        "id": "2BT2Wu-5BOde"
      },
      "execution_count": 1,
      "outputs": []
    },
    {
      "cell_type": "code",
      "source": [
        "import numpy as np\n",
        "a = np.random.randn(100, 100)\n",
        "%timeit np.dot(a, a)"
      ],
      "metadata": {
        "colab": {
          "base_uri": "https://localhost:8080/"
        },
        "id": "fi9NnE1w9f73",
        "outputId": "f5fb6fe0-061b-47ce-b64d-d05683cc5072"
      },
      "execution_count": 3,
      "outputs": [
        {
          "output_type": "stream",
          "name": "stdout",
          "text": [
            "104 µs ± 33.4 µs per loop (mean ± std. dev. of 7 runs, 10000 loops each)\n"
          ]
        }
      ]
    },
    {
      "cell_type": "code",
      "source": [
        "%quickref"
      ],
      "metadata": {
        "id": "uRnuT0C_-l15"
      },
      "execution_count": 14,
      "outputs": []
    },
    {
      "cell_type": "code",
      "source": [
        "%magic\n"
      ],
      "metadata": {
        "id": "xPRGbw5vAVZg"
      },
      "execution_count": 15,
      "outputs": []
    },
    {
      "cell_type": "code",
      "source": [
        "%pwd"
      ],
      "metadata": {
        "colab": {
          "base_uri": "https://localhost:8080/",
          "height": 35
        },
        "id": "yzn9tl7TIhDr",
        "outputId": "e8ed3ca6-7172-49c4-b664-b4a2e0ae3445"
      },
      "execution_count": 16,
      "outputs": [
        {
          "output_type": "execute_result",
          "data": {
            "text/plain": [
              "'/content'"
            ],
            "application/vnd.google.colaboratory.intrinsic+json": {
              "type": "string"
            }
          },
          "metadata": {},
          "execution_count": 16
        }
      ]
    },
    {
      "cell_type": "code",
      "source": [
        "%matplotlib inline\n",
        "import matplotlib.pyplot as plt\n",
        "plt.plot(np.random.randn(50).cumsum())"
      ],
      "metadata": {
        "colab": {
          "base_uri": "https://localhost:8080/",
          "height": 447
        },
        "id": "pDOwjUdlCcvn",
        "outputId": "ccd0aa1e-f4f6-4fa0-f9fc-493e15fd611e"
      },
      "execution_count": 9,
      "outputs": [
        {
          "output_type": "execute_result",
          "data": {
            "text/plain": [
              "[<matplotlib.lines.Line2D at 0x7f0d8b3a4250>]"
            ]
          },
          "metadata": {},
          "execution_count": 9
        },
        {
          "output_type": "display_data",
          "data": {
            "text/plain": [
              "<Figure size 640x480 with 1 Axes>"
            ],
            "image/png": "[encoded data removed]"
          },
          "metadata": {}
        }
      ]
    },
    {
      "cell_type": "code",
      "source": [
        "'5' + 5"
      ],
      "metadata": {
        "colab": {
          "base_uri": "https://localhost:8080/",
          "height": 166
        },
        "id": "d6633zVdpHzP",
        "outputId": "f118e5c3-2346-4e5f-ee84-bc970f8fd0bd"
      },
      "execution_count": 76,
      "outputs": [
        {
          "output_type": "error",
          "ename": "TypeError",
          "evalue": "ignored",
          "traceback": [
            "\u001b[0;31m---------------------------------------------------------------------------\u001b[0m",
            "\u001b[0;31mTypeError\u001b[0m                                 Traceback (most recent call last)",
            "\u001b[0;32m<ipython-input-76-4dd8efb5fac1>\u001b[0m in \u001b[0;36m<cell line: 1>\u001b[0;34m()\u001b[0m\n\u001b[0;32m----> 1\u001b[0;31m \u001b[0;34m'5'\u001b[0m \u001b[0;34m+\u001b[0m \u001b[0;36m5\u001b[0m\u001b[0;34m\u001b[0m\u001b[0;34m\u001b[0m\u001b[0m\n\u001b[0m",
            "\u001b[0;31mTypeError\u001b[0m: can only concatenate str (not \"int\") to str"
          ]
        }
      ]
    },
    {
      "cell_type": "code",
      "source": [
        "#3d\n",
        "\n",
        "a = 'foo'\n",
        "\n",
        "print(a.capitalize())"
      ],
      "metadata": {
        "colab": {
          "base_uri": "https://localhost:8080/"
        },
        "id": "mo962NDSDMzz",
        "outputId": "dab5b36d-599f-4c84-b732-648575d627d6"
      },
      "execution_count": 77,
      "outputs": [
        {
          "output_type": "stream",
          "name": "stdout",
          "text": [
            "Foo\n"
          ]
        }
      ]
    },
    {
      "cell_type": "code",
      "source": [
        "# Geeeks for geeks\n",
        "txt = \"I have {an:.2f} Rupees!\"\n",
        "print(txt.format(an = 4))"
      ],
      "metadata": {
        "colab": {
          "base_uri": "https://localhost:8080/"
        },
        "id": "zNTUcoufQoxK",
        "outputId": "b75818fb-09a7-4cbe-87ca-8811fedd3a79"
      },
      "execution_count": 25,
      "outputs": [
        {
          "output_type": "stream",
          "name": "stdout",
          "text": [
            "I have 4.00 Rupees!\n"
          ]
        }
      ]
    },
    {
      "cell_type": "code",
      "source": [
        "x='F'\n",
        "y='f'\n",
        "print(x.isupper())\n",
        "print(y.isupper())"
      ],
      "metadata": {
        "colab": {
          "base_uri": "https://localhost:8080/"
        },
        "id": "S1KSnCytSHCF",
        "outputId": "318e0e78-7acb-4d4e-9455-0aee660a01fe"
      },
      "execution_count": 30,
      "outputs": [
        {
          "output_type": "stream",
          "name": "stdout",
          "text": [
            "True\n",
            "False\n"
          ]
        }
      ]
    },
    {
      "cell_type": "code",
      "source": [
        "#Ref: w3schools.com\n",
        "\n",
        "txt = \"Mi casa, su casa.\"\n",
        "\n",
        "x = txt.rindex(\"casa\")\n",
        "\n",
        "print(x)"
      ],
      "metadata": {
        "colab": {
          "base_uri": "https://localhost:8080/"
        },
        "id": "xfTgIdFISShr",
        "outputId": "cdbc84de-887f-4a59-d96c-e937fdae9a12"
      },
      "execution_count": 34,
      "outputs": [
        {
          "output_type": "stream",
          "name": "stdout",
          "text": [
            "12\n"
          ]
        }
      ]
    },
    {
      "cell_type": "code",
      "source": [
        "# www.programiz.com\n",
        "message = '     Learn    Python  '\n",
        "\n",
        "# remove leading and trailing whitespaces\n",
        "print('Message:', message.strip())"
      ],
      "metadata": {
        "colab": {
          "base_uri": "https://localhost:8080/"
        },
        "id": "lVM0t6eQStC6",
        "outputId": "5e510e03-cbf2-47da-de8f-0d01ca185e3d"
      },
      "execution_count": 78,
      "outputs": [
        {
          "output_type": "stream",
          "name": "stdout",
          "text": [
            "Message: Learn    Python\n"
          ]
        }
      ]
    },
    {
      "cell_type": "code",
      "source": [
        "# www.programiz.com\n",
        "\n",
        "sentence = \"Python is awesome\"\n",
        "\n",
        "# returns the centered padded string of length 24 \n",
        "new_string = sentence.center(24, '*')\n",
        "\n",
        "print(new_string)"
      ],
      "metadata": {
        "colab": {
          "base_uri": "https://localhost:8080/"
        },
        "id": "fU5QH0xPTfTv",
        "outputId": "36123351-f609-4eec-e95c-6455926ae5b7"
      },
      "execution_count": 36,
      "outputs": [
        {
          "output_type": "stream",
          "name": "stdout",
          "text": [
            "***Python is awesome****\n"
          ]
        }
      ]
    },
    {
      "cell_type": "code",
      "source": [
        "# www.programiz.com\n",
        "\n",
        "text = 'Python is fun'\n",
        "\n",
        "# find the index of 'is'\n",
        "result = text.index('is')\n",
        "print(result)"
      ],
      "metadata": {
        "colab": {
          "base_uri": "https://localhost:8080/"
        },
        "id": "n3U0mHbGT0Rf",
        "outputId": "65fd9d1a-8488-4bd0-e8db-3672b8bcffeb"
      },
      "execution_count": 37,
      "outputs": [
        {
          "output_type": "stream",
          "name": "stdout",
          "text": [
            "7\n"
          ]
        }
      ]
    },
    {
      "cell_type": "code",
      "source": [
        "# www.programiz.com\n",
        "\n",
        "text = ['Python', 'is', 'a', 'fun', 'programming', 'language']\n",
        "\n",
        "# join elements of text with space\n",
        "print(' '.join(text))"
      ],
      "metadata": {
        "colab": {
          "base_uri": "https://localhost:8080/"
        },
        "id": "LKv-AeQhUAd4",
        "outputId": "d4783a9b-4a4e-456e-f033-b9b05bc1c578"
      },
      "execution_count": 38,
      "outputs": [
        {
          "output_type": "stream",
          "name": "stdout",
          "text": [
            "Python is a fun programming language\n"
          ]
        }
      ]
    },
    {
      "cell_type": "code",
      "source": [
        "# www.programiz.com\n",
        "\n",
        "text = 'Python'\n",
        "\n",
        "# right aligns 'Python' up to width 10 using '*'\n",
        "result = text.rjust(10, '*')\n",
        "print(result)"
      ],
      "metadata": {
        "colab": {
          "base_uri": "https://localhost:8080/"
        },
        "id": "UZYCuujEULov",
        "outputId": "59b2dd65-d543-4146-c09a-caf191a076fb"
      },
      "execution_count": 80,
      "outputs": [
        {
          "output_type": "stream",
          "name": "stdout",
          "text": [
            "****Python\n"
          ]
        }
      ]
    },
    {
      "cell_type": "code",
      "source": [
        "# www.programiz.com\n",
        "name = \"JoHn CeNa\"\n",
        "\n",
        "# converts lowercase to uppercase and vice versa\n",
        "print(name.swapcase())"
      ],
      "metadata": {
        "colab": {
          "base_uri": "https://localhost:8080/"
        },
        "id": "9HZv1JR9UnTI",
        "outputId": "58ae471d-c024-430d-fcb9-f01539759d37"
      },
      "execution_count": 40,
      "outputs": [
        {
          "output_type": "stream",
          "name": "stdout",
          "text": [
            "jOhN cEnA\n"
          ]
        }
      ]
    },
    {
      "cell_type": "code",
      "source": [
        "# www.programiz.com\n",
        "print(name.count('e'))"
      ],
      "metadata": {
        "colab": {
          "base_uri": "https://localhost:8080/"
        },
        "id": "yLkzGFyuUxJU",
        "outputId": "e3a50b23-def8-4231-d77e-17e4a47ac3ac"
      },
      "execution_count": 43,
      "outputs": [
        {
          "output_type": "stream",
          "name": "stdout",
          "text": [
            "1\n"
          ]
        }
      ]
    },
    {
      "cell_type": "code",
      "source": [
        "# www.programiz.com\n",
        "# string contains either alphabet or number \n",
        "name1 = \"Python3\"\n",
        "\n",
        "print(name1.isalnum()) #True\n",
        "\n",
        "# string contains whitespace\n",
        "name2 = \"Python 3\"\n",
        "\n",
        "print(name2.isalnum()) #False"
      ],
      "metadata": {
        "colab": {
          "base_uri": "https://localhost:8080/"
        },
        "id": "y_FtilSqU5AG",
        "outputId": "6755efe9-7784-4e28-ea0a-082d6fc20432"
      },
      "execution_count": 44,
      "outputs": [
        {
          "output_type": "stream",
          "name": "stdout",
          "text": [
            "True\n",
            "False\n"
          ]
        }
      ]
    },
    {
      "cell_type": "code",
      "source": [
        "# www.programiz.com\n",
        "\n",
        "text = 'Python'\n",
        "\n",
        "# left aligns 'Python' up to width 10 using '*'\n",
        "result = text.ljust(10, '*')\n",
        "print(result)"
      ],
      "metadata": {
        "colab": {
          "base_uri": "https://localhost:8080/"
        },
        "id": "QqP3RNuPf2WR",
        "outputId": "f1731f6d-8e6e-46f2-fdec-6e73c1f35c99"
      },
      "execution_count": 45,
      "outputs": [
        {
          "output_type": "stream",
          "name": "stdout",
          "text": [
            "Python****\n"
          ]
        }
      ]
    },
    {
      "cell_type": "code",
      "source": [
        "# www.programiz.com\n",
        "string = \"Python is fun\"\n",
        "\n",
        "# 'is' separator is found\n",
        "print(string.rpartition('is '))\n",
        "\n",
        "# 'not' separator is not found\n",
        "print(string.rpartition('not '))\n",
        "\n",
        "string = \"Python is fun, isn't it\"\n",
        "\n",
        "# splits at last occurence of 'is'\n",
        "print(string.rpartition('is'))"
      ],
      "metadata": {
        "colab": {
          "base_uri": "https://localhost:8080/"
        },
        "id": "pXkm3ZhKU6aN",
        "outputId": "fb596378-d1b6-470a-c813-198d8c3916a9"
      },
      "execution_count": 46,
      "outputs": [
        {
          "output_type": "stream",
          "name": "stdout",
          "text": [
            "('Python ', 'is ', 'fun')\n",
            "('', '', 'Python is fun')\n",
            "('Python is fun, ', 'is', \"n't it\")\n"
          ]
        }
      ]
    },
    {
      "cell_type": "code",
      "source": [
        "# www.programiz.\n",
        "text = 'My favorite number is 25.'\n",
        "print(text.title())"
      ],
      "metadata": {
        "colab": {
          "base_uri": "https://localhost:8080/"
        },
        "id": "RFesWy_bU7pV",
        "outputId": "1ac598c5-26c3-4e6f-d13c-32b91426e7ce"
      },
      "execution_count": 47,
      "outputs": [
        {
          "output_type": "stream",
          "name": "stdout",
          "text": [
            "My Favorite Number Is 25.\n"
          ]
        }
      ]
    },
    {
      "cell_type": "code",
      "source": [
        "# www.tutorialspoint\n",
        "\n",
        "str=\"Hello! Welcome to Computer Engineering.\"\n",
        "str_encoded= str.encode('utf_32','replace')\n",
        "print(\"The encoded string is: \", str_encoded)\n",
        "str_decoded=str_encoded.decode('utf_32', 'replace')\n",
        "print(\"The decoded string is: \", str_decoded)"
      ],
      "metadata": {
        "colab": {
          "base_uri": "https://localhost:8080/"
        },
        "id": "GB-uKEfKghrs",
        "outputId": "5e94e480-2c7f-47e0-a936-0ae6a94e97c1"
      },
      "execution_count": 49,
      "outputs": [
        {
          "output_type": "stream",
          "name": "stdout",
          "text": [
            "The encoded string is:  b'\\xff\\xfe\\x00\\x00H\\x00\\x00\\x00e\\x00\\x00\\x00l\\x00\\x00\\x00l\\x00\\x00\\x00o\\x00\\x00\\x00!\\x00\\x00\\x00 \\x00\\x00\\x00W\\x00\\x00\\x00e\\x00\\x00\\x00l\\x00\\x00\\x00c\\x00\\x00\\x00o\\x00\\x00\\x00m\\x00\\x00\\x00e\\x00\\x00\\x00 \\x00\\x00\\x00t\\x00\\x00\\x00o\\x00\\x00\\x00 \\x00\\x00\\x00C\\x00\\x00\\x00o\\x00\\x00\\x00m\\x00\\x00\\x00p\\x00\\x00\\x00u\\x00\\x00\\x00t\\x00\\x00\\x00e\\x00\\x00\\x00r\\x00\\x00\\x00 \\x00\\x00\\x00E\\x00\\x00\\x00n\\x00\\x00\\x00g\\x00\\x00\\x00i\\x00\\x00\\x00n\\x00\\x00\\x00e\\x00\\x00\\x00e\\x00\\x00\\x00r\\x00\\x00\\x00i\\x00\\x00\\x00n\\x00\\x00\\x00g\\x00\\x00\\x00.\\x00\\x00\\x00'\n",
            "The decoded string is:  Hello! Welcome to Computer Engineering.\n"
          ]
        }
      ]
    },
    {
      "cell_type": "code",
      "source": [
        "text= 'Love thy neighbor'\n",
        "\n",
        "# splits at space\n",
        "print(text.rsplit())"
      ],
      "metadata": {
        "colab": {
          "base_uri": "https://localhost:8080/"
        },
        "id": "RvVzqi81hMgS",
        "outputId": "c56f311a-b0ef-421c-d339-c7de76526f19"
      },
      "execution_count": 50,
      "outputs": [
        {
          "output_type": "stream",
          "name": "stdout",
          "text": [
            "['Love', 'thy', 'neighbor']\n"
          ]
        }
      ]
    },
    {
      "cell_type": "code",
      "source": [
        "grocery = 'Milk, Chicken, Bread'\n",
        "\n",
        "# splits at ','\n",
        "print(grocery.rsplit(', '))\n",
        "\n",
        "# Splitting at ':'\n",
        "print(grocery.rsplit(':'))"
      ],
      "metadata": {
        "colab": {
          "base_uri": "https://localhost:8080/"
        },
        "id": "_f0shffMhqxf",
        "outputId": "c0f7dd07-a893-4a78-d072-c11f73d0adc5"
      },
      "execution_count": 51,
      "outputs": [
        {
          "output_type": "stream",
          "name": "stdout",
          "text": [
            "['Milk', 'Chicken', 'Bread']\n",
            "['Milk, Chicken, Bread']\n"
          ]
        }
      ]
    },
    {
      "cell_type": "code",
      "source": [
        "x='F'\n",
        "y='3'\n",
        "print(x.isalpha())\n",
        "print(y.isalpha())"
      ],
      "metadata": {
        "colab": {
          "base_uri": "https://localhost:8080/"
        },
        "id": "aQLP3swRhv36",
        "outputId": "4d841186-3bc3-4ee5-c88e-14552a77b6e2"
      },
      "execution_count": 54,
      "outputs": [
        {
          "output_type": "stream",
          "name": "stdout",
          "text": [
            "True\n",
            "False\n"
          ]
        }
      ]
    },
    {
      "cell_type": "code",
      "source": [
        "text= 'Love thy neighbor'\n",
        "\n",
        "print(text.lower())"
      ],
      "metadata": {
        "colab": {
          "base_uri": "https://localhost:8080/"
        },
        "id": "CFCq9t_TiAWk",
        "outputId": "383df41b-9846-4757-b365-a85320067d76"
      },
      "execution_count": 81,
      "outputs": [
        {
          "output_type": "stream",
          "name": "stdout",
          "text": [
            "love thy neighbor\n"
          ]
        }
      ]
    },
    {
      "cell_type": "code",
      "source": [
        "# w3schools.com\n",
        "\n",
        "#use a dictionary with ascii codes to replace 83 (S) with 80 (P):\n",
        "mydict = {83:  80}\n",
        "txt = \"Hello Sam!\"\n",
        "print(txt.translate(mydict))"
      ],
      "metadata": {
        "colab": {
          "base_uri": "https://localhost:8080/"
        },
        "id": "O4ZCrk88iZET",
        "outputId": "22b43ccb-f37c-4654-e3a7-0348868eea43"
      },
      "execution_count": 56,
      "outputs": [
        {
          "output_type": "stream",
          "name": "stdout",
          "text": [
            "Hello Pam!\n"
          ]
        }
      ]
    },
    {
      "cell_type": "code",
      "source": [
        "x='F'\n",
        "y='3'\n",
        "print(x.isdigit())\n",
        "print(y.isdigit())"
      ],
      "metadata": {
        "colab": {
          "base_uri": "https://localhost:8080/"
        },
        "id": "gOAT6Pjmji9G",
        "outputId": "faef1cbe-6c9f-46bf-a4be-a110bf0e0e00"
      },
      "execution_count": 58,
      "outputs": [
        {
          "output_type": "stream",
          "name": "stdout",
          "text": [
            "False\n",
            "True\n"
          ]
        }
      ]
    },
    {
      "cell_type": "code",
      "source": [
        "#programiz.com\n",
        "\n",
        "random_string = '   this is good '\n",
        "\n",
        "# Leading whitepsace are removed\n",
        "print(random_string.lstrip())\n",
        "\n",
        "# Argument doesn't contain space\n",
        "# No characters are removed.\n",
        "print(random_string.lstrip('sti'))\n",
        "\n",
        "print(random_string.lstrip('s ti'))\n",
        "\n",
        "website = 'https://www.programiz.com/'\n",
        "print(website.lstrip('htps:/.'))"
      ],
      "metadata": {
        "colab": {
          "base_uri": "https://localhost:8080/"
        },
        "id": "o7ApRrg5j05v",
        "outputId": "df651e50-1b87-4107-8fb6-ad744e923223"
      },
      "execution_count": 1,
      "outputs": [
        {
          "output_type": "stream",
          "name": "stdout",
          "text": [
            "this is good \n",
            "   this is good \n",
            "his is good \n",
            "www.programiz.com/\n"
          ]
        }
      ]
    },
    {
      "cell_type": "code",
      "source": [
        "x='Foo'\n",
        "print(x.upper())"
      ],
      "metadata": {
        "colab": {
          "base_uri": "https://localhost:8080/"
        },
        "id": "wQRYgaEokPkC",
        "outputId": "1956867e-8606-4be0-f2af-6bdc9827002e"
      },
      "execution_count": 60,
      "outputs": [
        {
          "output_type": "stream",
          "name": "stdout",
          "text": [
            "FOO\n"
          ]
        }
      ]
    },
    {
      "cell_type": "code",
      "source": [
        "x='Foo'\n",
        "print(x.endswith('o'))"
      ],
      "metadata": {
        "colab": {
          "base_uri": "https://localhost:8080/"
        },
        "id": "-56UdDi7kaEl",
        "outputId": "45d118c9-2957-41ea-c5d6-5e1c83c2e71b"
      },
      "execution_count": 61,
      "outputs": [
        {
          "output_type": "stream",
          "name": "stdout",
          "text": [
            "True\n"
          ]
        }
      ]
    },
    {
      "cell_type": "code",
      "source": [
        "x='o'\n",
        "print(x.islower())"
      ],
      "metadata": {
        "colab": {
          "base_uri": "https://localhost:8080/"
        },
        "id": "1f0O4uL8khX4",
        "outputId": "7c28f16a-9fa4-4c21-fb65-6661c60c3345"
      },
      "execution_count": 62,
      "outputs": [
        {
          "output_type": "stream",
          "name": "stdout",
          "text": [
            "True\n"
          ]
        }
      ]
    },
    {
      "cell_type": "code",
      "source": [
        "#programiz.com\n",
        "string = \"Python is fun\"\n",
        "\n",
        "# 'is' separator is found\n",
        "print(string.partition('is '))\n",
        "\n",
        "# 'not' separator is not found\n",
        "print(string.partition('not '))\n",
        "\n",
        "string = \"Python is fun, isn't it\"\n",
        "\n",
        "# splits at first occurence of 'is'\n",
        "print(string.partition('is'))"
      ],
      "metadata": {
        "colab": {
          "base_uri": "https://localhost:8080/"
        },
        "id": "2j7HRbgUkpFN",
        "outputId": "8c3a7c53-212e-41b6-9d59-f47a7f4b695d"
      },
      "execution_count": 63,
      "outputs": [
        {
          "output_type": "stream",
          "name": "stdout",
          "text": [
            "('Python ', 'is ', 'fun')\n",
            "('Python is fun', '', '')\n",
            "('Python ', 'is', \" fun, isn't it\")\n"
          ]
        }
      ]
    },
    {
      "cell_type": "code",
      "source": [
        "# programiz.com\n",
        "cars = 'BMW-Tesla-Range Rover'\n",
        "\n",
        "# split at '-'\n",
        "print(cars.split('-'))"
      ],
      "metadata": {
        "colab": {
          "base_uri": "https://localhost:8080/"
        },
        "id": "0pFinCYmk1Bl",
        "outputId": "7860b244-3720-4cdd-c441-220df4c8c115"
      },
      "execution_count": 2,
      "outputs": [
        {
          "output_type": "stream",
          "name": "stdout",
          "text": [
            "['BMW', 'Tesla', 'Range Rover']\n"
          ]
        }
      ]
    },
    {
      "cell_type": "code",
      "source": [
        "text = \"program is fun\"\n",
        "print(text.zfill(15))\n",
        "print(text.zfill(20))\n",
        "print(text.zfill(10))"
      ],
      "metadata": {
        "colab": {
          "base_uri": "https://localhost:8080/"
        },
        "id": "TSdqrRoXk-nK",
        "outputId": "e99d65a2-6206-4424-8761-46dd2fcf48ac"
      },
      "execution_count": 65,
      "outputs": [
        {
          "output_type": "stream",
          "name": "stdout",
          "text": [
            "0program is fun\n",
            "000000program is fun\n",
            "program is fun\n"
          ]
        }
      ]
    },
    {
      "cell_type": "code",
      "source": [
        "str = 'xyz\\t12345\\tabc'\n",
        "\n",
        "# no argument is passed\n",
        "# default tabsize is 8\n",
        "result = str.expandtabs()\n",
        "\n",
        "print(result)"
      ],
      "metadata": {
        "colab": {
          "base_uri": "https://localhost:8080/"
        },
        "id": "svq14XfglNjC",
        "outputId": "a3bbb94a-2711-470b-a825-2fea407154af"
      },
      "execution_count": 66,
      "outputs": [
        {
          "output_type": "stream",
          "name": "stdout",
          "text": [
            "xyz     12345   abc\n"
          ]
        }
      ]
    },
    {
      "cell_type": "code",
      "source": [
        "x='  '\n",
        "print(x.isspace())"
      ],
      "metadata": {
        "colab": {
          "base_uri": "https://localhost:8080/"
        },
        "id": "VVTSvk47ldR0",
        "outputId": "d7a8e7fc-0243-414d-dfae-ab22e2ff8c1f"
      },
      "execution_count": 3,
      "outputs": [
        {
          "output_type": "stream",
          "name": "stdout",
          "text": [
            "True\n"
          ]
        }
      ]
    },
    {
      "cell_type": "code",
      "source": [
        "text = \"program is fun\"\n",
        "print(text.replace('is','is not'))"
      ],
      "metadata": {
        "colab": {
          "base_uri": "https://localhost:8080/"
        },
        "id": "dsO1pHajllbr",
        "outputId": "8938e4ef-0ccf-43ca-a5e9-1f09eac4721f"
      },
      "execution_count": 68,
      "outputs": [
        {
          "output_type": "stream",
          "name": "stdout",
          "text": [
            "program is not fun\n"
          ]
        }
      ]
    },
    {
      "cell_type": "code",
      "source": [
        "# \\n is a line boundary \n",
        "sentence = 'I\\nlove\\nPython\\nProgramming.'\n",
        "\n",
        "# returns a list after spliting string at line breaks \n",
        "resulting_list = sentence.splitlines()\n",
        "\n",
        "print(resulting_list)"
      ],
      "metadata": {
        "colab": {
          "base_uri": "https://localhost:8080/"
        },
        "id": "YFABhH6Plx-w",
        "outputId": "c349ece6-9e34-45e7-ed46-59aad2f7f6c7"
      },
      "execution_count": 69,
      "outputs": [
        {
          "output_type": "stream",
          "name": "stdout",
          "text": [
            "['I', 'love', 'Python', 'Programming.']\n"
          ]
        }
      ]
    },
    {
      "cell_type": "code",
      "source": [
        "sentence = 'I love Python Programming.'\n",
        "print(sentence.find('on'))"
      ],
      "metadata": {
        "colab": {
          "base_uri": "https://localhost:8080/"
        },
        "id": "9Ggi2q0Ll6YA",
        "outputId": "8f66e864-f26a-472d-e55e-98e54332d8f5"
      },
      "execution_count": 71,
      "outputs": [
        {
          "output_type": "stream",
          "name": "stdout",
          "text": [
            "11\n"
          ]
        }
      ]
    },
    {
      "cell_type": "code",
      "source": [
        "s = 'Python Is Good.'\n",
        "print(s.istitle())\n",
        "\n",
        "s = 'Python is good'\n",
        "print(s.istitle())\n",
        "\n",
        "s = 'This Is @ Symbol.'\n",
        "print(s.istitle())\n",
        "\n",
        "s = '99 Is A Number'\n",
        "print(s.istitle())\n",
        "\n",
        "s = 'PYTHON'\n",
        "print(s.istitle())"
      ],
      "metadata": {
        "colab": {
          "base_uri": "https://localhost:8080/"
        },
        "id": "-2qiQ2HvmI5t",
        "outputId": "332e2b17-6005-42b1-9829-f9f217a9756c"
      },
      "execution_count": 72,
      "outputs": [
        {
          "output_type": "stream",
          "name": "stdout",
          "text": [
            "True\n",
            "False\n",
            "True\n",
            "True\n",
            "False\n"
          ]
        }
      ]
    },
    {
      "cell_type": "code",
      "source": [
        "txt = \"Mi casa, su casa.\"\n",
        "\n",
        "x = txt.rfind(\"casa\")\n",
        "\n",
        "print(x)"
      ],
      "metadata": {
        "colab": {
          "base_uri": "https://localhost:8080/"
        },
        "id": "vTlGuQsbmTy3",
        "outputId": "3a27af62-11bb-4ced-e896-fc55f5534d46"
      },
      "execution_count": 5,
      "outputs": [
        {
          "output_type": "stream",
          "name": "stdout",
          "text": [
            "12\n"
          ]
        }
      ]
    },
    {
      "cell_type": "code",
      "source": [
        "print(txt.startswith('Mi'))"
      ],
      "metadata": {
        "colab": {
          "base_uri": "https://localhost:8080/"
        },
        "id": "38Z_PZ5Immdi",
        "outputId": "3fcff85f-3f3b-4b4f-d204-2a40580068fd"
      },
      "execution_count": 8,
      "outputs": [
        {
          "output_type": "stream",
          "name": "stdout",
          "text": [
            "True\n"
          ]
        }
      ]
    },
    {
      "cell_type": "code",
      "source": [
        "a='foo'\n",
        "getattr(a, 'split')"
      ],
      "metadata": {
        "colab": {
          "base_uri": "https://localhost:8080/"
        },
        "id": "lX3bqQ2bmvhl",
        "outputId": "df81f92c-9909-4ccc-9456-7ac8cb08b7c8"
      },
      "execution_count": 10,
      "outputs": [
        {
          "output_type": "execute_result",
          "data": {
            "text/plain": [
              "<function str.split(sep=None, maxsplit=-1)>"
            ]
          },
          "metadata": {},
          "execution_count": 10
        }
      ]
    },
    {
      "cell_type": "code",
      "source": [],
      "metadata": {
        "id": "hdHOvRHNDzEg"
      },
      "execution_count": null,
      "outputs": []
    }
  ]
}