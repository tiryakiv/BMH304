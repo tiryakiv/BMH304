{
  "nbformat": 4,
  "nbformat_minor": 0,
  "metadata": {
    "colab": {
      "name": "programlama_dilleri_28mar22.ipynb",
      "provenance": [],
      "collapsed_sections": []
    },
    "kernelspec": {
      "name": "python3",
      "display_name": "Python 3"
    },
    "language_info": {
      "name": "python"
    }
  },
  "cells": [
    {
      "cell_type": "markdown",
      "source": [
        "Programlama dilleri dersi Colab defteri"
      ],
      "metadata": {
        "id": "UFaY6VBIHKMv"
      }
    },
    {
      "cell_type": "code",
      "source": [
        "!python --version"
      ],
      "metadata": {
        "colab": {
          "base_uri": "https://localhost:8080/"
        },
        "id": "559R4oYufuL8",
        "outputId": "d1d486f5-cb66-4bc6-84a1-8700efad65c2"
      },
      "execution_count": null,
      "outputs": [
        {
          "output_type": "stream",
          "name": "stdout",
          "text": [
            "Python 3.7.12\n"
          ]
        }
      ]
    },
    {
      "cell_type": "code",
      "source": [
        "a={\"elma\":3, \"armut\":4, \"kiraz\":5}\n",
        "print(a[\"elma\"])\n",
        "print(a[3])"
      ],
      "metadata": {
        "id": "80zMUHP7h7ed",
        "colab": {
          "base_uri": "https://localhost:8080/",
          "height": 218
        },
        "outputId": "049d1551-a4b5-48a2-9a3d-d16cc2e454f4"
      },
      "execution_count": null,
      "outputs": [
        {
          "output_type": "stream",
          "name": "stdout",
          "text": [
            "3\n"
          ]
        },
        {
          "output_type": "error",
          "ename": "KeyError",
          "evalue": "ignored",
          "traceback": [
            "\u001b[0;31m---------------------------------------------------------------------------\u001b[0m",
            "\u001b[0;31mKeyError\u001b[0m                                  Traceback (most recent call last)",
            "\u001b[0;32m<ipython-input-1-ed196a7fdce1>\u001b[0m in \u001b[0;36m<module>\u001b[0;34m()\u001b[0m\n\u001b[1;32m      1\u001b[0m \u001b[0ma\u001b[0m\u001b[0;34m=\u001b[0m\u001b[0;34m{\u001b[0m\u001b[0;34m\"elma\"\u001b[0m\u001b[0;34m:\u001b[0m\u001b[0;36m3\u001b[0m\u001b[0;34m,\u001b[0m \u001b[0;34m\"armut\"\u001b[0m\u001b[0;34m:\u001b[0m\u001b[0;36m4\u001b[0m\u001b[0;34m,\u001b[0m \u001b[0;34m\"kiraz\"\u001b[0m\u001b[0;34m:\u001b[0m\u001b[0;36m5\u001b[0m\u001b[0;34m}\u001b[0m\u001b[0;34m\u001b[0m\u001b[0;34m\u001b[0m\u001b[0m\n\u001b[1;32m      2\u001b[0m \u001b[0mprint\u001b[0m\u001b[0;34m(\u001b[0m\u001b[0ma\u001b[0m\u001b[0;34m[\u001b[0m\u001b[0;34m\"elma\"\u001b[0m\u001b[0;34m]\u001b[0m\u001b[0;34m)\u001b[0m\u001b[0;34m\u001b[0m\u001b[0;34m\u001b[0m\u001b[0m\n\u001b[0;32m----> 3\u001b[0;31m \u001b[0mprint\u001b[0m\u001b[0;34m(\u001b[0m\u001b[0ma\u001b[0m\u001b[0;34m[\u001b[0m\u001b[0;36m3\u001b[0m\u001b[0;34m]\u001b[0m\u001b[0;34m)\u001b[0m\u001b[0;34m\u001b[0m\u001b[0;34m\u001b[0m\u001b[0m\n\u001b[0m",
            "\u001b[0;31mKeyError\u001b[0m: 3"
          ]
        }
      ]
    },
    {
      "cell_type": "code",
      "source": [
        "# creating a new dictionary\n",
        "my_dict ={\"java\":100, \"python\":112, \"c\":11}\n",
        " \n",
        "# list out keys and values separately\n",
        "key_list = list(my_dict.keys())\n",
        "val_list = list(my_dict.values())"
      ],
      "metadata": {
        "id": "PF9FgOgLRve8"
      },
      "execution_count": null,
      "outputs": []
    },
    {
      "cell_type": "code",
      "source": [
        "key_list"
      ],
      "metadata": {
        "colab": {
          "base_uri": "https://localhost:8080/"
        },
        "id": "GUfm__iASgUB",
        "outputId": "465637d8-93f1-4841-a99b-7b0ec5b76bb6"
      },
      "execution_count": null,
      "outputs": [
        {
          "output_type": "execute_result",
          "data": {
            "text/plain": [
              "['java', 'python', 'c']"
            ]
          },
          "metadata": {},
          "execution_count": 3
        }
      ]
    },
    {
      "cell_type": "code",
      "source": [
        "int(Input(\"a:\"))"
      ],
      "metadata": {
        "id": "y2-rSIPMSjHI"
      },
      "execution_count": null,
      "outputs": []
    },
    {
      "cell_type": "code",
      "source": [
        "i=0\n",
        "i++\n"
      ],
      "metadata": {
        "colab": {
          "base_uri": "https://localhost:8080/",
          "height": 131
        },
        "id": "ztd26jNwWJq3",
        "outputId": "f780d4f8-e9ba-4319-b52a-bb8549d32402"
      },
      "execution_count": null,
      "outputs": [
        {
          "output_type": "error",
          "ename": "SyntaxError",
          "evalue": "ignored",
          "traceback": [
            "\u001b[0;36m  File \u001b[0;32m\"<ipython-input-4-22ce6d6d220d>\"\u001b[0;36m, line \u001b[0;32m2\u001b[0m\n\u001b[0;31m    i++\u001b[0m\n\u001b[0m       ^\u001b[0m\n\u001b[0;31mSyntaxError\u001b[0m\u001b[0;31m:\u001b[0m invalid syntax\n"
          ]
        }
      ]
    },
    {
      "cell_type": "code",
      "source": [
        "'''  PUANLI YARIŞMA\n",
        "Bir paragraflık bir metnin içindeki harflerin kullanım sıklığını hesaplayan bir \n",
        "fonksiyon yazın. Fonksiyon sadece metni argüman alacak. Çıktı olarak metinde \n",
        "hangi harf kaç defa geçiyor bu hesaplanacak ve liste olarak ekranda yazılacak.\n",
        " \n",
        "Örnek : \n",
        "girdi metin : \"Siirt Üniversitesi\"\n",
        "çıktı       : e:2; i:4; n:1; r:2; s:3; t:2; ü:1; v:1;\n",
        "\n",
        "Not: Büyük küçük harf hassasiyeti olmayacak. Metin içindeki boşluk ve noktalama \n",
        "işaretleri göz ardı edilecek.\n",
        "\n",
        "'''\n",
        "\n",
        "# Muhammed Sheharyar BUTT 1. Çözümü\n",
        "\n",
        "metin=\"Siirt Üniversitesi\"\n",
        "metin=metin.lower()\n",
        "metin=metin.replace(' ','')\n",
        "\n",
        "all_freq={} #dictionary kullanarak çözülüyor\n",
        "\n",
        "for i in metin:\n",
        "  if i in all_freq: #all_freq içinde i harfi varsa value 1 artırılıyor\n",
        "    all_freq[i]+=1\n",
        "  else:        #all_freq içinde i harfi yoksa yeni key oluşturuluyor\n",
        "    all_freq[i]=1\n",
        "    \n",
        "print(str(all_freq))\n"
      ],
      "metadata": {
        "colab": {
          "base_uri": "https://localhost:8080/"
        },
        "id": "pYN-CrSNWNm8",
        "outputId": "03062302-e2b2-49f0-bfdd-424cc4600237"
      },
      "execution_count": null,
      "outputs": [
        {
          "output_type": "stream",
          "name": "stdout",
          "text": [
            "{'s': 3, 'i': 5, 'r': 2, 't': 2, 'ü': 1, 'n': 1, 'v': 1, 'e': 2}\n"
          ]
        }
      ]
    },
    {
      "cell_type": "code",
      "source": [
        "# Muhammed Sheharyar BUTT 2. Çözümü\n",
        "from collections import Counter\n",
        "metin=\"Siirt Üniversitesi\"\n",
        "metin=metin.lower()\n",
        "metin=metin.replace(' ','')\n",
        "\n",
        "res=Counter(metin)\n",
        "print(str(res))"
      ],
      "metadata": {
        "colab": {
          "base_uri": "https://localhost:8080/"
        },
        "id": "escYhTzvhvDJ",
        "outputId": "f1396ce2-b824-48b9-ce0a-ff149dd4e972"
      },
      "execution_count": null,
      "outputs": [
        {
          "output_type": "stream",
          "name": "stdout",
          "text": [
            "Counter({'i': 5, 's': 3, 'r': 2, 't': 2, 'e': 2, 'ü': 1, 'n': 1, 'v': 1})\n"
          ]
        }
      ]
    },
    {
      "cell_type": "code",
      "source": [
        "a=\"araba\"\n",
        "a=a.upper()\n",
        "print(a)"
      ],
      "metadata": {
        "colab": {
          "base_uri": "https://localhost:8080/"
        },
        "id": "6TQ2yAtEizrp",
        "outputId": "5b2ee3fa-dde9-4283-d13c-6fdb7c5e1eb4"
      },
      "execution_count": null,
      "outputs": [
        {
          "output_type": "stream",
          "name": "stdout",
          "text": [
            "ARABA\n"
          ]
        }
      ]
    },
    {
      "cell_type": "code",
      "source": [
        "file = open('dosya.txt','w')\n",
        "file.write(\"merhaba\")\n",
        "file.close()"
      ],
      "metadata": {
        "id": "_T2bWLUmmQVq"
      },
      "execution_count": null,
      "outputs": []
    },
    {
      "cell_type": "code",
      "source": [
        "file=open('dosya.txt', 'r')\n",
        "veri=file.read()\n",
        "print(veri)\n",
        "file.close()"
      ],
      "metadata": {
        "colab": {
          "base_uri": "https://localhost:8080/"
        },
        "id": "YJHXklZHohS0",
        "outputId": "3143a470-de23-4678-9461-4b25cd67c692"
      },
      "execution_count": null,
      "outputs": [
        {
          "output_type": "stream",
          "name": "stdout",
          "text": [
            "merhaba\n"
          ]
        }
      ]
    },
    {
      "cell_type": "code",
      "source": [
        ""
      ],
      "metadata": {
        "id": "mwQKIsifpxmj"
      },
      "execution_count": null,
      "outputs": []
    }
  ]
}
