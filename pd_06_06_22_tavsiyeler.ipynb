{
  "nbformat": 4,
  "nbformat_minor": 0,
  "metadata": {
    "colab": {
      "name": "pd_06_06_22_tavsiyeler.ipynb",
      "provenance": [],
      "collapsed_sections": []
    },
    "kernelspec": {
      "name": "python3",
      "display_name": "Python 3"
    },
    "language_info": {
      "name": "python"
    }
  },
  "cells": [
    {
      "cell_type": "code",
      "execution_count": null,
      "metadata": {
        "colab": {
          "base_uri": "https://localhost:8080/"
        },
        "id": "ltsTWi8HXACL",
        "outputId": "71064cc1-e73d-44b4-b078-72a7c518b850"
      },
      "outputs": [
        {
          "output_type": "stream",
          "name": "stdout",
          "text": [
            "Corey\n",
            "Shafer\n"
          ]
        }
      ],
      "source": [
        "# Aşağıdaki konulardan finalde sorumlu değilsiniz, ancak bütünleme sınavında sorumlusunuz\n",
        "\n",
        "\n",
        "# https://www.youtube.com/watch?v=C-gEQdGVXbk\n",
        "# Geçen hafta kaldığımız yerden devam ediyoruz\n",
        "\n",
        "# 7 Getting and setting attributes\n",
        "# setattr ve getattr metotlarının kullanılması\n",
        "# Nesnelere değişken ismi kullanarak seri bir şekilde attribute atama işlemini sağlar\n",
        "\n",
        "\n",
        "class Person:\n",
        "  pass\n",
        "\n",
        "person=Person() # Person sınıfının instance'i\n",
        "\n",
        "person.first='Corey' #dinamik olarak attribute ekleyebiliyoruz\n",
        "person.last='Shafer'\n",
        "\n",
        "print(person.first)\n",
        "print(person.last)"
      ]
    },
    {
      "cell_type": "code",
      "source": [
        "# Buraya kadar herşey normal, fakat person instance'ına atamak istediğimiz attributelar\n",
        "# başka bir değişkenin değeri ise ne yapmalıyız?\n",
        "\n",
        "# Örnek ile görelim:\n",
        "class Person:\n",
        "  pass\n",
        "\n",
        "person=Person() # Person sınıfının instance'ı\n",
        "\n",
        "first_key='first'  # first_key bir değişken, first bu değişkenin değeri\n",
        "first_val='Corey'   #first_val bir değişken, 'Corey' bu değişkenin değeri\n",
        "\n",
        "# first_key'in değerini instance'ın attribute'ı yapmak istiyoruz. Bu attributeın \n",
        "# değerini first_val değişkeninin değerine eşitlemek istiyoruz\n",
        "\n",
        "# Yani önceki print cümlesinin aynısını çalıştırmak istiyoruz\n",
        "print(person.first)\n",
        "\n"
      ],
      "metadata": {
        "id": "IecDkvaDbD3H"
      },
      "execution_count": null,
      "outputs": []
    },
    {
      "cell_type": "code",
      "source": [
        "class Person:\n",
        "  pass\n",
        "\n",
        "person=Person() # Person sınıfının instance'ı\n",
        "\n",
        "first_key='first'  # first_key bir değişken, first bu değişkenin değeri\n",
        "first_val='Corey'   #first_val bir değişken, 'Corey' bu değişkenin değeri\n",
        "\n",
        "person.first_key=first_val # yazamayız böyle yaparsak person instance'ına first_key attributeı eklenmiş olur\n",
        "\n",
        "print(person.first)"
      ],
      "metadata": {
        "id": "9jI-ecGbcfJG"
      },
      "execution_count": null,
      "outputs": []
    },
    {
      "cell_type": "code",
      "source": [
        "class Person:\n",
        "  pass\n",
        "\n",
        "person=Person() # Person sınıfının instance'ı\n",
        "\n",
        "first_key='first'  # first_key bir değişken, first bu değişkenin değeri\n",
        "first_val='Corey'   #first_val bir değişken, 'Corey' bu değişkenin değeri\n",
        "\n",
        "setattr(person, 'first', 'Corey') #setattr bir değişkenin değerini kullanabilir\n",
        "\n",
        "print(person.first)"
      ],
      "metadata": {
        "colab": {
          "base_uri": "https://localhost:8080/"
        },
        "id": "SlkvL0W_c4sd",
        "outputId": "17633680-3e7d-4733-ee0d-2f88ac8ae152"
      },
      "execution_count": null,
      "outputs": [
        {
          "output_type": "stream",
          "name": "stdout",
          "text": [
            "Corey\n"
          ]
        }
      ]
    },
    {
      "cell_type": "code",
      "source": [
        "# İstediğimiz oldu ancak setattr ile değişken ismini kullanabiliriz\n",
        "class Person:\n",
        "  pass\n",
        "\n",
        "person=Person() # Person sınıfının instance'ı\n",
        "\n",
        "first_key='first'  # first_key bir değişken, first bu değişkenin değeri\n",
        "first_val='Corey'   #first_val bir değişken, 'Corey' bu değişkenin değeri\n",
        "\n",
        "setattr(person, first_key, first_val) #setattr bir değişkenin değerini kullanabilir\n",
        "\n",
        "print(person.first)"
      ],
      "metadata": {
        "colab": {
          "base_uri": "https://localhost:8080/"
        },
        "id": "ntX5JUz4dOCg",
        "outputId": "0518f6c1-bfba-4208-e2c0-e8a6fc143f59"
      },
      "execution_count": null,
      "outputs": [
        {
          "output_type": "stream",
          "name": "stdout",
          "text": [
            "Corey\n"
          ]
        }
      ]
    },
    {
      "cell_type": "code",
      "source": [
        "# Aynı sonuca ulaştık\n",
        "# getattr metodunu da benzer şekilde kullanabiliriz\n",
        "class Person:\n",
        "  pass\n",
        "\n",
        "person=Person()\n",
        "\n",
        "first_key='first'  \n",
        "first_val='Corey' \n",
        "\n",
        "setattr(person, first_key, first_val) \n",
        "first=getattr(person, first_key) #getattr kullanımı\n",
        "\n",
        "print(first) #"
      ],
      "metadata": {
        "colab": {
          "base_uri": "https://localhost:8080/"
        },
        "id": "JuYhvqQpdfW7",
        "outputId": "d7af8d0e-65bd-4b59-8308-3e4bdc837fb5"
      },
      "execution_count": null,
      "outputs": [
        {
          "output_type": "stream",
          "name": "stdout",
          "text": [
            "Corey\n"
          ]
        }
      ]
    },
    {
      "cell_type": "code",
      "source": [
        "# setattr ve getattr bu örneklerde önemsiz gibi görünebilir.\n",
        "# aşağıdaki örneği inceleyelim. \n",
        "# person instancea eklemek istediğimiz attributelar eğer dictionary formatında bize verilse\n",
        "# bunu nasıl ekleyebiliriz? Cevap: setattr metodu ile\n",
        "class Person:\n",
        "  pass\n",
        "\n",
        "person=Person()\n",
        "\n",
        "person_info={'first': 'Corey','last':'Shafer'}\n",
        "\n",
        "for key, value in person_info.items():\n",
        "  setattr(person,key,value)\n",
        "\n",
        "print(person.first)\n",
        "print(person.last)\n"
      ],
      "metadata": {
        "colab": {
          "base_uri": "https://localhost:8080/"
        },
        "id": "6_9Dwar1eFox",
        "outputId": "d1abcf6e-e4c4-4861-9a05-95f989287952"
      },
      "execution_count": null,
      "outputs": [
        {
          "output_type": "stream",
          "name": "stdout",
          "text": [
            "Corey\n",
            "Shafer\n"
          ]
        }
      ]
    },
    {
      "cell_type": "code",
      "source": [
        "# Ne kadar kolay bir şekilde attribute eklediğimizi gördünüz mü? Bu dictionary \n",
        "# içinde binlerce key value ikileri olabilirdi. Hepsini sadece iki satırlık for\n",
        "# döngüsü içinde ekledik :)\n",
        "\n",
        "# Şimdi de 2 ayrı print cümlesi kullanmadan attribute ve değerlerini ekranda yazdıralım\n",
        "\n",
        "class Person:\n",
        "  pass\n",
        "\n",
        "person=Person()\n",
        "\n",
        "person_info={'first': 'Corey','last':'Shafer'}\n",
        "\n",
        "for key, value in person_info.items():\n",
        "  setattr(person,key,value)\n",
        "\n",
        "for key in person_info.keys():\n",
        "  print(getattr(person,key))"
      ],
      "metadata": {
        "colab": {
          "base_uri": "https://localhost:8080/"
        },
        "id": "PMGdbIA3h0PY",
        "outputId": "0256ae4f-8106-4dde-c26e-5ee026c37770"
      },
      "execution_count": null,
      "outputs": [
        {
          "output_type": "stream",
          "name": "stdout",
          "text": [
            "Corey\n",
            "Shafer\n"
          ]
        }
      ]
    },
    {
      "cell_type": "code",
      "source": [
        "# Bahar 2022 dönemini burada bitirdik. \n",
        "\n"
      ],
      "metadata": {
        "id": "mSV46up_i98L"
      },
      "execution_count": null,
      "outputs": []
    }
  ]
}