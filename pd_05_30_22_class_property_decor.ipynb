{
  "nbformat": 4,
  "nbformat_minor": 0,
  "metadata": {
    "colab": {
      "name": "pd_05_30_22_class_property_decor.ipynb",
      "provenance": [],
      "collapsed_sections": []
    },
    "kernelspec": {
      "name": "python3",
      "display_name": "Python 3"
    },
    "language_info": {
      "name": "python"
    }
  },
  "cells": [
    {
      "cell_type": "code",
      "execution_count": null,
      "metadata": {
        "colab": {
          "base_uri": "https://localhost:8080/"
        },
        "id": "0B1QwmGOpgoN",
        "outputId": "ab63d1d9-df06-4889-e9ca-814c4ad039c8"
      },
      "outputs": [
        {
          "output_type": "stream",
          "name": "stdout",
          "text": [
            "John\n",
            "John.Smith@company.com\n",
            "John Smith\n"
          ]
        }
      ],
      "source": [
        "# Python OOP Tutorial 6: Property Decorators - Getters, Setters, and Deleters\n",
        "# Kaynak : Corey Shafer\n",
        "# https://www.youtube.com/watch?v=jCzT9XFZ5bw&t=502s\n",
        "\n",
        "# Property decorators Getter, Setter ve Deleter fonksiyonelliğini kullanmamızı sağlar\n",
        "# Hatırlarsanız email attribute'umuz ilk ve son isme bağlıydı\n",
        "\n",
        "# Hata çıktılı kod hücrelerini ne zaman hata alacağımızı göstermek için silmedim\n",
        "\n",
        "class Employee:\n",
        "\n",
        "  def __init__(self, first,last): \n",
        "    self.first=first \n",
        "    self.last=last\n",
        "    self.email=first +'.'+last+'@company.com'\n",
        "\n",
        "  def fullname(self): \n",
        "    return f\"{self.first} {self.last}\"\n",
        "\n",
        "emp_1=Employee('John','Smith') \n",
        "\n",
        "print(emp_1.first)\n",
        "print(emp_1.email)\n",
        "print(emp_1.fullname())"
      ]
    },
    {
      "cell_type": "code",
      "source": [
        "# Herşey beklediğimiz gibi çalıştı. \n",
        "# Simdi emp_1'in ilk ismini değiştirelim\n",
        "\n",
        "\n",
        "class Employee:\n",
        "\n",
        "  def __init__(self, first,last): \n",
        "    self.first=first \n",
        "    self.last=last\n",
        "    self.email=first +'.'+last+'@company.com'\n",
        "\n",
        "\n",
        "  def fullname(self): \n",
        "    return f\"{self.first} {self.last}\"\n",
        "\n",
        "emp_1=Employee('John','Smith') #Employee nesnesi\n",
        "\n",
        "emp_1.first='Jim'\n",
        "\n",
        "print(emp_1.first)\n",
        "print(emp_1.email)\n",
        "print(emp_1.fullname())"
      ],
      "metadata": {
        "colab": {
          "base_uri": "https://localhost:8080/"
        },
        "id": "yassqBNUqN2N",
        "outputId": "ac165de8-72b2-4620-8827-bfe0a8471556"
      },
      "execution_count": null,
      "outputs": [
        {
          "output_type": "stream",
          "name": "stdout",
          "text": [
            "Jim\n",
            "John.Smith@company.com\n",
            "Jim Smith\n"
          ]
        }
      ]
    },
    {
      "cell_type": "code",
      "source": [
        "# Burada emp_1'in ilk ismi ve tam isminin güncellendiğini ancak email adresinin\n",
        "# güncellenmedigini görüyoruz. Email adresi eski ismi gösteriyor.\n",
        "# Email adresinin ilk veya son isim değişikliğinde güncellenmesi gerekiyor, aksi halde sürekli manuel olarak güncellenmesi lazım\n",
        "# Çözüm olarak Employee sınıfı içinde bir email fonksiyonu yazmayı düşünebilirsiniz ancak bu iyi bir fikir değil,\n",
        "# çünkü bu sınıfı kullanan herkesin kodunu tüm instancelar için çalıştırması gerekecek. \n",
        "# Bir çalışanın ilk veya soyadı değiştiğinde email adresini manuel olarak \n",
        "# değiştirmek istemiyoruz. Otomatik olarak email adresinin güncellenmesini istiyoruz.\n",
        "# Burada diğer programlama dillerinde getter ve setter olarak geçen yöntemlere benzer bir yapı kullanacağız\n",
        "# Python'da bunu \"property decorator\" ile yapıyoruz.\n",
        "# Property decorator ile bir metot tanımlıyoruz ancak attribute gibi çağırabiliyoruz.\n",
        "\n",
        "class Employee:\n",
        "\n",
        "  def __init__(self, first,last): \n",
        "    self.first=first \n",
        "    self.last=last\n",
        "    #self.email=first +'.'+last+'@company.com' #bu satırı sildim\n",
        "\n",
        "  @property   #property decorator eklenmesi\n",
        "  def email(self): \n",
        "    return '{}.{}@company.com'.format(self.first, self.last)\n",
        "\n",
        "\n",
        "  def fullname(self): \n",
        "    return f\"{self.first} {self.last}\"\n",
        "\n",
        "emp_1=Employee('John','Smith') #Employee nesnesi\n",
        "\n",
        "emp_1.first='Jim'\n",
        "\n",
        "print(emp_1.first)\n",
        "print(emp_1.email) #Property decorator sayesinde email metoduna attribute gibi erişim sağlıyorum \n",
        "print(emp_1.fullname())"
      ],
      "metadata": {
        "id": "5en_6aCbrkgZ",
        "colab": {
          "base_uri": "https://localhost:8080/"
        },
        "outputId": "21e01f98-1e21-49dc-9540-e90e5d05ae0b"
      },
      "execution_count": null,
      "outputs": [
        {
          "output_type": "stream",
          "name": "stdout",
          "text": [
            "Jim\n",
            "Jim.Smith@company.com\n",
            "Jim Smith\n"
          ]
        }
      ]
    },
    {
      "cell_type": "code",
      "source": [
        "# fullname metodu için de property decorator tanımlayabiliriz\n",
        "\n",
        "class Employee:\n",
        "\n",
        "  def __init__(self, first,last): \n",
        "    self.first=first \n",
        "    self.last=last\n",
        "\n",
        "  @property   \n",
        "  def email(self): \n",
        "    return '{}.{}@company.com'.format(self.first, self.last)\n",
        "\n",
        "  @property \n",
        "  def fullname(self): \n",
        "    return f\"{self.first} {self.last}\"\n",
        "\n",
        "emp_1=Employee('John','Smith') \n",
        "\n",
        "emp_1.first='Jim'\n",
        "\n",
        "print(emp_1.first)\n",
        "print(emp_1.email) \n",
        "print(emp_1.fullname) # property decorator sayesinde attribute gibi erişim sağladım, parantez kalktı"
      ],
      "metadata": {
        "colab": {
          "base_uri": "https://localhost:8080/"
        },
        "id": "ylw8822zVxbG",
        "outputId": "61d0f68d-0c20-4e53-ebef-1522d00989e1"
      },
      "execution_count": null,
      "outputs": [
        {
          "output_type": "stream",
          "name": "stdout",
          "text": [
            "Jim\n",
            "Jim.Smith@company.com\n",
            "Jim Smith\n"
          ]
        }
      ]
    },
    {
      "cell_type": "code",
      "source": [
        "# fullname metoduna hem isim hem de soyad gönderebiliriz . hem isim hem soyad hem de email adresinin\n",
        "# güncellenmesini istiyoruz\n",
        "\n",
        "class Employee:\n",
        "\n",
        "  def __init__(self, first,last): \n",
        "    self.first=first \n",
        "    self.last=last\n",
        "\n",
        "  @property \n",
        "  def email(self): \n",
        "    return '{}.{}@company.com'.format(self.first, self.last)\n",
        "\n",
        "  @property\n",
        "  def fullname(self): \n",
        "    return f\"{self.first} {self.last}\"\n",
        "\n",
        "emp_1=Employee('John','Smith') \n",
        "\n",
        "emp_1.fullname = 'Corey Shafer'  #full name metoduna aynı anda isim ve soyad gönderilmesi\n",
        "\n",
        "print(emp_1.first)\n",
        "print(emp_1.email) \n",
        "print(emp_1.fullname) "
      ],
      "metadata": {
        "colab": {
          "base_uri": "https://localhost:8080/",
          "height": 235
        },
        "id": "1iVivAsRYo6y",
        "outputId": "87245cda-2127-4ab3-d276-3237c0f9f906"
      },
      "execution_count": null,
      "outputs": [
        {
          "output_type": "error",
          "ename": "AttributeError",
          "evalue": "ignored",
          "traceback": [
            "\u001b[0;31m---------------------------------------------------------------------------\u001b[0m",
            "\u001b[0;31mAttributeError\u001b[0m                            Traceback (most recent call last)",
            "\u001b[0;32m<ipython-input-15-59e1e22b028c>\u001b[0m in \u001b[0;36m<module>\u001b[0;34m()\u001b[0m\n\u001b[1;32m     18\u001b[0m \u001b[0memp_1\u001b[0m\u001b[0;34m=\u001b[0m\u001b[0mEmployee\u001b[0m\u001b[0;34m(\u001b[0m\u001b[0;34m'John'\u001b[0m\u001b[0;34m,\u001b[0m\u001b[0;34m'Smith'\u001b[0m\u001b[0;34m)\u001b[0m\u001b[0;34m\u001b[0m\u001b[0;34m\u001b[0m\u001b[0m\n\u001b[1;32m     19\u001b[0m \u001b[0;34m\u001b[0m\u001b[0m\n\u001b[0;32m---> 20\u001b[0;31m \u001b[0memp_1\u001b[0m\u001b[0;34m.\u001b[0m\u001b[0mfullname\u001b[0m \u001b[0;34m=\u001b[0m \u001b[0;34m'Corey Shafer'\u001b[0m  \u001b[0;31m#\u001b[0m\u001b[0;34m\u001b[0m\u001b[0;34m\u001b[0m\u001b[0m\n\u001b[0m\u001b[1;32m     21\u001b[0m \u001b[0;34m\u001b[0m\u001b[0m\n\u001b[1;32m     22\u001b[0m \u001b[0mprint\u001b[0m\u001b[0;34m(\u001b[0m\u001b[0memp_1\u001b[0m\u001b[0;34m.\u001b[0m\u001b[0mfirst\u001b[0m\u001b[0;34m)\u001b[0m\u001b[0;34m\u001b[0m\u001b[0;34m\u001b[0m\u001b[0m\n",
            "\u001b[0;31mAttributeError\u001b[0m: can't set attribute"
          ]
        }
      ]
    },
    {
      "cell_type": "code",
      "source": [
        "# fullname metoduna hem isim hem de soyad gönderebiliriz . hem isim hem soyad hem de email adresinin\n",
        "# güncellenmesini istiyoruz.\n",
        "\n",
        "# Yukarıda hata aldık. can't set attribute.\n",
        "# Bunu başarmak için setter kullanmalıyız. Aşağıdaki kodda değişiklikleri dikkatlice inceleyin\n",
        "# name.split() metodu kullanarak isim ve soyadı ikiye ayırdık\n",
        "\n",
        "class Employee:\n",
        "\n",
        "  def __init__(self, first,last): \n",
        "    self.first=first \n",
        "    self.last=last\n",
        "\n",
        "  @property \n",
        "  def email(self): \n",
        "    return '{}.{}@company.com'.format(self.first, self.last)\n",
        "\n",
        "  @property\n",
        "  def fullname(self): \n",
        "    return f\"{self.first} {self.last}\"\n",
        "\n",
        "  @fullname.setter  #setter tanımı buradan başladı\n",
        "  def fullname(self,name): #name set edilecek isim\n",
        "    first, last=name.split(' ')\n",
        "    self.first=first\n",
        "    self.last=last\n",
        "\n",
        "emp_1=Employee('John','Smith') \n",
        "\n",
        "emp_1.fullname = 'Corey Shafer'  #İsim soyad tek satırda geçiliyor\n",
        "\n",
        "print(emp_1.first)\n",
        "print(emp_1.email) \n",
        "print(emp_1.fullname) "
      ],
      "metadata": {
        "colab": {
          "base_uri": "https://localhost:8080/"
        },
        "id": "vTZD3E6sda5k",
        "outputId": "6d23fa9f-c9ce-4e5a-8549-f95bba8b948f"
      },
      "execution_count": null,
      "outputs": [
        {
          "output_type": "stream",
          "name": "stdout",
          "text": [
            "Corey\n",
            "Corey.Shafer@company.com\n",
            "Corey Shafer\n"
          ]
        }
      ]
    },
    {
      "cell_type": "code",
      "source": [
        "# şimdi hata almadan yapmayı başardık\n",
        "\n",
        "# DELETER konusuna geçiyorum\n",
        "# Bir çalışanın isim ve soyadını silmek istiyorum\n",
        "\n",
        "class Employee:\n",
        "\n",
        "  def __init__(self, first,last): \n",
        "    self.first=first \n",
        "    self.last=last\n",
        "\n",
        "  @property \n",
        "  def email(self): \n",
        "    return '{}.{}@company.com'.format(self.first, self.last)\n",
        "\n",
        "  @property\n",
        "  def fullname(self): \n",
        "    return f\"{self.first} {self.last}\"\n",
        "\n",
        "  @fullname.setter  \n",
        "  def fullname(self,name): \n",
        "    first, last=name.split(' ')\n",
        "    self.first=first\n",
        "    self.last=last\n",
        "\n",
        "\n",
        "  @fullname.deleter  #deleter tanımı buradan başladı\n",
        "  def fullname(self): #self'den başka argüman yok\n",
        "    print('Delete name!')\n",
        "    self.first=None\n",
        "    self.last=None\n",
        "\n",
        "emp_1=Employee('John','Smith') \n",
        "\n",
        "emp_1.fullname = 'Corey Shafer'  \n",
        "\n",
        "print(emp_1.first)\n",
        "print(emp_1.email) \n",
        "print(emp_1.fullname) \n",
        "\n",
        "del emp_1.fullname #deleter burada çağrıldı. Bİr attribute siliniyor\n",
        "\n",
        "print(emp_1.first)\n",
        "print(emp_1.email)"
      ],
      "metadata": {
        "colab": {
          "base_uri": "https://localhost:8080/"
        },
        "id": "iwtsKvpqeWec",
        "outputId": "499ec07c-3808-4d33-85f1-85d67e8ab355"
      },
      "execution_count": null,
      "outputs": [
        {
          "output_type": "stream",
          "name": "stdout",
          "text": [
            "Corey\n",
            "Corey.Shafer@company.com\n",
            "Corey Shafer\n",
            "Delete name!\n",
            "None\n",
            "None.None@company.com\n"
          ]
        }
      ]
    },
    {
      "cell_type": "code",
      "source": [
        "# property decorator konusu burada bitti\n"
      ],
      "metadata": {
        "id": "5NWPwv8tfsHr"
      },
      "execution_count": null,
      "outputs": []
    },
    {
      "cell_type": "code",
      "source": [
        "# Python için 10 ipucu ve yazım tavsiyesi\n",
        "# Corey Shafer\n",
        "# https://www.youtube.com/watch?v=C-gEQdGVXbk\n",
        "\n",
        "# 1) Ternary conditions\n",
        "# bir koşula bağlı olarak x'e değer atanması\n",
        "\n",
        "\n",
        "condition = True\n",
        "\n",
        "if condition:\n",
        "  x=1\n",
        "else:\n",
        "  x=0\n",
        "\n",
        "print(x)"
      ],
      "metadata": {
        "colab": {
          "base_uri": "https://localhost:8080/"
        },
        "id": "tIscfnQxgoMb",
        "outputId": "21a3f226-e956-4a29-d889-38f429d70c76"
      },
      "execution_count": null,
      "outputs": [
        {
          "output_type": "stream",
          "name": "stdout",
          "text": [
            "1\n"
          ]
        }
      ]
    },
    {
      "cell_type": "code",
      "source": [
        "# Yukarıdaki kodun yazılması için daha hızlı bir yol var\n",
        "# Sadece bir satırda ternary condition yazabiliriz\n",
        "\n",
        "# Amacımız kolay okunabilir ve yazılabilir kod yazmak\n",
        "\n",
        "condition = True\n",
        "\n",
        "x=1 if condition else 0\n",
        "\n",
        "print(x)"
      ],
      "metadata": {
        "colab": {
          "base_uri": "https://localhost:8080/"
        },
        "id": "U5aMziz7hwm5",
        "outputId": "3292e13f-76e9-4eb1-e2a8-df56ba32d661"
      },
      "execution_count": null,
      "outputs": [
        {
          "output_type": "stream",
          "name": "stdout",
          "text": [
            "1\n"
          ]
        }
      ]
    },
    {
      "cell_type": "code",
      "source": [
        "# 2) Buyuk sayılar\n",
        "num1=10000000000\n",
        "num2=100000000\n",
        "\n",
        "total=num1+num2\n",
        "print(total)"
      ],
      "metadata": {
        "colab": {
          "base_uri": "https://localhost:8080/"
        },
        "id": "CSvvgEOQiuQ0",
        "outputId": "2ed32573-61f1-4961-daf0-0950255b9f36"
      },
      "execution_count": null,
      "outputs": [
        {
          "output_type": "stream",
          "name": "stdout",
          "text": [
            "10100000000\n"
          ]
        }
      ]
    },
    {
      "cell_type": "code",
      "source": [
        "#sayıların okunmasını kolaylaştırabiliriz\n",
        "num1=10_000_000_000\n",
        "num2=100_000_000\n",
        "\n",
        "total=num1+num2\n",
        "print(total)"
      ],
      "metadata": {
        "colab": {
          "base_uri": "https://localhost:8080/"
        },
        "id": "gblb1wbSm3eM",
        "outputId": "cdee881d-8843-4eb9-afed-a2c4e5efa837"
      },
      "execution_count": null,
      "outputs": [
        {
          "output_type": "stream",
          "name": "stdout",
          "text": [
            "10100000000\n"
          ]
        }
      ]
    },
    {
      "cell_type": "code",
      "source": [
        "#sayıların okunmasını kolaylaştırabiliriz. sonuç için fstring kullanalım. Sonuç tabiki değişmiyor :)\n",
        "num1=10_000_000_000\n",
        "num2=100_000_000\n",
        "\n",
        "total=num1+num2\n",
        "print(f'{total:_}')"
      ],
      "metadata": {
        "colab": {
          "base_uri": "https://localhost:8080/"
        },
        "id": "wUwayt9fnFxR",
        "outputId": "2a116bd6-ddc1-4b49-a0ed-2fff17ad2c27"
      },
      "execution_count": null,
      "outputs": [
        {
          "output_type": "stream",
          "name": "stdout",
          "text": [
            "10_100_000_000\n"
          ]
        }
      ]
    },
    {
      "cell_type": "code",
      "source": [
        "# 3) Dosya açılması ve kapatılması\n",
        "f=open('test.txt','r')\n",
        "\n",
        "file_contents = f.read()\n",
        "f.close()\n",
        "\n",
        "words=file_contents.split(' ')\n",
        "word_count = len(words)\n",
        "print(word_count)\n",
        "\n",
        "# Yukarıdaki kod hata vermez ancak context manager (içerik yöneticisi) kullanırsak hata yapma ihtimalimizi azaltmış oluruz\n"
      ],
      "metadata": {
        "id": "mpPdEomAnlpk"
      },
      "execution_count": null,
      "outputs": []
    },
    {
      "cell_type": "code",
      "source": [
        "# 3) Dosya açılması ve kapatılması\n",
        "with open('test.txt','r') as f\n",
        "  file_contents = f.read()\n",
        "\n",
        "words=file_contents.split(' ')\n",
        "word_count = len(words)\n",
        "print(word_count)\n",
        "#dosyayı kapatmak zorunda değiliz\n"
      ],
      "metadata": {
        "id": "jD8vkoiqp-Zl"
      },
      "execution_count": null,
      "outputs": []
    },
    {
      "cell_type": "code",
      "source": [
        "# Ayrıca sadece dosya açıp kapatırken değil, tüm kaynaklar için yukarıdaki context manageri kullanabiliriz\n",
        "# Örnek: threads. Daha fazla bilgi için internette araştırabilirsiniz.\n"
      ],
      "metadata": {
        "id": "A9FP8NHrqRul"
      },
      "execution_count": null,
      "outputs": []
    },
    {
      "cell_type": "code",
      "source": [
        "# 4) enumerate metodu. Listeden veri okurken otomatik sıra numarasını döngü içine\n",
        "# entegre etmemizi sağlar\n",
        "\n",
        "names= ['Corey', 'Chris', 'Dave', 'Travis']\n",
        "index=0\n",
        "for name in names:\n",
        "  print(index,name)\n",
        "  index+=1"
      ],
      "metadata": {
        "id": "6ckeIbe535WP",
        "colab": {
          "base_uri": "https://localhost:8080/"
        },
        "outputId": "9f61cd42-6300-47e7-ca00-155e0b5407cf"
      },
      "execution_count": 2,
      "outputs": [
        {
          "output_type": "stream",
          "name": "stdout",
          "text": [
            "0 Corey\n",
            "1 Chris\n",
            "2 Dave\n",
            "3 Travis\n"
          ]
        }
      ]
    },
    {
      "cell_type": "code",
      "source": [
        "# Yukarıda yazılan kodu daha kısa hale getirmenin bir yolu var \n",
        "\n",
        "names= ['Corey', 'Chris', 'Dave', 'Travis']\n",
        "\n",
        "for index, name in enumerate(names):\n",
        "  print(index,name)"
      ],
      "metadata": {
        "colab": {
          "base_uri": "https://localhost:8080/"
        },
        "id": "PI3teGkxTeE9",
        "outputId": "6c855352-2a59-43b2-8ba7-4dd6a2897194"
      },
      "execution_count": 4,
      "outputs": [
        {
          "output_type": "stream",
          "name": "stdout",
          "text": [
            "0 Corey\n",
            "1 Chris\n",
            "2 Dave\n",
            "3 Travis\n"
          ]
        }
      ]
    },
    {
      "cell_type": "code",
      "source": [
        "# İstersek indexi 1'den veya başka bir sayıdan başlatabiliriz \n",
        "\n",
        "names= ['Corey', 'Chris', 'Dave', 'Travis']\n",
        "\n",
        "for index, name in enumerate(names, start=1):\n",
        "  print(index,name)"
      ],
      "metadata": {
        "colab": {
          "base_uri": "https://localhost:8080/"
        },
        "id": "oppdKX6AT-oW",
        "outputId": "e230d61b-6e89-450d-a270-6819d4f2d06f"
      },
      "execution_count": 5,
      "outputs": [
        {
          "output_type": "stream",
          "name": "stdout",
          "text": [
            "1 Corey\n",
            "2 Chris\n",
            "3 Dave\n",
            "4 Travis\n"
          ]
        }
      ]
    },
    {
      "cell_type": "code",
      "source": [
        "# 5) zip metodu: aynı uzunlukta farklı veriler ile işlem yapmayı kolaylaştıran metod\n",
        "# zip metodu ile birden fazla liste ile işlem yapabiliyoruz\n",
        "\n",
        "names=['Peter Parker', 'Clark Kent', 'Wade Wilson', 'Bruce Wayne']\n",
        "heroes=['Spiderman', 'Superman', 'Deadpool', 'Batman']\n",
        "ages= [25, 35, 30, 40]\n",
        "\n",
        "for name, hero, age in zip(names, heroes, ages):\n",
        "  print(f'{name} is actually {hero} and {age} years old')"
      ],
      "metadata": {
        "colab": {
          "base_uri": "https://localhost:8080/"
        },
        "id": "DO_i3fp23819",
        "outputId": "015efec2-dce4-4307-f28e-89b5e5444ae9"
      },
      "execution_count": null,
      "outputs": [
        {
          "output_type": "stream",
          "name": "stdout",
          "text": [
            "Peter Parker is actually Spiderman and 25 years old\n",
            "Clark Kent is actually Superman and 35 years old\n",
            "Wade Wilson is actually Deadpool and 30 years old\n",
            "Bruce Wayne is actually Batman and 40 years old\n"
          ]
        }
      ]
    },
    {
      "cell_type": "code",
      "source": [
        "# zip'le ilgili diğer fonksiyonlar için \"itertools\" kütüphanesini inceleyebilirsiniz"
      ],
      "metadata": {
        "id": "Ys9Lt2ytU7jm"
      },
      "execution_count": null,
      "outputs": []
    },
    {
      "cell_type": "code",
      "source": [
        "# 6) Unpacking (paket açma) aynı anda birden fazla değişkene değer atama \n",
        "# aslında zip fonksiyonu da bir nevi unpacking yapıyor\n",
        "a, b = (1,2)\n",
        "print(a)\n",
        "print(b)"
      ],
      "metadata": {
        "colab": {
          "base_uri": "https://localhost:8080/"
        },
        "id": "AR2DZMyQ63Cv",
        "outputId": "c435ad9a-d078-4904-bd1a-12b147ea4272"
      },
      "execution_count": null,
      "outputs": [
        {
          "output_type": "stream",
          "name": "stdout",
          "text": [
            "1\n",
            "2\n"
          ]
        }
      ]
    },
    {
      "cell_type": "code",
      "source": [
        "#yukarıda aynı satırda iki farklı değişkene değer ataması yapılıyor"
      ],
      "metadata": {
        "id": "wdcPBtMFVfPn"
      },
      "execution_count": null,
      "outputs": []
    },
    {
      "cell_type": "code",
      "source": [
        "a, b = (1,2+a)\n",
        "print(a)\n",
        "print(b)"
      ],
      "metadata": {
        "colab": {
          "base_uri": "https://localhost:8080/"
        },
        "id": "3VNKH1Bc984g",
        "outputId": "7bb385bb-c54c-42af-fc2a-0168748081c1"
      },
      "execution_count": null,
      "outputs": [
        {
          "output_type": "stream",
          "name": "stdout",
          "text": [
            "1\n",
            "3\n"
          ]
        }
      ]
    },
    {
      "cell_type": "code",
      "source": [
        "a, b = (1+b,2+a)\n",
        "print(a)\n",
        "print(b)"
      ],
      "metadata": {
        "colab": {
          "base_uri": "https://localhost:8080/"
        },
        "id": "-GtefqUJ-MYY",
        "outputId": "505cd2bd-37e8-4545-d74f-57dc9fcb1475"
      },
      "execution_count": null,
      "outputs": [
        {
          "output_type": "stream",
          "name": "stdout",
          "text": [
            "4\n",
            "3\n"
          ]
        }
      ]
    },
    {
      "cell_type": "code",
      "source": [
        "print(a)"
      ],
      "metadata": {
        "colab": {
          "base_uri": "https://localhost:8080/"
        },
        "id": "n5MuDV6z-bFX",
        "outputId": "7f2dccdb-69ef-4180-81db-ad34b4df5cac"
      },
      "execution_count": null,
      "outputs": [
        {
          "output_type": "stream",
          "name": "stdout",
          "text": [
            "4\n"
          ]
        }
      ]
    },
    {
      "cell_type": "code",
      "source": [
        "#ignore variable . bir değişkeni kullanmayı planlamıyorsak _ kullanabiliriz\n",
        "a, _ = (1,2)\n",
        "print(a)"
      ],
      "metadata": {
        "colab": {
          "base_uri": "https://localhost:8080/"
        },
        "id": "d9K20Tbh-nw-",
        "outputId": "79d00a35-1410-4b7d-df93-553ae71d5ce5"
      },
      "execution_count": null,
      "outputs": [
        {
          "output_type": "stream",
          "name": "stdout",
          "text": [
            "1\n"
          ]
        }
      ]
    },
    {
      "cell_type": "code",
      "source": [
        "a, b, c= (1,2)"
      ],
      "metadata": {
        "colab": {
          "base_uri": "https://localhost:8080/",
          "height": 166
        },
        "id": "-LHvPKwo_RzF",
        "outputId": "52b06fae-2bcc-445c-858f-4ca1cbc018fe"
      },
      "execution_count": null,
      "outputs": [
        {
          "output_type": "error",
          "ename": "ValueError",
          "evalue": "ignored",
          "traceback": [
            "\u001b[0;31m---------------------------------------------------------------------------\u001b[0m",
            "\u001b[0;31mValueError\u001b[0m                                Traceback (most recent call last)",
            "\u001b[0;32m<ipython-input-13-a9a086483a56>\u001b[0m in \u001b[0;36m<module>\u001b[0;34m()\u001b[0m\n\u001b[0;32m----> 1\u001b[0;31m \u001b[0ma\u001b[0m\u001b[0;34m,\u001b[0m \u001b[0mb\u001b[0m\u001b[0;34m,\u001b[0m \u001b[0mc\u001b[0m\u001b[0;34m=\u001b[0m \u001b[0;34m(\u001b[0m\u001b[0;36m1\u001b[0m\u001b[0;34m,\u001b[0m\u001b[0;36m2\u001b[0m\u001b[0;34m)\u001b[0m\u001b[0;34m\u001b[0m\u001b[0;34m\u001b[0m\u001b[0m\n\u001b[0m",
            "\u001b[0;31mValueError\u001b[0m: not enough values to unpack (expected 3, got 2)"
          ]
        }
      ]
    },
    {
      "cell_type": "code",
      "source": [
        "# value error aldık."
      ],
      "metadata": {
        "id": "DZXyZtTWVzD4"
      },
      "execution_count": null,
      "outputs": []
    },
    {
      "cell_type": "code",
      "source": [
        "a, b, c= (1,2,3,4,5)"
      ],
      "metadata": {
        "colab": {
          "base_uri": "https://localhost:8080/",
          "height": 166
        },
        "id": "tJBzGgzcV3q2",
        "outputId": "5daede3c-3cf8-4c96-8907-7bf14ef65fcf"
      },
      "execution_count": 6,
      "outputs": [
        {
          "output_type": "error",
          "ename": "ValueError",
          "evalue": "ignored",
          "traceback": [
            "\u001b[0;31m---------------------------------------------------------------------------\u001b[0m",
            "\u001b[0;31mValueError\u001b[0m                                Traceback (most recent call last)",
            "\u001b[0;32m<ipython-input-6-736d70ab8b31>\u001b[0m in \u001b[0;36m<module>\u001b[0;34m()\u001b[0m\n\u001b[0;32m----> 1\u001b[0;31m \u001b[0ma\u001b[0m\u001b[0;34m,\u001b[0m \u001b[0mb\u001b[0m\u001b[0;34m,\u001b[0m \u001b[0mc\u001b[0m\u001b[0;34m=\u001b[0m \u001b[0;34m(\u001b[0m\u001b[0;36m1\u001b[0m\u001b[0;34m,\u001b[0m\u001b[0;36m2\u001b[0m\u001b[0;34m,\u001b[0m\u001b[0;36m3\u001b[0m\u001b[0;34m,\u001b[0m\u001b[0;36m4\u001b[0m\u001b[0;34m,\u001b[0m\u001b[0;36m5\u001b[0m\u001b[0;34m)\u001b[0m\u001b[0;34m\u001b[0m\u001b[0;34m\u001b[0m\u001b[0m\n\u001b[0m",
            "\u001b[0;31mValueError\u001b[0m: too many values to unpack (expected 3)"
          ]
        }
      ]
    },
    {
      "cell_type": "code",
      "source": [
        "a, b, *c= (1,2,3,4,5)\n",
        "print(a)\n",
        "print(b)\n",
        "print(c)"
      ],
      "metadata": {
        "colab": {
          "base_uri": "https://localhost:8080/"
        },
        "id": "dsje2KSfV7bn",
        "outputId": "daadf791-d137-44ae-d685-3153f36b3731"
      },
      "execution_count": 8,
      "outputs": [
        {
          "output_type": "stream",
          "name": "stdout",
          "text": [
            "1\n",
            "2\n",
            "[3, 4, 5]\n"
          ]
        }
      ]
    },
    {
      "cell_type": "code",
      "source": [
        "a, b, *_= (1,2,3,4,5)\n",
        "print(a)\n",
        "print(b)\n",
        "# print(c)"
      ],
      "metadata": {
        "colab": {
          "base_uri": "https://localhost:8080/"
        },
        "id": "1annV8vyWJ9N",
        "outputId": "b7cf66fe-3c95-495a-b778-9f133ffca50c"
      },
      "execution_count": 9,
      "outputs": [
        {
          "output_type": "stream",
          "name": "stdout",
          "text": [
            "1\n",
            "2\n"
          ]
        }
      ]
    },
    {
      "cell_type": "code",
      "source": [
        "a, b, *c, d= (1,2,3,4,5)\n",
        "print(a)\n",
        "print(b)\n",
        "print(c)\n",
        "print(d)"
      ],
      "metadata": {
        "colab": {
          "base_uri": "https://localhost:8080/"
        },
        "id": "3KKMI54hWSE2",
        "outputId": "4ffde1bb-8a75-4a67-c040-53821839df7e"
      },
      "execution_count": 10,
      "outputs": [
        {
          "output_type": "stream",
          "name": "stdout",
          "text": [
            "1\n",
            "2\n",
            "[3, 4]\n",
            "5\n"
          ]
        }
      ]
    },
    {
      "cell_type": "code",
      "source": [
        "a, b, *c, d= (1,2,3,4,5,6,7)\n",
        "print(a)\n",
        "print(b)\n",
        "print(c)\n",
        "print(d)"
      ],
      "metadata": {
        "colab": {
          "base_uri": "https://localhost:8080/"
        },
        "id": "ApWLzk4TWdvW",
        "outputId": "3b304d8b-027e-471f-df96-de076c714286"
      },
      "execution_count": 11,
      "outputs": [
        {
          "output_type": "stream",
          "name": "stdout",
          "text": [
            "1\n",
            "2\n",
            "[3, 4, 5, 6]\n",
            "7\n"
          ]
        }
      ]
    },
    {
      "cell_type": "code",
      "source": [
        "a, b, *_, d= (1,2,3,4,5,6,7)\n",
        "print(a)\n",
        "print(b)\n",
        "# print(c)\n",
        "print(d)"
      ],
      "metadata": {
        "colab": {
          "base_uri": "https://localhost:8080/"
        },
        "id": "w-FokOe2Wjaf",
        "outputId": "14d5f61d-4fc5-456c-91f6-6f3f39908613"
      },
      "execution_count": 12,
      "outputs": [
        {
          "output_type": "stream",
          "name": "stdout",
          "text": [
            "1\n",
            "2\n",
            "7\n"
          ]
        }
      ]
    },
    {
      "cell_type": "code",
      "source": [
        "a, b, c= (1,2, _)\n",
        "print(a)\n",
        "print(c)"
      ],
      "metadata": {
        "colab": {
          "base_uri": "https://localhost:8080/"
        },
        "id": "5jteTIsI_uj0",
        "outputId": "2d077c37-bece-4838-bb1d-8920be0c6460"
      },
      "execution_count": null,
      "outputs": [
        {
          "output_type": "stream",
          "name": "stdout",
          "text": [
            "1\n",
            "2\n"
          ]
        }
      ]
    },
    {
      "cell_type": "code",
      "source": [
        "# bu hafta burada bitti. Haftaya kaldığımız yerden devam edeceğiz"
      ],
      "metadata": {
        "id": "gNPlRhqyWILG"
      },
      "execution_count": null,
      "outputs": []
    },
    {
      "cell_type": "code",
      "source": [
        ""
      ],
      "metadata": {
        "id": "f7NbgLRz_ytM"
      },
      "execution_count": null,
      "outputs": []
    }
  ]
}