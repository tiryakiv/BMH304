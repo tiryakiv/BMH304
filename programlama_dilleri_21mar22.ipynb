{
  "nbformat": 4,
  "nbformat_minor": 0,
  "metadata": {
    "colab": {
      "name": "programlama_dilleri_21mar22.ipynb",
      "provenance": [],
      "collapsed_sections": []
    },
    "kernelspec": {
      "name": "python3",
      "display_name": "Python 3"
    },
    "language_info": {
      "name": "python"
    }
  },
  "cells": [
    {
      "cell_type": "markdown",
      "source": [
        "Programlama dilleri dersi Colab defteri"
      ],
      "metadata": {
        "id": "UFaY6VBIHKMv"
      }
    },
    {
      "cell_type": "code",
      "source": [
        "!python --version"
      ],
      "metadata": {
        "colab": {
          "base_uri": "https://localhost:8080/"
        },
        "id": "559R4oYufuL8",
        "outputId": "d1d486f5-cb66-4bc6-84a1-8700efad65c2"
      },
      "execution_count": null,
      "outputs": [
        {
          "output_type": "stream",
          "name": "stdout",
          "text": [
            "Python 3.7.12\n"
          ]
        }
      ]
    },
    {
      "cell_type": "code",
      "source": [
        "class Point:\n",
        "    x: int\n",
        "    y: int\n",
        "\n",
        "def where_is(point):\n",
        "    match point:\n",
        "        case Point(x=0, y=0):\n",
        "            print(\"Origin\")\n",
        "        case Point(x=0, y=y):\n",
        "            print(f\"Y={y}\")\n",
        "        case Point(x=x, y=0):\n",
        "            print(f\"X={x}\")\n",
        "        case Point():\n",
        "            print(\"Somewhere else\")\n",
        "        case _:\n",
        "            print(\"Not a point\")"
      ],
      "metadata": {
        "id": "vjLe4vinNd9N"
      },
      "execution_count": null,
      "outputs": []
    },
    {
      "cell_type": "code",
      "source": [
        "match points:\n",
        "    case []:\n",
        "        print(\"No points\")\n",
        "    case [Point(0, 0)]:\n",
        "        print(\"The origin\")\n",
        "    case [Point(x, y)]:\n",
        "        print(f\"Single point {x}, {y}\")\n",
        "    case [Point(0, y1), Point(0, y2)]:\n",
        "        print(f\"Two on the Y axis at {y1}, {y2}\")\n",
        "    case _:\n",
        "        print(\"Something else\")"
      ],
      "metadata": {
        "id": "weOJ8pn_NikF"
      },
      "execution_count": null,
      "outputs": []
    },
    {
      "cell_type": "code",
      "source": [
        "from enum import Enum\n",
        "class Color(Enum):\n",
        "    RED = 'red'\n",
        "    GREEN = 'green'\n",
        "    BLUE = 'blue'\n",
        "\n",
        "color = Color(input(\"Enter your choice of 'red', 'blue' or 'green': \"))\n",
        "\n",
        "match color:\n",
        "    case Color.RED:\n",
        "        print(\"I see red!\")\n",
        "    case Color.GREEN:\n",
        "        print(\"Grass is green\")\n",
        "    case Color.BLUE:\n",
        "        print(\"I'm feeling the blues :(\")"
      ],
      "metadata": {
        "id": "eqv0xZqwNu6c"
      },
      "execution_count": null,
      "outputs": []
    },
    {
      "cell_type": "code",
      "source": [
        "def fib(n):    # n'e kadar Fibonacci serilerini yazan fonksiyon\n",
        "...     \"\"\"Print a Fibonacci series up to n.\"\"\"\n",
        "...     a, b = 0, 1\n",
        "...     while a < n:\n",
        "...         print(a, end=' ')\n",
        "...         a, b = b, a+b"
      ],
      "metadata": {
        "id": "V6jmZa5vLRqR"
      },
      "execution_count": null,
      "outputs": []
    },
    {
      "cell_type": "code",
      "source": [
        "fib(2000)"
      ],
      "metadata": {
        "colab": {
          "base_uri": "https://localhost:8080/"
        },
        "id": "SGaV4n9YMaOF",
        "outputId": "06a1cf22-1909-4d9c-a66a-2dc14edc5e53"
      },
      "execution_count": null,
      "outputs": [
        {
          "output_type": "stream",
          "name": "stdout",
          "text": [
            "0 1 1 2 3 5 8 13 21 34 55 89 144 233 377 610 987 1597 "
          ]
        }
      ]
    },
    {
      "cell_type": "code",
      "source": [
        "fib"
      ],
      "metadata": {
        "colab": {
          "base_uri": "https://localhost:8080/"
        },
        "id": "x8eSbf_-OGDb",
        "outputId": "1a2eec3f-d734-4615-9aea-36057600d547"
      },
      "execution_count": null,
      "outputs": [
        {
          "output_type": "execute_result",
          "data": {
            "text/plain": [
              "<function __main__.fib>"
            ]
          },
          "metadata": {},
          "execution_count": 13
        }
      ]
    },
    {
      "cell_type": "code",
      "source": [
        "f=fib\n",
        "f(100)"
      ],
      "metadata": {
        "colab": {
          "base_uri": "https://localhost:8080/"
        },
        "id": "OU7gjckoOPhy",
        "outputId": "5be4d2a0-1bb9-49f8-ce53-25f450df1c9c"
      },
      "execution_count": null,
      "outputs": [
        {
          "output_type": "stream",
          "name": "stdout",
          "text": [
            "0 1 1 2 3 5 8 13 21 34 55 89 "
          ]
        }
      ]
    },
    {
      "cell_type": "code",
      "source": [
        "# Aldığı sayıya kadar olan sayılardan basamaklarının sayı değerleri küpleri \n",
        "# toplamı kendine eşitse bu sayıları ekranda yazdıran fonksiyonu yazın. \n",
        "# bu sayı en fazla 1000 olabilir \n",
        "def kuplertoplam(n):\n",
        "    for i1 in range(1,n):\n",
        "      #birler basamağı\n",
        "      bb=i1%10\n",
        "      #onlar basamağı\n",
        "      ob=(i1//10)%10\n",
        "      #yüzler basamağı\n",
        "      yb=i1//100\n",
        "      if i1==bb**3+ob**3+yb**3:\n",
        "        print(i1)"
      ],
      "metadata": {
        "id": "RTx7lQDgOTuC"
      },
      "execution_count": null,
      "outputs": []
    },
    {
      "cell_type": "code",
      "source": [
        "kuplertoplam(999)"
      ],
      "metadata": {
        "colab": {
          "base_uri": "https://localhost:8080/"
        },
        "id": "L9kRXIo0S4zW",
        "outputId": "1abd04c4-7aa3-488d-bbba-055e5add2669"
      },
      "execution_count": null,
      "outputs": [
        {
          "output_type": "stream",
          "name": "stdout",
          "text": [
            "1\n",
            "153\n",
            "370\n",
            "371\n",
            "407\n"
          ]
        }
      ]
    },
    {
      "cell_type": "code",
      "source": [
        "# Aldığı sayıya kadar olan sayılardan basamaklarının sayı değerleri küpleri \n",
        "# toplamı kendine eşitse bu sayıları ekranda yazdıran fonksiyonu yazın. \n",
        "# bu sayı herhangi bir sayı olabilir \n",
        "def kuplertoplam2(n):\n",
        "    for i1 in range(1,n+1):\n",
        "      sa_str=str(i1)\n",
        "      bs=len(sa_str)\n",
        "      sd=[]\n",
        "      for j1 in range(1,bs+1):\n",
        "        sd.append(int(sa_str[j1-1]))\n",
        "      #sayı değerleri küp toplamı bul\n",
        "      top=0\n",
        "      for k1 in range(0,bs):\n",
        "        top=top+sd[k1]*sd[k1]*sd[k1]\n",
        "      if i1==top:\n",
        "        print(i1)"
      ],
      "metadata": {
        "id": "Z21ir7WIdKpM"
      },
      "execution_count": null,
      "outputs": []
    },
    {
      "cell_type": "code",
      "source": [
        "kuplertoplam2(1000000)"
      ],
      "metadata": {
        "colab": {
          "base_uri": "https://localhost:8080/"
        },
        "id": "5Nj7H9FnjSvA",
        "outputId": "39b350b2-854f-4285-fb3b-b61a495cd64b"
      },
      "execution_count": null,
      "outputs": [
        {
          "output_type": "stream",
          "name": "stdout",
          "text": [
            "1\n",
            "153\n",
            "370\n",
            "371\n",
            "407\n"
          ]
        }
      ]
    },
    {
      "cell_type": "code",
      "source": [
        ""
      ],
      "metadata": {
        "id": "80zMUHP7h7ed"
      },
      "execution_count": null,
      "outputs": []
    }
  ]
}